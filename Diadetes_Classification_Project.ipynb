{
  "nbformat": 4,
  "nbformat_minor": 0,
  "metadata": {
    "colab": {
      "provenance": [],
      "include_colab_link": true
    },
    "kernelspec": {
      "name": "python3",
      "display_name": "Python 3"
    },
    "language_info": {
      "name": "python"
    }
  },
  "cells": [
    {
      "cell_type": "markdown",
      "metadata": {
        "id": "view-in-github",
        "colab_type": "text"
      },
      "source": [
        "<a href=\"https://colab.research.google.com/github/Akshay4729/Classification-ML-Models/blob/main/Diadetes_Classification_Project.ipynb\" target=\"_parent\"><img src=\"https://colab.research.google.com/assets/colab-badge.svg\" alt=\"Open In Colab\"/></a>"
      ]
    },
    {
      "cell_type": "code",
      "execution_count": 1,
      "metadata": {
        "id": "kR2za6GgLaSq"
      },
      "outputs": [],
      "source": [
        "import pandas as pd\n",
        "import numpy as np\n",
        "import matplotlib.pyplot as plt\n",
        "import seaborn as sns\n",
        "import plotly.express  as px\n",
        "from sklearn.linear_model import LogisticRegression\n",
        "from sklearn.model_selection import train_test_split\n",
        "from sklearn.preprocessing import OneHotEncoder\n",
        "from sklearn.model_selection import GridSearchCV\n",
        "from sklearn.model_selection import RandomizedSearchCV\n",
        "from sklearn.model_selection import train_test_split\n",
        "from sklearn import ensemble\n",
        "from sklearn.metrics import classification_report\n",
        "from sklearn.tree import DecisionTreeClassifier\n",
        "from sklearn.ensemble import RandomForestClassifier\n",
        "from scipy.stats import randint as sp_randint\n",
        "from imblearn.over_sampling import SMOTE\n",
        "from imblearn.over_sampling import SMOTE"
      ]
    },
    {
      "cell_type": "code",
      "source": [
        "df=pd.read_excel('/content/diabetes.xlsx')"
      ],
      "metadata": {
        "id": "VKDV1XiLLbya"
      },
      "execution_count": 2,
      "outputs": []
    },
    {
      "cell_type": "code",
      "source": [
        "df.head()"
      ],
      "metadata": {
        "colab": {
          "base_uri": "https://localhost:8080/",
          "height": 206
        },
        "id": "xEdmFjYDLneE",
        "outputId": "82ee591c-3ba8-4cb0-a9ae-969b219e0c9d"
      },
      "execution_count": 3,
      "outputs": [
        {
          "output_type": "execute_result",
          "data": {
            "text/plain": [
              "   Pregnancies  Glucose  BloodPressure  SkinThickness  Insulin   BMI  \\\n",
              "0            6      148             72             35        0  33.6   \n",
              "1            1       85             66             29        0  26.6   \n",
              "2            8      183             64              0        0  23.3   \n",
              "3            1       89             66             23       94  28.1   \n",
              "4            0      137             40             35      168  43.1   \n",
              "\n",
              "   DiabetesPedigreeFunction  Age  Outcome  \n",
              "0                     0.627   50        1  \n",
              "1                     0.351   31        0  \n",
              "2                     0.672   32        1  \n",
              "3                     0.167   21        0  \n",
              "4                     2.288   33        1  "
            ],
            "text/html": [
              "\n",
              "  <div id=\"df-dc51028c-d984-49de-8689-d2d26cd376ac\" class=\"colab-df-container\">\n",
              "    <div>\n",
              "<style scoped>\n",
              "    .dataframe tbody tr th:only-of-type {\n",
              "        vertical-align: middle;\n",
              "    }\n",
              "\n",
              "    .dataframe tbody tr th {\n",
              "        vertical-align: top;\n",
              "    }\n",
              "\n",
              "    .dataframe thead th {\n",
              "        text-align: right;\n",
              "    }\n",
              "</style>\n",
              "<table border=\"1\" class=\"dataframe\">\n",
              "  <thead>\n",
              "    <tr style=\"text-align: right;\">\n",
              "      <th></th>\n",
              "      <th>Pregnancies</th>\n",
              "      <th>Glucose</th>\n",
              "      <th>BloodPressure</th>\n",
              "      <th>SkinThickness</th>\n",
              "      <th>Insulin</th>\n",
              "      <th>BMI</th>\n",
              "      <th>DiabetesPedigreeFunction</th>\n",
              "      <th>Age</th>\n",
              "      <th>Outcome</th>\n",
              "    </tr>\n",
              "  </thead>\n",
              "  <tbody>\n",
              "    <tr>\n",
              "      <th>0</th>\n",
              "      <td>6</td>\n",
              "      <td>148</td>\n",
              "      <td>72</td>\n",
              "      <td>35</td>\n",
              "      <td>0</td>\n",
              "      <td>33.6</td>\n",
              "      <td>0.627</td>\n",
              "      <td>50</td>\n",
              "      <td>1</td>\n",
              "    </tr>\n",
              "    <tr>\n",
              "      <th>1</th>\n",
              "      <td>1</td>\n",
              "      <td>85</td>\n",
              "      <td>66</td>\n",
              "      <td>29</td>\n",
              "      <td>0</td>\n",
              "      <td>26.6</td>\n",
              "      <td>0.351</td>\n",
              "      <td>31</td>\n",
              "      <td>0</td>\n",
              "    </tr>\n",
              "    <tr>\n",
              "      <th>2</th>\n",
              "      <td>8</td>\n",
              "      <td>183</td>\n",
              "      <td>64</td>\n",
              "      <td>0</td>\n",
              "      <td>0</td>\n",
              "      <td>23.3</td>\n",
              "      <td>0.672</td>\n",
              "      <td>32</td>\n",
              "      <td>1</td>\n",
              "    </tr>\n",
              "    <tr>\n",
              "      <th>3</th>\n",
              "      <td>1</td>\n",
              "      <td>89</td>\n",
              "      <td>66</td>\n",
              "      <td>23</td>\n",
              "      <td>94</td>\n",
              "      <td>28.1</td>\n",
              "      <td>0.167</td>\n",
              "      <td>21</td>\n",
              "      <td>0</td>\n",
              "    </tr>\n",
              "    <tr>\n",
              "      <th>4</th>\n",
              "      <td>0</td>\n",
              "      <td>137</td>\n",
              "      <td>40</td>\n",
              "      <td>35</td>\n",
              "      <td>168</td>\n",
              "      <td>43.1</td>\n",
              "      <td>2.288</td>\n",
              "      <td>33</td>\n",
              "      <td>1</td>\n",
              "    </tr>\n",
              "  </tbody>\n",
              "</table>\n",
              "</div>\n",
              "    <div class=\"colab-df-buttons\">\n",
              "\n",
              "  <div class=\"colab-df-container\">\n",
              "    <button class=\"colab-df-convert\" onclick=\"convertToInteractive('df-dc51028c-d984-49de-8689-d2d26cd376ac')\"\n",
              "            title=\"Convert this dataframe to an interactive table.\"\n",
              "            style=\"display:none;\">\n",
              "\n",
              "  <svg xmlns=\"http://www.w3.org/2000/svg\" height=\"24px\" viewBox=\"0 -960 960 960\">\n",
              "    <path d=\"M120-120v-720h720v720H120Zm60-500h600v-160H180v160Zm220 220h160v-160H400v160Zm0 220h160v-160H400v160ZM180-400h160v-160H180v160Zm440 0h160v-160H620v160ZM180-180h160v-160H180v160Zm440 0h160v-160H620v160Z\"/>\n",
              "  </svg>\n",
              "    </button>\n",
              "\n",
              "  <style>\n",
              "    .colab-df-container {\n",
              "      display:flex;\n",
              "      gap: 12px;\n",
              "    }\n",
              "\n",
              "    .colab-df-convert {\n",
              "      background-color: #E8F0FE;\n",
              "      border: none;\n",
              "      border-radius: 50%;\n",
              "      cursor: pointer;\n",
              "      display: none;\n",
              "      fill: #1967D2;\n",
              "      height: 32px;\n",
              "      padding: 0 0 0 0;\n",
              "      width: 32px;\n",
              "    }\n",
              "\n",
              "    .colab-df-convert:hover {\n",
              "      background-color: #E2EBFA;\n",
              "      box-shadow: 0px 1px 2px rgba(60, 64, 67, 0.3), 0px 1px 3px 1px rgba(60, 64, 67, 0.15);\n",
              "      fill: #174EA6;\n",
              "    }\n",
              "\n",
              "    .colab-df-buttons div {\n",
              "      margin-bottom: 4px;\n",
              "    }\n",
              "\n",
              "    [theme=dark] .colab-df-convert {\n",
              "      background-color: #3B4455;\n",
              "      fill: #D2E3FC;\n",
              "    }\n",
              "\n",
              "    [theme=dark] .colab-df-convert:hover {\n",
              "      background-color: #434B5C;\n",
              "      box-shadow: 0px 1px 3px 1px rgba(0, 0, 0, 0.15);\n",
              "      filter: drop-shadow(0px 1px 2px rgba(0, 0, 0, 0.3));\n",
              "      fill: #FFFFFF;\n",
              "    }\n",
              "  </style>\n",
              "\n",
              "    <script>\n",
              "      const buttonEl =\n",
              "        document.querySelector('#df-dc51028c-d984-49de-8689-d2d26cd376ac button.colab-df-convert');\n",
              "      buttonEl.style.display =\n",
              "        google.colab.kernel.accessAllowed ? 'block' : 'none';\n",
              "\n",
              "      async function convertToInteractive(key) {\n",
              "        const element = document.querySelector('#df-dc51028c-d984-49de-8689-d2d26cd376ac');\n",
              "        const dataTable =\n",
              "          await google.colab.kernel.invokeFunction('convertToInteractive',\n",
              "                                                    [key], {});\n",
              "        if (!dataTable) return;\n",
              "\n",
              "        const docLinkHtml = 'Like what you see? Visit the ' +\n",
              "          '<a target=\"_blank\" href=https://colab.research.google.com/notebooks/data_table.ipynb>data table notebook</a>'\n",
              "          + ' to learn more about interactive tables.';\n",
              "        element.innerHTML = '';\n",
              "        dataTable['output_type'] = 'display_data';\n",
              "        await google.colab.output.renderOutput(dataTable, element);\n",
              "        const docLink = document.createElement('div');\n",
              "        docLink.innerHTML = docLinkHtml;\n",
              "        element.appendChild(docLink);\n",
              "      }\n",
              "    </script>\n",
              "  </div>\n",
              "\n",
              "\n",
              "<div id=\"df-62ed52ec-04df-415c-bac4-9bd213921618\">\n",
              "  <button class=\"colab-df-quickchart\" onclick=\"quickchart('df-62ed52ec-04df-415c-bac4-9bd213921618')\"\n",
              "            title=\"Suggest charts\"\n",
              "            style=\"display:none;\">\n",
              "\n",
              "<svg xmlns=\"http://www.w3.org/2000/svg\" height=\"24px\"viewBox=\"0 0 24 24\"\n",
              "     width=\"24px\">\n",
              "    <g>\n",
              "        <path d=\"M19 3H5c-1.1 0-2 .9-2 2v14c0 1.1.9 2 2 2h14c1.1 0 2-.9 2-2V5c0-1.1-.9-2-2-2zM9 17H7v-7h2v7zm4 0h-2V7h2v10zm4 0h-2v-4h2v4z\"/>\n",
              "    </g>\n",
              "</svg>\n",
              "  </button>\n",
              "\n",
              "<style>\n",
              "  .colab-df-quickchart {\n",
              "      --bg-color: #E8F0FE;\n",
              "      --fill-color: #1967D2;\n",
              "      --hover-bg-color: #E2EBFA;\n",
              "      --hover-fill-color: #174EA6;\n",
              "      --disabled-fill-color: #AAA;\n",
              "      --disabled-bg-color: #DDD;\n",
              "  }\n",
              "\n",
              "  [theme=dark] .colab-df-quickchart {\n",
              "      --bg-color: #3B4455;\n",
              "      --fill-color: #D2E3FC;\n",
              "      --hover-bg-color: #434B5C;\n",
              "      --hover-fill-color: #FFFFFF;\n",
              "      --disabled-bg-color: #3B4455;\n",
              "      --disabled-fill-color: #666;\n",
              "  }\n",
              "\n",
              "  .colab-df-quickchart {\n",
              "    background-color: var(--bg-color);\n",
              "    border: none;\n",
              "    border-radius: 50%;\n",
              "    cursor: pointer;\n",
              "    display: none;\n",
              "    fill: var(--fill-color);\n",
              "    height: 32px;\n",
              "    padding: 0;\n",
              "    width: 32px;\n",
              "  }\n",
              "\n",
              "  .colab-df-quickchart:hover {\n",
              "    background-color: var(--hover-bg-color);\n",
              "    box-shadow: 0 1px 2px rgba(60, 64, 67, 0.3), 0 1px 3px 1px rgba(60, 64, 67, 0.15);\n",
              "    fill: var(--button-hover-fill-color);\n",
              "  }\n",
              "\n",
              "  .colab-df-quickchart-complete:disabled,\n",
              "  .colab-df-quickchart-complete:disabled:hover {\n",
              "    background-color: var(--disabled-bg-color);\n",
              "    fill: var(--disabled-fill-color);\n",
              "    box-shadow: none;\n",
              "  }\n",
              "\n",
              "  .colab-df-spinner {\n",
              "    border: 2px solid var(--fill-color);\n",
              "    border-color: transparent;\n",
              "    border-bottom-color: var(--fill-color);\n",
              "    animation:\n",
              "      spin 1s steps(1) infinite;\n",
              "  }\n",
              "\n",
              "  @keyframes spin {\n",
              "    0% {\n",
              "      border-color: transparent;\n",
              "      border-bottom-color: var(--fill-color);\n",
              "      border-left-color: var(--fill-color);\n",
              "    }\n",
              "    20% {\n",
              "      border-color: transparent;\n",
              "      border-left-color: var(--fill-color);\n",
              "      border-top-color: var(--fill-color);\n",
              "    }\n",
              "    30% {\n",
              "      border-color: transparent;\n",
              "      border-left-color: var(--fill-color);\n",
              "      border-top-color: var(--fill-color);\n",
              "      border-right-color: var(--fill-color);\n",
              "    }\n",
              "    40% {\n",
              "      border-color: transparent;\n",
              "      border-right-color: var(--fill-color);\n",
              "      border-top-color: var(--fill-color);\n",
              "    }\n",
              "    60% {\n",
              "      border-color: transparent;\n",
              "      border-right-color: var(--fill-color);\n",
              "    }\n",
              "    80% {\n",
              "      border-color: transparent;\n",
              "      border-right-color: var(--fill-color);\n",
              "      border-bottom-color: var(--fill-color);\n",
              "    }\n",
              "    90% {\n",
              "      border-color: transparent;\n",
              "      border-bottom-color: var(--fill-color);\n",
              "    }\n",
              "  }\n",
              "</style>\n",
              "\n",
              "  <script>\n",
              "    async function quickchart(key) {\n",
              "      const quickchartButtonEl =\n",
              "        document.querySelector('#' + key + ' button');\n",
              "      quickchartButtonEl.disabled = true;  // To prevent multiple clicks.\n",
              "      quickchartButtonEl.classList.add('colab-df-spinner');\n",
              "      try {\n",
              "        const charts = await google.colab.kernel.invokeFunction(\n",
              "            'suggestCharts', [key], {});\n",
              "      } catch (error) {\n",
              "        console.error('Error during call to suggestCharts:', error);\n",
              "      }\n",
              "      quickchartButtonEl.classList.remove('colab-df-spinner');\n",
              "      quickchartButtonEl.classList.add('colab-df-quickchart-complete');\n",
              "    }\n",
              "    (() => {\n",
              "      let quickchartButtonEl =\n",
              "        document.querySelector('#df-62ed52ec-04df-415c-bac4-9bd213921618 button');\n",
              "      quickchartButtonEl.style.display =\n",
              "        google.colab.kernel.accessAllowed ? 'block' : 'none';\n",
              "    })();\n",
              "  </script>\n",
              "</div>\n",
              "\n",
              "    </div>\n",
              "  </div>\n"
            ]
          },
          "metadata": {},
          "execution_count": 3
        }
      ]
    },
    {
      "cell_type": "code",
      "source": [
        "df.shape"
      ],
      "metadata": {
        "colab": {
          "base_uri": "https://localhost:8080/"
        },
        "id": "o9VQjCEqLz0K",
        "outputId": "324994c7-8c22-4742-ae21-e5dc639ded02"
      },
      "execution_count": 4,
      "outputs": [
        {
          "output_type": "execute_result",
          "data": {
            "text/plain": [
              "(768, 9)"
            ]
          },
          "metadata": {},
          "execution_count": 4
        }
      ]
    },
    {
      "cell_type": "code",
      "source": [
        "df.info()"
      ],
      "metadata": {
        "colab": {
          "base_uri": "https://localhost:8080/"
        },
        "id": "JlU5YY5IL54c",
        "outputId": "f5038764-46b7-416e-fbd4-d80e9a13a79f"
      },
      "execution_count": 5,
      "outputs": [
        {
          "output_type": "stream",
          "name": "stdout",
          "text": [
            "<class 'pandas.core.frame.DataFrame'>\n",
            "RangeIndex: 768 entries, 0 to 767\n",
            "Data columns (total 9 columns):\n",
            " #   Column                    Non-Null Count  Dtype  \n",
            "---  ------                    --------------  -----  \n",
            " 0   Pregnancies               768 non-null    int64  \n",
            " 1   Glucose                   768 non-null    int64  \n",
            " 2   BloodPressure             768 non-null    int64  \n",
            " 3   SkinThickness             768 non-null    int64  \n",
            " 4   Insulin                   768 non-null    int64  \n",
            " 5   BMI                       768 non-null    float64\n",
            " 6   DiabetesPedigreeFunction  768 non-null    float64\n",
            " 7   Age                       768 non-null    int64  \n",
            " 8   Outcome                   768 non-null    int64  \n",
            "dtypes: float64(2), int64(7)\n",
            "memory usage: 54.1 KB\n"
          ]
        }
      ]
    },
    {
      "cell_type": "code",
      "source": [
        "df.isnull().sum()"
      ],
      "metadata": {
        "colab": {
          "base_uri": "https://localhost:8080/"
        },
        "id": "-pygzEXFL7cQ",
        "outputId": "4e7167c1-946a-4ce4-edc6-0dcbf0b718b6"
      },
      "execution_count": 6,
      "outputs": [
        {
          "output_type": "execute_result",
          "data": {
            "text/plain": [
              "Pregnancies                 0\n",
              "Glucose                     0\n",
              "BloodPressure               0\n",
              "SkinThickness               0\n",
              "Insulin                     0\n",
              "BMI                         0\n",
              "DiabetesPedigreeFunction    0\n",
              "Age                         0\n",
              "Outcome                     0\n",
              "dtype: int64"
            ]
          },
          "metadata": {},
          "execution_count": 6
        }
      ]
    },
    {
      "cell_type": "code",
      "source": [
        "df.describe()"
      ],
      "metadata": {
        "colab": {
          "base_uri": "https://localhost:8080/",
          "height": 300
        },
        "id": "3nR9w4lPL-YS",
        "outputId": "bac4fdb5-0b94-4b4d-ba6b-0fbf3d7eacfa"
      },
      "execution_count": 7,
      "outputs": [
        {
          "output_type": "execute_result",
          "data": {
            "text/plain": [
              "       Pregnancies     Glucose  BloodPressure  SkinThickness     Insulin  \\\n",
              "count   768.000000  768.000000     768.000000     768.000000  768.000000   \n",
              "mean      3.845052  120.894531      69.105469      20.536458   79.799479   \n",
              "std       3.369578   31.972618      19.355807      15.952218  115.244002   \n",
              "min       0.000000    0.000000       0.000000       0.000000    0.000000   \n",
              "25%       1.000000   99.000000      62.000000       0.000000    0.000000   \n",
              "50%       3.000000  117.000000      72.000000      23.000000   30.500000   \n",
              "75%       6.000000  140.250000      80.000000      32.000000  127.250000   \n",
              "max      17.000000  199.000000     122.000000      99.000000  846.000000   \n",
              "\n",
              "              BMI  DiabetesPedigreeFunction         Age     Outcome  \n",
              "count  768.000000                768.000000  768.000000  768.000000  \n",
              "mean    31.992578                  0.471876   33.240885    0.348958  \n",
              "std      7.884160                  0.331329   11.760232    0.476951  \n",
              "min      0.000000                  0.078000   21.000000    0.000000  \n",
              "25%     27.300000                  0.243750   24.000000    0.000000  \n",
              "50%     32.000000                  0.372500   29.000000    0.000000  \n",
              "75%     36.600000                  0.626250   41.000000    1.000000  \n",
              "max     67.100000                  2.420000   81.000000    1.000000  "
            ],
            "text/html": [
              "\n",
              "  <div id=\"df-fbedd7a1-9f80-42f2-b7fd-e91b5d738947\" class=\"colab-df-container\">\n",
              "    <div>\n",
              "<style scoped>\n",
              "    .dataframe tbody tr th:only-of-type {\n",
              "        vertical-align: middle;\n",
              "    }\n",
              "\n",
              "    .dataframe tbody tr th {\n",
              "        vertical-align: top;\n",
              "    }\n",
              "\n",
              "    .dataframe thead th {\n",
              "        text-align: right;\n",
              "    }\n",
              "</style>\n",
              "<table border=\"1\" class=\"dataframe\">\n",
              "  <thead>\n",
              "    <tr style=\"text-align: right;\">\n",
              "      <th></th>\n",
              "      <th>Pregnancies</th>\n",
              "      <th>Glucose</th>\n",
              "      <th>BloodPressure</th>\n",
              "      <th>SkinThickness</th>\n",
              "      <th>Insulin</th>\n",
              "      <th>BMI</th>\n",
              "      <th>DiabetesPedigreeFunction</th>\n",
              "      <th>Age</th>\n",
              "      <th>Outcome</th>\n",
              "    </tr>\n",
              "  </thead>\n",
              "  <tbody>\n",
              "    <tr>\n",
              "      <th>count</th>\n",
              "      <td>768.000000</td>\n",
              "      <td>768.000000</td>\n",
              "      <td>768.000000</td>\n",
              "      <td>768.000000</td>\n",
              "      <td>768.000000</td>\n",
              "      <td>768.000000</td>\n",
              "      <td>768.000000</td>\n",
              "      <td>768.000000</td>\n",
              "      <td>768.000000</td>\n",
              "    </tr>\n",
              "    <tr>\n",
              "      <th>mean</th>\n",
              "      <td>3.845052</td>\n",
              "      <td>120.894531</td>\n",
              "      <td>69.105469</td>\n",
              "      <td>20.536458</td>\n",
              "      <td>79.799479</td>\n",
              "      <td>31.992578</td>\n",
              "      <td>0.471876</td>\n",
              "      <td>33.240885</td>\n",
              "      <td>0.348958</td>\n",
              "    </tr>\n",
              "    <tr>\n",
              "      <th>std</th>\n",
              "      <td>3.369578</td>\n",
              "      <td>31.972618</td>\n",
              "      <td>19.355807</td>\n",
              "      <td>15.952218</td>\n",
              "      <td>115.244002</td>\n",
              "      <td>7.884160</td>\n",
              "      <td>0.331329</td>\n",
              "      <td>11.760232</td>\n",
              "      <td>0.476951</td>\n",
              "    </tr>\n",
              "    <tr>\n",
              "      <th>min</th>\n",
              "      <td>0.000000</td>\n",
              "      <td>0.000000</td>\n",
              "      <td>0.000000</td>\n",
              "      <td>0.000000</td>\n",
              "      <td>0.000000</td>\n",
              "      <td>0.000000</td>\n",
              "      <td>0.078000</td>\n",
              "      <td>21.000000</td>\n",
              "      <td>0.000000</td>\n",
              "    </tr>\n",
              "    <tr>\n",
              "      <th>25%</th>\n",
              "      <td>1.000000</td>\n",
              "      <td>99.000000</td>\n",
              "      <td>62.000000</td>\n",
              "      <td>0.000000</td>\n",
              "      <td>0.000000</td>\n",
              "      <td>27.300000</td>\n",
              "      <td>0.243750</td>\n",
              "      <td>24.000000</td>\n",
              "      <td>0.000000</td>\n",
              "    </tr>\n",
              "    <tr>\n",
              "      <th>50%</th>\n",
              "      <td>3.000000</td>\n",
              "      <td>117.000000</td>\n",
              "      <td>72.000000</td>\n",
              "      <td>23.000000</td>\n",
              "      <td>30.500000</td>\n",
              "      <td>32.000000</td>\n",
              "      <td>0.372500</td>\n",
              "      <td>29.000000</td>\n",
              "      <td>0.000000</td>\n",
              "    </tr>\n",
              "    <tr>\n",
              "      <th>75%</th>\n",
              "      <td>6.000000</td>\n",
              "      <td>140.250000</td>\n",
              "      <td>80.000000</td>\n",
              "      <td>32.000000</td>\n",
              "      <td>127.250000</td>\n",
              "      <td>36.600000</td>\n",
              "      <td>0.626250</td>\n",
              "      <td>41.000000</td>\n",
              "      <td>1.000000</td>\n",
              "    </tr>\n",
              "    <tr>\n",
              "      <th>max</th>\n",
              "      <td>17.000000</td>\n",
              "      <td>199.000000</td>\n",
              "      <td>122.000000</td>\n",
              "      <td>99.000000</td>\n",
              "      <td>846.000000</td>\n",
              "      <td>67.100000</td>\n",
              "      <td>2.420000</td>\n",
              "      <td>81.000000</td>\n",
              "      <td>1.000000</td>\n",
              "    </tr>\n",
              "  </tbody>\n",
              "</table>\n",
              "</div>\n",
              "    <div class=\"colab-df-buttons\">\n",
              "\n",
              "  <div class=\"colab-df-container\">\n",
              "    <button class=\"colab-df-convert\" onclick=\"convertToInteractive('df-fbedd7a1-9f80-42f2-b7fd-e91b5d738947')\"\n",
              "            title=\"Convert this dataframe to an interactive table.\"\n",
              "            style=\"display:none;\">\n",
              "\n",
              "  <svg xmlns=\"http://www.w3.org/2000/svg\" height=\"24px\" viewBox=\"0 -960 960 960\">\n",
              "    <path d=\"M120-120v-720h720v720H120Zm60-500h600v-160H180v160Zm220 220h160v-160H400v160Zm0 220h160v-160H400v160ZM180-400h160v-160H180v160Zm440 0h160v-160H620v160ZM180-180h160v-160H180v160Zm440 0h160v-160H620v160Z\"/>\n",
              "  </svg>\n",
              "    </button>\n",
              "\n",
              "  <style>\n",
              "    .colab-df-container {\n",
              "      display:flex;\n",
              "      gap: 12px;\n",
              "    }\n",
              "\n",
              "    .colab-df-convert {\n",
              "      background-color: #E8F0FE;\n",
              "      border: none;\n",
              "      border-radius: 50%;\n",
              "      cursor: pointer;\n",
              "      display: none;\n",
              "      fill: #1967D2;\n",
              "      height: 32px;\n",
              "      padding: 0 0 0 0;\n",
              "      width: 32px;\n",
              "    }\n",
              "\n",
              "    .colab-df-convert:hover {\n",
              "      background-color: #E2EBFA;\n",
              "      box-shadow: 0px 1px 2px rgba(60, 64, 67, 0.3), 0px 1px 3px 1px rgba(60, 64, 67, 0.15);\n",
              "      fill: #174EA6;\n",
              "    }\n",
              "\n",
              "    .colab-df-buttons div {\n",
              "      margin-bottom: 4px;\n",
              "    }\n",
              "\n",
              "    [theme=dark] .colab-df-convert {\n",
              "      background-color: #3B4455;\n",
              "      fill: #D2E3FC;\n",
              "    }\n",
              "\n",
              "    [theme=dark] .colab-df-convert:hover {\n",
              "      background-color: #434B5C;\n",
              "      box-shadow: 0px 1px 3px 1px rgba(0, 0, 0, 0.15);\n",
              "      filter: drop-shadow(0px 1px 2px rgba(0, 0, 0, 0.3));\n",
              "      fill: #FFFFFF;\n",
              "    }\n",
              "  </style>\n",
              "\n",
              "    <script>\n",
              "      const buttonEl =\n",
              "        document.querySelector('#df-fbedd7a1-9f80-42f2-b7fd-e91b5d738947 button.colab-df-convert');\n",
              "      buttonEl.style.display =\n",
              "        google.colab.kernel.accessAllowed ? 'block' : 'none';\n",
              "\n",
              "      async function convertToInteractive(key) {\n",
              "        const element = document.querySelector('#df-fbedd7a1-9f80-42f2-b7fd-e91b5d738947');\n",
              "        const dataTable =\n",
              "          await google.colab.kernel.invokeFunction('convertToInteractive',\n",
              "                                                    [key], {});\n",
              "        if (!dataTable) return;\n",
              "\n",
              "        const docLinkHtml = 'Like what you see? Visit the ' +\n",
              "          '<a target=\"_blank\" href=https://colab.research.google.com/notebooks/data_table.ipynb>data table notebook</a>'\n",
              "          + ' to learn more about interactive tables.';\n",
              "        element.innerHTML = '';\n",
              "        dataTable['output_type'] = 'display_data';\n",
              "        await google.colab.output.renderOutput(dataTable, element);\n",
              "        const docLink = document.createElement('div');\n",
              "        docLink.innerHTML = docLinkHtml;\n",
              "        element.appendChild(docLink);\n",
              "      }\n",
              "    </script>\n",
              "  </div>\n",
              "\n",
              "\n",
              "<div id=\"df-7f680d83-aab2-40a4-9261-b300f704634c\">\n",
              "  <button class=\"colab-df-quickchart\" onclick=\"quickchart('df-7f680d83-aab2-40a4-9261-b300f704634c')\"\n",
              "            title=\"Suggest charts\"\n",
              "            style=\"display:none;\">\n",
              "\n",
              "<svg xmlns=\"http://www.w3.org/2000/svg\" height=\"24px\"viewBox=\"0 0 24 24\"\n",
              "     width=\"24px\">\n",
              "    <g>\n",
              "        <path d=\"M19 3H5c-1.1 0-2 .9-2 2v14c0 1.1.9 2 2 2h14c1.1 0 2-.9 2-2V5c0-1.1-.9-2-2-2zM9 17H7v-7h2v7zm4 0h-2V7h2v10zm4 0h-2v-4h2v4z\"/>\n",
              "    </g>\n",
              "</svg>\n",
              "  </button>\n",
              "\n",
              "<style>\n",
              "  .colab-df-quickchart {\n",
              "      --bg-color: #E8F0FE;\n",
              "      --fill-color: #1967D2;\n",
              "      --hover-bg-color: #E2EBFA;\n",
              "      --hover-fill-color: #174EA6;\n",
              "      --disabled-fill-color: #AAA;\n",
              "      --disabled-bg-color: #DDD;\n",
              "  }\n",
              "\n",
              "  [theme=dark] .colab-df-quickchart {\n",
              "      --bg-color: #3B4455;\n",
              "      --fill-color: #D2E3FC;\n",
              "      --hover-bg-color: #434B5C;\n",
              "      --hover-fill-color: #FFFFFF;\n",
              "      --disabled-bg-color: #3B4455;\n",
              "      --disabled-fill-color: #666;\n",
              "  }\n",
              "\n",
              "  .colab-df-quickchart {\n",
              "    background-color: var(--bg-color);\n",
              "    border: none;\n",
              "    border-radius: 50%;\n",
              "    cursor: pointer;\n",
              "    display: none;\n",
              "    fill: var(--fill-color);\n",
              "    height: 32px;\n",
              "    padding: 0;\n",
              "    width: 32px;\n",
              "  }\n",
              "\n",
              "  .colab-df-quickchart:hover {\n",
              "    background-color: var(--hover-bg-color);\n",
              "    box-shadow: 0 1px 2px rgba(60, 64, 67, 0.3), 0 1px 3px 1px rgba(60, 64, 67, 0.15);\n",
              "    fill: var(--button-hover-fill-color);\n",
              "  }\n",
              "\n",
              "  .colab-df-quickchart-complete:disabled,\n",
              "  .colab-df-quickchart-complete:disabled:hover {\n",
              "    background-color: var(--disabled-bg-color);\n",
              "    fill: var(--disabled-fill-color);\n",
              "    box-shadow: none;\n",
              "  }\n",
              "\n",
              "  .colab-df-spinner {\n",
              "    border: 2px solid var(--fill-color);\n",
              "    border-color: transparent;\n",
              "    border-bottom-color: var(--fill-color);\n",
              "    animation:\n",
              "      spin 1s steps(1) infinite;\n",
              "  }\n",
              "\n",
              "  @keyframes spin {\n",
              "    0% {\n",
              "      border-color: transparent;\n",
              "      border-bottom-color: var(--fill-color);\n",
              "      border-left-color: var(--fill-color);\n",
              "    }\n",
              "    20% {\n",
              "      border-color: transparent;\n",
              "      border-left-color: var(--fill-color);\n",
              "      border-top-color: var(--fill-color);\n",
              "    }\n",
              "    30% {\n",
              "      border-color: transparent;\n",
              "      border-left-color: var(--fill-color);\n",
              "      border-top-color: var(--fill-color);\n",
              "      border-right-color: var(--fill-color);\n",
              "    }\n",
              "    40% {\n",
              "      border-color: transparent;\n",
              "      border-right-color: var(--fill-color);\n",
              "      border-top-color: var(--fill-color);\n",
              "    }\n",
              "    60% {\n",
              "      border-color: transparent;\n",
              "      border-right-color: var(--fill-color);\n",
              "    }\n",
              "    80% {\n",
              "      border-color: transparent;\n",
              "      border-right-color: var(--fill-color);\n",
              "      border-bottom-color: var(--fill-color);\n",
              "    }\n",
              "    90% {\n",
              "      border-color: transparent;\n",
              "      border-bottom-color: var(--fill-color);\n",
              "    }\n",
              "  }\n",
              "</style>\n",
              "\n",
              "  <script>\n",
              "    async function quickchart(key) {\n",
              "      const quickchartButtonEl =\n",
              "        document.querySelector('#' + key + ' button');\n",
              "      quickchartButtonEl.disabled = true;  // To prevent multiple clicks.\n",
              "      quickchartButtonEl.classList.add('colab-df-spinner');\n",
              "      try {\n",
              "        const charts = await google.colab.kernel.invokeFunction(\n",
              "            'suggestCharts', [key], {});\n",
              "      } catch (error) {\n",
              "        console.error('Error during call to suggestCharts:', error);\n",
              "      }\n",
              "      quickchartButtonEl.classList.remove('colab-df-spinner');\n",
              "      quickchartButtonEl.classList.add('colab-df-quickchart-complete');\n",
              "    }\n",
              "    (() => {\n",
              "      let quickchartButtonEl =\n",
              "        document.querySelector('#df-7f680d83-aab2-40a4-9261-b300f704634c button');\n",
              "      quickchartButtonEl.style.display =\n",
              "        google.colab.kernel.accessAllowed ? 'block' : 'none';\n",
              "    })();\n",
              "  </script>\n",
              "</div>\n",
              "\n",
              "    </div>\n",
              "  </div>\n"
            ]
          },
          "metadata": {},
          "execution_count": 7
        }
      ]
    },
    {
      "cell_type": "code",
      "source": [
        "df.columns"
      ],
      "metadata": {
        "colab": {
          "base_uri": "https://localhost:8080/"
        },
        "id": "JHWdWrzHMVzk",
        "outputId": "14e91850-4293-43ea-a980-88a5b3e9a1ea"
      },
      "execution_count": 8,
      "outputs": [
        {
          "output_type": "execute_result",
          "data": {
            "text/plain": [
              "Index(['Pregnancies', 'Glucose', 'BloodPressure', 'SkinThickness', 'Insulin',\n",
              "       'BMI', 'DiabetesPedigreeFunction', 'Age', 'Outcome'],\n",
              "      dtype='object')"
            ]
          },
          "metadata": {},
          "execution_count": 8
        }
      ]
    },
    {
      "cell_type": "code",
      "source": [
        "df=df.rename(columns={'Outcome':'Defaulter'})"
      ],
      "metadata": {
        "id": "Ah1nYT5uMXkc"
      },
      "execution_count": 9,
      "outputs": []
    },
    {
      "cell_type": "code",
      "source": [
        "df.head()"
      ],
      "metadata": {
        "colab": {
          "base_uri": "https://localhost:8080/",
          "height": 206
        },
        "id": "xEj-Iib1MvOd",
        "outputId": "2578dc36-22f1-46b8-c17a-23b50ff00481"
      },
      "execution_count": 10,
      "outputs": [
        {
          "output_type": "execute_result",
          "data": {
            "text/plain": [
              "   Pregnancies  Glucose  BloodPressure  SkinThickness  Insulin   BMI  \\\n",
              "0            6      148             72             35        0  33.6   \n",
              "1            1       85             66             29        0  26.6   \n",
              "2            8      183             64              0        0  23.3   \n",
              "3            1       89             66             23       94  28.1   \n",
              "4            0      137             40             35      168  43.1   \n",
              "\n",
              "   DiabetesPedigreeFunction  Age  Defaulter  \n",
              "0                     0.627   50          1  \n",
              "1                     0.351   31          0  \n",
              "2                     0.672   32          1  \n",
              "3                     0.167   21          0  \n",
              "4                     2.288   33          1  "
            ],
            "text/html": [
              "\n",
              "  <div id=\"df-a5271028-b9ae-47f9-bfd3-aa5560cd24fc\" class=\"colab-df-container\">\n",
              "    <div>\n",
              "<style scoped>\n",
              "    .dataframe tbody tr th:only-of-type {\n",
              "        vertical-align: middle;\n",
              "    }\n",
              "\n",
              "    .dataframe tbody tr th {\n",
              "        vertical-align: top;\n",
              "    }\n",
              "\n",
              "    .dataframe thead th {\n",
              "        text-align: right;\n",
              "    }\n",
              "</style>\n",
              "<table border=\"1\" class=\"dataframe\">\n",
              "  <thead>\n",
              "    <tr style=\"text-align: right;\">\n",
              "      <th></th>\n",
              "      <th>Pregnancies</th>\n",
              "      <th>Glucose</th>\n",
              "      <th>BloodPressure</th>\n",
              "      <th>SkinThickness</th>\n",
              "      <th>Insulin</th>\n",
              "      <th>BMI</th>\n",
              "      <th>DiabetesPedigreeFunction</th>\n",
              "      <th>Age</th>\n",
              "      <th>Defaulter</th>\n",
              "    </tr>\n",
              "  </thead>\n",
              "  <tbody>\n",
              "    <tr>\n",
              "      <th>0</th>\n",
              "      <td>6</td>\n",
              "      <td>148</td>\n",
              "      <td>72</td>\n",
              "      <td>35</td>\n",
              "      <td>0</td>\n",
              "      <td>33.6</td>\n",
              "      <td>0.627</td>\n",
              "      <td>50</td>\n",
              "      <td>1</td>\n",
              "    </tr>\n",
              "    <tr>\n",
              "      <th>1</th>\n",
              "      <td>1</td>\n",
              "      <td>85</td>\n",
              "      <td>66</td>\n",
              "      <td>29</td>\n",
              "      <td>0</td>\n",
              "      <td>26.6</td>\n",
              "      <td>0.351</td>\n",
              "      <td>31</td>\n",
              "      <td>0</td>\n",
              "    </tr>\n",
              "    <tr>\n",
              "      <th>2</th>\n",
              "      <td>8</td>\n",
              "      <td>183</td>\n",
              "      <td>64</td>\n",
              "      <td>0</td>\n",
              "      <td>0</td>\n",
              "      <td>23.3</td>\n",
              "      <td>0.672</td>\n",
              "      <td>32</td>\n",
              "      <td>1</td>\n",
              "    </tr>\n",
              "    <tr>\n",
              "      <th>3</th>\n",
              "      <td>1</td>\n",
              "      <td>89</td>\n",
              "      <td>66</td>\n",
              "      <td>23</td>\n",
              "      <td>94</td>\n",
              "      <td>28.1</td>\n",
              "      <td>0.167</td>\n",
              "      <td>21</td>\n",
              "      <td>0</td>\n",
              "    </tr>\n",
              "    <tr>\n",
              "      <th>4</th>\n",
              "      <td>0</td>\n",
              "      <td>137</td>\n",
              "      <td>40</td>\n",
              "      <td>35</td>\n",
              "      <td>168</td>\n",
              "      <td>43.1</td>\n",
              "      <td>2.288</td>\n",
              "      <td>33</td>\n",
              "      <td>1</td>\n",
              "    </tr>\n",
              "  </tbody>\n",
              "</table>\n",
              "</div>\n",
              "    <div class=\"colab-df-buttons\">\n",
              "\n",
              "  <div class=\"colab-df-container\">\n",
              "    <button class=\"colab-df-convert\" onclick=\"convertToInteractive('df-a5271028-b9ae-47f9-bfd3-aa5560cd24fc')\"\n",
              "            title=\"Convert this dataframe to an interactive table.\"\n",
              "            style=\"display:none;\">\n",
              "\n",
              "  <svg xmlns=\"http://www.w3.org/2000/svg\" height=\"24px\" viewBox=\"0 -960 960 960\">\n",
              "    <path d=\"M120-120v-720h720v720H120Zm60-500h600v-160H180v160Zm220 220h160v-160H400v160Zm0 220h160v-160H400v160ZM180-400h160v-160H180v160Zm440 0h160v-160H620v160ZM180-180h160v-160H180v160Zm440 0h160v-160H620v160Z\"/>\n",
              "  </svg>\n",
              "    </button>\n",
              "\n",
              "  <style>\n",
              "    .colab-df-container {\n",
              "      display:flex;\n",
              "      gap: 12px;\n",
              "    }\n",
              "\n",
              "    .colab-df-convert {\n",
              "      background-color: #E8F0FE;\n",
              "      border: none;\n",
              "      border-radius: 50%;\n",
              "      cursor: pointer;\n",
              "      display: none;\n",
              "      fill: #1967D2;\n",
              "      height: 32px;\n",
              "      padding: 0 0 0 0;\n",
              "      width: 32px;\n",
              "    }\n",
              "\n",
              "    .colab-df-convert:hover {\n",
              "      background-color: #E2EBFA;\n",
              "      box-shadow: 0px 1px 2px rgba(60, 64, 67, 0.3), 0px 1px 3px 1px rgba(60, 64, 67, 0.15);\n",
              "      fill: #174EA6;\n",
              "    }\n",
              "\n",
              "    .colab-df-buttons div {\n",
              "      margin-bottom: 4px;\n",
              "    }\n",
              "\n",
              "    [theme=dark] .colab-df-convert {\n",
              "      background-color: #3B4455;\n",
              "      fill: #D2E3FC;\n",
              "    }\n",
              "\n",
              "    [theme=dark] .colab-df-convert:hover {\n",
              "      background-color: #434B5C;\n",
              "      box-shadow: 0px 1px 3px 1px rgba(0, 0, 0, 0.15);\n",
              "      filter: drop-shadow(0px 1px 2px rgba(0, 0, 0, 0.3));\n",
              "      fill: #FFFFFF;\n",
              "    }\n",
              "  </style>\n",
              "\n",
              "    <script>\n",
              "      const buttonEl =\n",
              "        document.querySelector('#df-a5271028-b9ae-47f9-bfd3-aa5560cd24fc button.colab-df-convert');\n",
              "      buttonEl.style.display =\n",
              "        google.colab.kernel.accessAllowed ? 'block' : 'none';\n",
              "\n",
              "      async function convertToInteractive(key) {\n",
              "        const element = document.querySelector('#df-a5271028-b9ae-47f9-bfd3-aa5560cd24fc');\n",
              "        const dataTable =\n",
              "          await google.colab.kernel.invokeFunction('convertToInteractive',\n",
              "                                                    [key], {});\n",
              "        if (!dataTable) return;\n",
              "\n",
              "        const docLinkHtml = 'Like what you see? Visit the ' +\n",
              "          '<a target=\"_blank\" href=https://colab.research.google.com/notebooks/data_table.ipynb>data table notebook</a>'\n",
              "          + ' to learn more about interactive tables.';\n",
              "        element.innerHTML = '';\n",
              "        dataTable['output_type'] = 'display_data';\n",
              "        await google.colab.output.renderOutput(dataTable, element);\n",
              "        const docLink = document.createElement('div');\n",
              "        docLink.innerHTML = docLinkHtml;\n",
              "        element.appendChild(docLink);\n",
              "      }\n",
              "    </script>\n",
              "  </div>\n",
              "\n",
              "\n",
              "<div id=\"df-1fddc7d1-fb8d-4777-a0a7-aff2fc711bb0\">\n",
              "  <button class=\"colab-df-quickchart\" onclick=\"quickchart('df-1fddc7d1-fb8d-4777-a0a7-aff2fc711bb0')\"\n",
              "            title=\"Suggest charts\"\n",
              "            style=\"display:none;\">\n",
              "\n",
              "<svg xmlns=\"http://www.w3.org/2000/svg\" height=\"24px\"viewBox=\"0 0 24 24\"\n",
              "     width=\"24px\">\n",
              "    <g>\n",
              "        <path d=\"M19 3H5c-1.1 0-2 .9-2 2v14c0 1.1.9 2 2 2h14c1.1 0 2-.9 2-2V5c0-1.1-.9-2-2-2zM9 17H7v-7h2v7zm4 0h-2V7h2v10zm4 0h-2v-4h2v4z\"/>\n",
              "    </g>\n",
              "</svg>\n",
              "  </button>\n",
              "\n",
              "<style>\n",
              "  .colab-df-quickchart {\n",
              "      --bg-color: #E8F0FE;\n",
              "      --fill-color: #1967D2;\n",
              "      --hover-bg-color: #E2EBFA;\n",
              "      --hover-fill-color: #174EA6;\n",
              "      --disabled-fill-color: #AAA;\n",
              "      --disabled-bg-color: #DDD;\n",
              "  }\n",
              "\n",
              "  [theme=dark] .colab-df-quickchart {\n",
              "      --bg-color: #3B4455;\n",
              "      --fill-color: #D2E3FC;\n",
              "      --hover-bg-color: #434B5C;\n",
              "      --hover-fill-color: #FFFFFF;\n",
              "      --disabled-bg-color: #3B4455;\n",
              "      --disabled-fill-color: #666;\n",
              "  }\n",
              "\n",
              "  .colab-df-quickchart {\n",
              "    background-color: var(--bg-color);\n",
              "    border: none;\n",
              "    border-radius: 50%;\n",
              "    cursor: pointer;\n",
              "    display: none;\n",
              "    fill: var(--fill-color);\n",
              "    height: 32px;\n",
              "    padding: 0;\n",
              "    width: 32px;\n",
              "  }\n",
              "\n",
              "  .colab-df-quickchart:hover {\n",
              "    background-color: var(--hover-bg-color);\n",
              "    box-shadow: 0 1px 2px rgba(60, 64, 67, 0.3), 0 1px 3px 1px rgba(60, 64, 67, 0.15);\n",
              "    fill: var(--button-hover-fill-color);\n",
              "  }\n",
              "\n",
              "  .colab-df-quickchart-complete:disabled,\n",
              "  .colab-df-quickchart-complete:disabled:hover {\n",
              "    background-color: var(--disabled-bg-color);\n",
              "    fill: var(--disabled-fill-color);\n",
              "    box-shadow: none;\n",
              "  }\n",
              "\n",
              "  .colab-df-spinner {\n",
              "    border: 2px solid var(--fill-color);\n",
              "    border-color: transparent;\n",
              "    border-bottom-color: var(--fill-color);\n",
              "    animation:\n",
              "      spin 1s steps(1) infinite;\n",
              "  }\n",
              "\n",
              "  @keyframes spin {\n",
              "    0% {\n",
              "      border-color: transparent;\n",
              "      border-bottom-color: var(--fill-color);\n",
              "      border-left-color: var(--fill-color);\n",
              "    }\n",
              "    20% {\n",
              "      border-color: transparent;\n",
              "      border-left-color: var(--fill-color);\n",
              "      border-top-color: var(--fill-color);\n",
              "    }\n",
              "    30% {\n",
              "      border-color: transparent;\n",
              "      border-left-color: var(--fill-color);\n",
              "      border-top-color: var(--fill-color);\n",
              "      border-right-color: var(--fill-color);\n",
              "    }\n",
              "    40% {\n",
              "      border-color: transparent;\n",
              "      border-right-color: var(--fill-color);\n",
              "      border-top-color: var(--fill-color);\n",
              "    }\n",
              "    60% {\n",
              "      border-color: transparent;\n",
              "      border-right-color: var(--fill-color);\n",
              "    }\n",
              "    80% {\n",
              "      border-color: transparent;\n",
              "      border-right-color: var(--fill-color);\n",
              "      border-bottom-color: var(--fill-color);\n",
              "    }\n",
              "    90% {\n",
              "      border-color: transparent;\n",
              "      border-bottom-color: var(--fill-color);\n",
              "    }\n",
              "  }\n",
              "</style>\n",
              "\n",
              "  <script>\n",
              "    async function quickchart(key) {\n",
              "      const quickchartButtonEl =\n",
              "        document.querySelector('#' + key + ' button');\n",
              "      quickchartButtonEl.disabled = true;  // To prevent multiple clicks.\n",
              "      quickchartButtonEl.classList.add('colab-df-spinner');\n",
              "      try {\n",
              "        const charts = await google.colab.kernel.invokeFunction(\n",
              "            'suggestCharts', [key], {});\n",
              "      } catch (error) {\n",
              "        console.error('Error during call to suggestCharts:', error);\n",
              "      }\n",
              "      quickchartButtonEl.classList.remove('colab-df-spinner');\n",
              "      quickchartButtonEl.classList.add('colab-df-quickchart-complete');\n",
              "    }\n",
              "    (() => {\n",
              "      let quickchartButtonEl =\n",
              "        document.querySelector('#df-1fddc7d1-fb8d-4777-a0a7-aff2fc711bb0 button');\n",
              "      quickchartButtonEl.style.display =\n",
              "        google.colab.kernel.accessAllowed ? 'block' : 'none';\n",
              "    })();\n",
              "  </script>\n",
              "</div>\n",
              "\n",
              "    </div>\n",
              "  </div>\n"
            ]
          },
          "metadata": {},
          "execution_count": 10
        }
      ]
    },
    {
      "cell_type": "markdown",
      "source": [
        "# **Exploratory Data Analysis**"
      ],
      "metadata": {
        "id": "wlOFVTWgWcZm"
      }
    },
    {
      "cell_type": "code",
      "source": [
        "fig1 = px.histogram(df, x = 'Pregnancies', marginal = 'box',\n",
        "                    title = 'Distribution of Pregnancies',\n",
        "                   color_discrete_sequence=px.colors.qualitative.Antique)\n",
        "fig1.show()"
      ],
      "metadata": {
        "colab": {
          "base_uri": "https://localhost:8080/",
          "height": 542
        },
        "id": "WRVmpEQKMgwN",
        "outputId": "f65f3506-8942-45c9-e89f-ef82f41d76af"
      },
      "execution_count": 11,
      "outputs": [
        {
          "output_type": "display_data",
          "data": {
            "text/html": [
              "<html>\n",
              "<head><meta charset=\"utf-8\" /></head>\n",
              "<body>\n",
              "    <div>            <script src=\"https://cdnjs.cloudflare.com/ajax/libs/mathjax/2.7.5/MathJax.js?config=TeX-AMS-MML_SVG\"></script><script type=\"text/javascript\">if (window.MathJax && window.MathJax.Hub && window.MathJax.Hub.Config) {window.MathJax.Hub.Config({SVG: {font: \"STIX-Web\"}});}</script>                <script type=\"text/javascript\">window.PlotlyConfig = {MathJaxConfig: 'local'};</script>\n",
              "        <script charset=\"utf-8\" src=\"https://cdn.plot.ly/plotly-2.24.1.min.js\"></script>                <div id=\"a80f1c8b-6c95-4cc7-97df-db6107c1fddd\" class=\"plotly-graph-div\" style=\"height:525px; width:100%;\"></div>            <script type=\"text/javascript\">                                    window.PLOTLYENV=window.PLOTLYENV || {};                                    if (document.getElementById(\"a80f1c8b-6c95-4cc7-97df-db6107c1fddd\")) {                    Plotly.newPlot(                        \"a80f1c8b-6c95-4cc7-97df-db6107c1fddd\",                        [{\"alignmentgroup\":\"True\",\"bingroup\":\"x\",\"hovertemplate\":\"Pregnancies=%{x}\\u003cbr\\u003ecount=%{y}\\u003cextra\\u003e\\u003c\\u002fextra\\u003e\",\"legendgroup\":\"\",\"marker\":{\"color\":\"rgb(133, 92, 117)\",\"pattern\":{\"shape\":\"\"}},\"name\":\"\",\"offsetgroup\":\"\",\"orientation\":\"v\",\"showlegend\":false,\"x\":[6,1,8,1,0,5,3,10,2,8,4,10,10,1,5,7,0,7,1,1,3,8,7,9,11,10,7,1,13,5,5,3,3,6,10,4,11,9,2,4,3,7,7,9,7,0,1,2,7,7,1,1,5,8,7,1,7,0,0,0,2,8,5,2,7,5,0,2,1,4,2,5,13,4,1,1,7,5,0,2,3,2,7,0,5,2,13,2,15,1,1,4,7,4,2,6,2,1,6,1,1,1,0,1,2,1,1,4,3,0,3,8,1,4,7,4,5,5,4,4,0,6,2,5,0,1,3,1,1,0,4,9,3,8,2,2,0,0,0,5,3,5,2,10,4,0,9,2,5,2,1,4,9,1,8,7,2,1,2,17,4,7,0,2,0,6,3,4,4,3,6,6,2,1,2,8,6,0,5,5,6,0,1,5,4,7,8,1,8,5,3,9,7,11,8,5,1,3,4,4,0,1,0,2,6,5,8,5,1,7,2,0,7,0,9,12,5,6,5,5,0,2,7,7,1,1,0,3,4,0,4,6,1,4,3,4,7,0,9,0,1,4,3,6,2,9,10,0,9,1,9,2,2,0,12,1,3,2,1,11,3,3,4,3,4,5,0,2,0,2,10,2,3,1,13,2,7,0,5,2,0,10,7,7,2,7,5,1,4,5,0,0,2,1,0,6,2,0,14,8,0,2,5,5,3,2,10,0,0,2,6,0,2,3,7,2,3,3,3,6,4,3,0,13,2,1,1,10,2,6,8,2,1,12,1,0,0,5,9,7,1,1,1,5,8,8,1,3,3,5,4,4,3,1,3,9,1,13,12,1,5,5,5,4,4,5,6,0,3,1,3,0,0,2,2,12,0,1,4,0,1,0,1,1,1,1,5,8,5,3,1,5,1,4,4,2,3,0,3,3,4,6,5,9,5,2,4,0,8,1,6,1,1,1,0,3,1,4,1,3,1,2,0,2,8,4,0,1,0,1,2,3,1,2,1,0,12,5,1,6,0,2,4,8,4,0,1,0,0,0,1,2,0,2,2,14,1,5,10,9,9,1,8,5,10,0,0,0,8,6,1,0,0,7,4,0,2,7,8,4,3,0,4,0,0,0,1,0,4,8,2,2,4,4,3,6,5,2,7,6,2,3,6,7,3,10,0,1,2,8,12,0,9,2,3,3,9,7,13,6,2,3,6,9,3,3,1,3,0,0,2,0,1,6,1,4,0,0,0,3,8,3,10,4,1,8,5,4,1,4,1,3,6,1,1,7,1,8,11,11,6,0,1,6,0,2,1,6,4,0,3,2,3,2,1,1,6,2,10,2,0,6,12,8,8,1,8,6,3,0,11,2,3,2,6,0,0,1,1,1,1,6,1,7,4,1,1,1,0,1,3,3,7,6,11,3,6,2,9,0,2,2,6,0,2,4,0,0,5,4,7,0,2,1,10,13,5,2,7,1,0,4,6,4,3,2,1,0,11,0,1,1,5,2,1,2,2,1,11,3,10,1,8,9,6,1,4,10,6,9,6,1,10,3,8,6,9,0,3,2,2,0,0,4,5,2,3,1,1,1,8,13,2,7,2,7,3,0,4,4,2,6,1,2,4,6,10,2,9,2,3,5,10,0,3,7,3,10,1,5,4,1,1,5,1,4,1,0,2,2,3,8,2,2,2,4,0,8,2,1,11,3,1,9,13,12,1,1,3,6,4,1,3,0,8,1,7,0,1,6,2,9,9,10,2,5,1,1],\"xaxis\":\"x\",\"yaxis\":\"y\",\"type\":\"histogram\"},{\"alignmentgroup\":\"True\",\"hovertemplate\":\"Pregnancies=%{x}\\u003cextra\\u003e\\u003c\\u002fextra\\u003e\",\"legendgroup\":\"\",\"marker\":{\"color\":\"rgb(133, 92, 117)\"},\"name\":\"\",\"notched\":true,\"offsetgroup\":\"\",\"showlegend\":false,\"x\":[6,1,8,1,0,5,3,10,2,8,4,10,10,1,5,7,0,7,1,1,3,8,7,9,11,10,7,1,13,5,5,3,3,6,10,4,11,9,2,4,3,7,7,9,7,0,1,2,7,7,1,1,5,8,7,1,7,0,0,0,2,8,5,2,7,5,0,2,1,4,2,5,13,4,1,1,7,5,0,2,3,2,7,0,5,2,13,2,15,1,1,4,7,4,2,6,2,1,6,1,1,1,0,1,2,1,1,4,3,0,3,8,1,4,7,4,5,5,4,4,0,6,2,5,0,1,3,1,1,0,4,9,3,8,2,2,0,0,0,5,3,5,2,10,4,0,9,2,5,2,1,4,9,1,8,7,2,1,2,17,4,7,0,2,0,6,3,4,4,3,6,6,2,1,2,8,6,0,5,5,6,0,1,5,4,7,8,1,8,5,3,9,7,11,8,5,1,3,4,4,0,1,0,2,6,5,8,5,1,7,2,0,7,0,9,12,5,6,5,5,0,2,7,7,1,1,0,3,4,0,4,6,1,4,3,4,7,0,9,0,1,4,3,6,2,9,10,0,9,1,9,2,2,0,12,1,3,2,1,11,3,3,4,3,4,5,0,2,0,2,10,2,3,1,13,2,7,0,5,2,0,10,7,7,2,7,5,1,4,5,0,0,2,1,0,6,2,0,14,8,0,2,5,5,3,2,10,0,0,2,6,0,2,3,7,2,3,3,3,6,4,3,0,13,2,1,1,10,2,6,8,2,1,12,1,0,0,5,9,7,1,1,1,5,8,8,1,3,3,5,4,4,3,1,3,9,1,13,12,1,5,5,5,4,4,5,6,0,3,1,3,0,0,2,2,12,0,1,4,0,1,0,1,1,1,1,5,8,5,3,1,5,1,4,4,2,3,0,3,3,4,6,5,9,5,2,4,0,8,1,6,1,1,1,0,3,1,4,1,3,1,2,0,2,8,4,0,1,0,1,2,3,1,2,1,0,12,5,1,6,0,2,4,8,4,0,1,0,0,0,1,2,0,2,2,14,1,5,10,9,9,1,8,5,10,0,0,0,8,6,1,0,0,7,4,0,2,7,8,4,3,0,4,0,0,0,1,0,4,8,2,2,4,4,3,6,5,2,7,6,2,3,6,7,3,10,0,1,2,8,12,0,9,2,3,3,9,7,13,6,2,3,6,9,3,3,1,3,0,0,2,0,1,6,1,4,0,0,0,3,8,3,10,4,1,8,5,4,1,4,1,3,6,1,1,7,1,8,11,11,6,0,1,6,0,2,1,6,4,0,3,2,3,2,1,1,6,2,10,2,0,6,12,8,8,1,8,6,3,0,11,2,3,2,6,0,0,1,1,1,1,6,1,7,4,1,1,1,0,1,3,3,7,6,11,3,6,2,9,0,2,2,6,0,2,4,0,0,5,4,7,0,2,1,10,13,5,2,7,1,0,4,6,4,3,2,1,0,11,0,1,1,5,2,1,2,2,1,11,3,10,1,8,9,6,1,4,10,6,9,6,1,10,3,8,6,9,0,3,2,2,0,0,4,5,2,3,1,1,1,8,13,2,7,2,7,3,0,4,4,2,6,1,2,4,6,10,2,9,2,3,5,10,0,3,7,3,10,1,5,4,1,1,5,1,4,1,0,2,2,3,8,2,2,2,4,0,8,2,1,11,3,1,9,13,12,1,1,3,6,4,1,3,0,8,1,7,0,1,6,2,9,9,10,2,5,1,1],\"xaxis\":\"x2\",\"yaxis\":\"y2\",\"type\":\"box\"}],                        {\"template\":{\"data\":{\"histogram2dcontour\":[{\"type\":\"histogram2dcontour\",\"colorbar\":{\"outlinewidth\":0,\"ticks\":\"\"},\"colorscale\":[[0.0,\"#0d0887\"],[0.1111111111111111,\"#46039f\"],[0.2222222222222222,\"#7201a8\"],[0.3333333333333333,\"#9c179e\"],[0.4444444444444444,\"#bd3786\"],[0.5555555555555556,\"#d8576b\"],[0.6666666666666666,\"#ed7953\"],[0.7777777777777778,\"#fb9f3a\"],[0.8888888888888888,\"#fdca26\"],[1.0,\"#f0f921\"]]}],\"choropleth\":[{\"type\":\"choropleth\",\"colorbar\":{\"outlinewidth\":0,\"ticks\":\"\"}}],\"histogram2d\":[{\"type\":\"histogram2d\",\"colorbar\":{\"outlinewidth\":0,\"ticks\":\"\"},\"colorscale\":[[0.0,\"#0d0887\"],[0.1111111111111111,\"#46039f\"],[0.2222222222222222,\"#7201a8\"],[0.3333333333333333,\"#9c179e\"],[0.4444444444444444,\"#bd3786\"],[0.5555555555555556,\"#d8576b\"],[0.6666666666666666,\"#ed7953\"],[0.7777777777777778,\"#fb9f3a\"],[0.8888888888888888,\"#fdca26\"],[1.0,\"#f0f921\"]]}],\"heatmap\":[{\"type\":\"heatmap\",\"colorbar\":{\"outlinewidth\":0,\"ticks\":\"\"},\"colorscale\":[[0.0,\"#0d0887\"],[0.1111111111111111,\"#46039f\"],[0.2222222222222222,\"#7201a8\"],[0.3333333333333333,\"#9c179e\"],[0.4444444444444444,\"#bd3786\"],[0.5555555555555556,\"#d8576b\"],[0.6666666666666666,\"#ed7953\"],[0.7777777777777778,\"#fb9f3a\"],[0.8888888888888888,\"#fdca26\"],[1.0,\"#f0f921\"]]}],\"heatmapgl\":[{\"type\":\"heatmapgl\",\"colorbar\":{\"outlinewidth\":0,\"ticks\":\"\"},\"colorscale\":[[0.0,\"#0d0887\"],[0.1111111111111111,\"#46039f\"],[0.2222222222222222,\"#7201a8\"],[0.3333333333333333,\"#9c179e\"],[0.4444444444444444,\"#bd3786\"],[0.5555555555555556,\"#d8576b\"],[0.6666666666666666,\"#ed7953\"],[0.7777777777777778,\"#fb9f3a\"],[0.8888888888888888,\"#fdca26\"],[1.0,\"#f0f921\"]]}],\"contourcarpet\":[{\"type\":\"contourcarpet\",\"colorbar\":{\"outlinewidth\":0,\"ticks\":\"\"}}],\"contour\":[{\"type\":\"contour\",\"colorbar\":{\"outlinewidth\":0,\"ticks\":\"\"},\"colorscale\":[[0.0,\"#0d0887\"],[0.1111111111111111,\"#46039f\"],[0.2222222222222222,\"#7201a8\"],[0.3333333333333333,\"#9c179e\"],[0.4444444444444444,\"#bd3786\"],[0.5555555555555556,\"#d8576b\"],[0.6666666666666666,\"#ed7953\"],[0.7777777777777778,\"#fb9f3a\"],[0.8888888888888888,\"#fdca26\"],[1.0,\"#f0f921\"]]}],\"surface\":[{\"type\":\"surface\",\"colorbar\":{\"outlinewidth\":0,\"ticks\":\"\"},\"colorscale\":[[0.0,\"#0d0887\"],[0.1111111111111111,\"#46039f\"],[0.2222222222222222,\"#7201a8\"],[0.3333333333333333,\"#9c179e\"],[0.4444444444444444,\"#bd3786\"],[0.5555555555555556,\"#d8576b\"],[0.6666666666666666,\"#ed7953\"],[0.7777777777777778,\"#fb9f3a\"],[0.8888888888888888,\"#fdca26\"],[1.0,\"#f0f921\"]]}],\"mesh3d\":[{\"type\":\"mesh3d\",\"colorbar\":{\"outlinewidth\":0,\"ticks\":\"\"}}],\"scatter\":[{\"fillpattern\":{\"fillmode\":\"overlay\",\"size\":10,\"solidity\":0.2},\"type\":\"scatter\"}],\"parcoords\":[{\"type\":\"parcoords\",\"line\":{\"colorbar\":{\"outlinewidth\":0,\"ticks\":\"\"}}}],\"scatterpolargl\":[{\"type\":\"scatterpolargl\",\"marker\":{\"colorbar\":{\"outlinewidth\":0,\"ticks\":\"\"}}}],\"bar\":[{\"error_x\":{\"color\":\"#2a3f5f\"},\"error_y\":{\"color\":\"#2a3f5f\"},\"marker\":{\"line\":{\"color\":\"#E5ECF6\",\"width\":0.5},\"pattern\":{\"fillmode\":\"overlay\",\"size\":10,\"solidity\":0.2}},\"type\":\"bar\"}],\"scattergeo\":[{\"type\":\"scattergeo\",\"marker\":{\"colorbar\":{\"outlinewidth\":0,\"ticks\":\"\"}}}],\"scatterpolar\":[{\"type\":\"scatterpolar\",\"marker\":{\"colorbar\":{\"outlinewidth\":0,\"ticks\":\"\"}}}],\"histogram\":[{\"marker\":{\"pattern\":{\"fillmode\":\"overlay\",\"size\":10,\"solidity\":0.2}},\"type\":\"histogram\"}],\"scattergl\":[{\"type\":\"scattergl\",\"marker\":{\"colorbar\":{\"outlinewidth\":0,\"ticks\":\"\"}}}],\"scatter3d\":[{\"type\":\"scatter3d\",\"line\":{\"colorbar\":{\"outlinewidth\":0,\"ticks\":\"\"}},\"marker\":{\"colorbar\":{\"outlinewidth\":0,\"ticks\":\"\"}}}],\"scattermapbox\":[{\"type\":\"scattermapbox\",\"marker\":{\"colorbar\":{\"outlinewidth\":0,\"ticks\":\"\"}}}],\"scatterternary\":[{\"type\":\"scatterternary\",\"marker\":{\"colorbar\":{\"outlinewidth\":0,\"ticks\":\"\"}}}],\"scattercarpet\":[{\"type\":\"scattercarpet\",\"marker\":{\"colorbar\":{\"outlinewidth\":0,\"ticks\":\"\"}}}],\"carpet\":[{\"aaxis\":{\"endlinecolor\":\"#2a3f5f\",\"gridcolor\":\"white\",\"linecolor\":\"white\",\"minorgridcolor\":\"white\",\"startlinecolor\":\"#2a3f5f\"},\"baxis\":{\"endlinecolor\":\"#2a3f5f\",\"gridcolor\":\"white\",\"linecolor\":\"white\",\"minorgridcolor\":\"white\",\"startlinecolor\":\"#2a3f5f\"},\"type\":\"carpet\"}],\"table\":[{\"cells\":{\"fill\":{\"color\":\"#EBF0F8\"},\"line\":{\"color\":\"white\"}},\"header\":{\"fill\":{\"color\":\"#C8D4E3\"},\"line\":{\"color\":\"white\"}},\"type\":\"table\"}],\"barpolar\":[{\"marker\":{\"line\":{\"color\":\"#E5ECF6\",\"width\":0.5},\"pattern\":{\"fillmode\":\"overlay\",\"size\":10,\"solidity\":0.2}},\"type\":\"barpolar\"}],\"pie\":[{\"automargin\":true,\"type\":\"pie\"}]},\"layout\":{\"autotypenumbers\":\"strict\",\"colorway\":[\"#636efa\",\"#EF553B\",\"#00cc96\",\"#ab63fa\",\"#FFA15A\",\"#19d3f3\",\"#FF6692\",\"#B6E880\",\"#FF97FF\",\"#FECB52\"],\"font\":{\"color\":\"#2a3f5f\"},\"hovermode\":\"closest\",\"hoverlabel\":{\"align\":\"left\"},\"paper_bgcolor\":\"white\",\"plot_bgcolor\":\"#E5ECF6\",\"polar\":{\"bgcolor\":\"#E5ECF6\",\"angularaxis\":{\"gridcolor\":\"white\",\"linecolor\":\"white\",\"ticks\":\"\"},\"radialaxis\":{\"gridcolor\":\"white\",\"linecolor\":\"white\",\"ticks\":\"\"}},\"ternary\":{\"bgcolor\":\"#E5ECF6\",\"aaxis\":{\"gridcolor\":\"white\",\"linecolor\":\"white\",\"ticks\":\"\"},\"baxis\":{\"gridcolor\":\"white\",\"linecolor\":\"white\",\"ticks\":\"\"},\"caxis\":{\"gridcolor\":\"white\",\"linecolor\":\"white\",\"ticks\":\"\"}},\"coloraxis\":{\"colorbar\":{\"outlinewidth\":0,\"ticks\":\"\"}},\"colorscale\":{\"sequential\":[[0.0,\"#0d0887\"],[0.1111111111111111,\"#46039f\"],[0.2222222222222222,\"#7201a8\"],[0.3333333333333333,\"#9c179e\"],[0.4444444444444444,\"#bd3786\"],[0.5555555555555556,\"#d8576b\"],[0.6666666666666666,\"#ed7953\"],[0.7777777777777778,\"#fb9f3a\"],[0.8888888888888888,\"#fdca26\"],[1.0,\"#f0f921\"]],\"sequentialminus\":[[0.0,\"#0d0887\"],[0.1111111111111111,\"#46039f\"],[0.2222222222222222,\"#7201a8\"],[0.3333333333333333,\"#9c179e\"],[0.4444444444444444,\"#bd3786\"],[0.5555555555555556,\"#d8576b\"],[0.6666666666666666,\"#ed7953\"],[0.7777777777777778,\"#fb9f3a\"],[0.8888888888888888,\"#fdca26\"],[1.0,\"#f0f921\"]],\"diverging\":[[0,\"#8e0152\"],[0.1,\"#c51b7d\"],[0.2,\"#de77ae\"],[0.3,\"#f1b6da\"],[0.4,\"#fde0ef\"],[0.5,\"#f7f7f7\"],[0.6,\"#e6f5d0\"],[0.7,\"#b8e186\"],[0.8,\"#7fbc41\"],[0.9,\"#4d9221\"],[1,\"#276419\"]]},\"xaxis\":{\"gridcolor\":\"white\",\"linecolor\":\"white\",\"ticks\":\"\",\"title\":{\"standoff\":15},\"zerolinecolor\":\"white\",\"automargin\":true,\"zerolinewidth\":2},\"yaxis\":{\"gridcolor\":\"white\",\"linecolor\":\"white\",\"ticks\":\"\",\"title\":{\"standoff\":15},\"zerolinecolor\":\"white\",\"automargin\":true,\"zerolinewidth\":2},\"scene\":{\"xaxis\":{\"backgroundcolor\":\"#E5ECF6\",\"gridcolor\":\"white\",\"linecolor\":\"white\",\"showbackground\":true,\"ticks\":\"\",\"zerolinecolor\":\"white\",\"gridwidth\":2},\"yaxis\":{\"backgroundcolor\":\"#E5ECF6\",\"gridcolor\":\"white\",\"linecolor\":\"white\",\"showbackground\":true,\"ticks\":\"\",\"zerolinecolor\":\"white\",\"gridwidth\":2},\"zaxis\":{\"backgroundcolor\":\"#E5ECF6\",\"gridcolor\":\"white\",\"linecolor\":\"white\",\"showbackground\":true,\"ticks\":\"\",\"zerolinecolor\":\"white\",\"gridwidth\":2}},\"shapedefaults\":{\"line\":{\"color\":\"#2a3f5f\"}},\"annotationdefaults\":{\"arrowcolor\":\"#2a3f5f\",\"arrowhead\":0,\"arrowwidth\":1},\"geo\":{\"bgcolor\":\"white\",\"landcolor\":\"#E5ECF6\",\"subunitcolor\":\"white\",\"showland\":true,\"showlakes\":true,\"lakecolor\":\"white\"},\"title\":{\"x\":0.05},\"mapbox\":{\"style\":\"light\"}}},\"xaxis\":{\"anchor\":\"y\",\"domain\":[0.0,1.0],\"title\":{\"text\":\"Pregnancies\"}},\"yaxis\":{\"anchor\":\"x\",\"domain\":[0.0,0.8316],\"title\":{\"text\":\"count\"}},\"xaxis2\":{\"anchor\":\"y2\",\"domain\":[0.0,1.0],\"matches\":\"x\",\"showticklabels\":false,\"showgrid\":true},\"yaxis2\":{\"anchor\":\"x2\",\"domain\":[0.8416,1.0],\"matches\":\"y2\",\"showticklabels\":false,\"showline\":false,\"ticks\":\"\",\"showgrid\":false},\"legend\":{\"tracegroupgap\":0},\"title\":{\"text\":\"Distribution of Pregnancies\"},\"barmode\":\"relative\"},                        {\"responsive\": true}                    ).then(function(){\n",
              "                            \n",
              "var gd = document.getElementById('a80f1c8b-6c95-4cc7-97df-db6107c1fddd');\n",
              "var x = new MutationObserver(function (mutations, observer) {{\n",
              "        var display = window.getComputedStyle(gd).display;\n",
              "        if (!display || display === 'none') {{\n",
              "            console.log([gd, 'removed!']);\n",
              "            Plotly.purge(gd);\n",
              "            observer.disconnect();\n",
              "        }}\n",
              "}});\n",
              "\n",
              "// Listen for the removal of the full notebook cells\n",
              "var notebookContainer = gd.closest('#notebook-container');\n",
              "if (notebookContainer) {{\n",
              "    x.observe(notebookContainer, {childList: true});\n",
              "}}\n",
              "\n",
              "// Listen for the clearing of the current output cell\n",
              "var outputEl = gd.closest('.output');\n",
              "if (outputEl) {{\n",
              "    x.observe(outputEl, {childList: true});\n",
              "}}\n",
              "\n",
              "                        })                };                            </script>        </div>\n",
              "</body>\n",
              "</html>"
            ]
          },
          "metadata": {}
        }
      ]
    },
    {
      "cell_type": "code",
      "source": [
        "fig2 = px.histogram(df, x = 'Glucose', marginal = 'box',\n",
        "                    title = 'Distribution of Glucose',\n",
        "                   color_discrete_sequence=px.colors.qualitative.Antique)\n",
        "fig2.show()"
      ],
      "metadata": {
        "colab": {
          "base_uri": "https://localhost:8080/",
          "height": 542
        },
        "id": "GBFPKO0kMzIu",
        "outputId": "575282e4-04ca-4b23-d92f-26321f8f2bf3"
      },
      "execution_count": 12,
      "outputs": [
        {
          "output_type": "display_data",
          "data": {
            "text/html": [
              "<html>\n",
              "<head><meta charset=\"utf-8\" /></head>\n",
              "<body>\n",
              "    <div>            <script src=\"https://cdnjs.cloudflare.com/ajax/libs/mathjax/2.7.5/MathJax.js?config=TeX-AMS-MML_SVG\"></script><script type=\"text/javascript\">if (window.MathJax && window.MathJax.Hub && window.MathJax.Hub.Config) {window.MathJax.Hub.Config({SVG: {font: \"STIX-Web\"}});}</script>                <script type=\"text/javascript\">window.PlotlyConfig = {MathJaxConfig: 'local'};</script>\n",
              "        <script charset=\"utf-8\" src=\"https://cdn.plot.ly/plotly-2.24.1.min.js\"></script>                <div id=\"9e4e4c64-bbe0-442d-8dd8-fb8f8b37f9c9\" class=\"plotly-graph-div\" style=\"height:525px; width:100%;\"></div>            <script type=\"text/javascript\">                                    window.PLOTLYENV=window.PLOTLYENV || {};                                    if (document.getElementById(\"9e4e4c64-bbe0-442d-8dd8-fb8f8b37f9c9\")) {                    Plotly.newPlot(                        \"9e4e4c64-bbe0-442d-8dd8-fb8f8b37f9c9\",                        [{\"alignmentgroup\":\"True\",\"bingroup\":\"x\",\"hovertemplate\":\"Glucose=%{x}\\u003cbr\\u003ecount=%{y}\\u003cextra\\u003e\\u003c\\u002fextra\\u003e\",\"legendgroup\":\"\",\"marker\":{\"color\":\"rgb(133, 92, 117)\",\"pattern\":{\"shape\":\"\"}},\"name\":\"\",\"offsetgroup\":\"\",\"orientation\":\"v\",\"showlegend\":false,\"x\":[148,85,183,89,137,116,78,115,197,125,110,168,139,189,166,100,118,107,103,115,126,99,196,119,143,125,147,97,145,117,109,158,88,92,122,103,138,102,90,111,180,133,106,171,159,180,146,71,103,105,103,101,88,176,150,73,187,100,146,105,84,133,44,141,114,99,109,109,95,146,100,139,126,129,79,0,62,95,131,112,113,74,83,101,137,110,106,100,136,107,80,123,81,134,142,144,92,71,93,122,163,151,125,81,85,126,96,144,83,95,171,155,89,76,160,146,124,78,97,99,162,111,107,132,113,88,120,118,117,105,173,122,170,84,96,125,100,93,129,105,128,106,108,108,154,102,57,106,147,90,136,114,156,153,188,152,99,109,88,163,151,102,114,100,131,104,148,120,110,111,102,134,87,79,75,179,85,129,143,130,87,119,0,73,141,194,181,128,109,139,111,123,159,135,85,158,105,107,109,148,113,138,108,99,103,111,196,162,96,184,81,147,179,140,112,151,109,125,85,112,177,158,119,142,100,87,101,162,197,117,142,134,79,122,74,171,181,179,164,104,91,91,139,119,146,184,122,165,124,111,106,129,90,86,92,113,111,114,193,155,191,141,95,142,123,96,138,128,102,146,101,108,122,71,106,100,106,104,114,108,146,129,133,161,108,136,155,119,96,108,78,107,128,128,161,151,146,126,100,112,167,144,77,115,150,120,161,137,128,124,80,106,155,113,109,112,99,182,115,194,129,112,124,152,112,157,122,179,102,105,118,87,180,106,95,165,117,115,152,178,130,95,0,122,95,126,139,116,99,0,92,137,61,90,90,165,125,129,88,196,189,158,103,146,147,99,124,101,81,133,173,118,84,105,122,140,98,87,156,93,107,105,109,90,125,119,116,105,144,100,100,166,131,116,158,127,96,131,82,193,95,137,136,72,168,123,115,101,197,172,102,112,143,143,138,173,97,144,83,129,119,94,102,115,151,184,94,181,135,95,99,89,80,139,90,141,140,147,97,107,189,83,117,108,117,180,100,95,104,120,82,134,91,119,100,175,135,86,148,134,120,71,74,88,115,124,74,97,120,154,144,137,119,136,114,137,105,114,126,132,158,123,85,84,145,135,139,173,99,194,83,89,99,125,80,166,110,81,195,154,117,84,0,94,96,75,180,130,84,120,84,139,91,91,99,163,145,125,76,129,68,124,114,130,125,87,97,116,117,111,122,107,86,91,77,132,105,57,127,129,100,128,90,84,88,186,187,131,164,189,116,84,114,88,84,124,97,110,103,85,125,198,87,99,91,95,99,92,154,121,78,130,111,98,143,119,108,118,133,197,151,109,121,100,124,93,143,103,176,73,111,112,132,82,123,188,67,89,173,109,108,96,124,150,183,124,181,92,152,111,106,174,168,105,138,106,117,68,112,119,112,92,183,94,108,90,125,132,128,94,114,102,111,128,92,104,104,94,97,100,102,128,147,90,103,157,167,179,136,107,91,117,123,120,106,155,101,120,127,80,162,199,167,145,115,112,145,111,98,154,165,99,68,123,91,195,156,93,121,101,56,162,95,125,136,129,130,107,140,144,107,158,121,129,90,142,169,99,127,118,122,125,168,129,110,80,115,127,164,93,158,126,129,134,102,187,173,94,108,97,83,114,149,117,111,112,116,141,175,92,130,120,174,106,105,95,126,65,99,102,120,102,109,140,153,100,147,81,187,162,136,121,108,181,154,128,137,123,106,190,88,170,89,101,122,121,126,93],\"xaxis\":\"x\",\"yaxis\":\"y\",\"type\":\"histogram\"},{\"alignmentgroup\":\"True\",\"hovertemplate\":\"Glucose=%{x}\\u003cextra\\u003e\\u003c\\u002fextra\\u003e\",\"legendgroup\":\"\",\"marker\":{\"color\":\"rgb(133, 92, 117)\"},\"name\":\"\",\"notched\":true,\"offsetgroup\":\"\",\"showlegend\":false,\"x\":[148,85,183,89,137,116,78,115,197,125,110,168,139,189,166,100,118,107,103,115,126,99,196,119,143,125,147,97,145,117,109,158,88,92,122,103,138,102,90,111,180,133,106,171,159,180,146,71,103,105,103,101,88,176,150,73,187,100,146,105,84,133,44,141,114,99,109,109,95,146,100,139,126,129,79,0,62,95,131,112,113,74,83,101,137,110,106,100,136,107,80,123,81,134,142,144,92,71,93,122,163,151,125,81,85,126,96,144,83,95,171,155,89,76,160,146,124,78,97,99,162,111,107,132,113,88,120,118,117,105,173,122,170,84,96,125,100,93,129,105,128,106,108,108,154,102,57,106,147,90,136,114,156,153,188,152,99,109,88,163,151,102,114,100,131,104,148,120,110,111,102,134,87,79,75,179,85,129,143,130,87,119,0,73,141,194,181,128,109,139,111,123,159,135,85,158,105,107,109,148,113,138,108,99,103,111,196,162,96,184,81,147,179,140,112,151,109,125,85,112,177,158,119,142,100,87,101,162,197,117,142,134,79,122,74,171,181,179,164,104,91,91,139,119,146,184,122,165,124,111,106,129,90,86,92,113,111,114,193,155,191,141,95,142,123,96,138,128,102,146,101,108,122,71,106,100,106,104,114,108,146,129,133,161,108,136,155,119,96,108,78,107,128,128,161,151,146,126,100,112,167,144,77,115,150,120,161,137,128,124,80,106,155,113,109,112,99,182,115,194,129,112,124,152,112,157,122,179,102,105,118,87,180,106,95,165,117,115,152,178,130,95,0,122,95,126,139,116,99,0,92,137,61,90,90,165,125,129,88,196,189,158,103,146,147,99,124,101,81,133,173,118,84,105,122,140,98,87,156,93,107,105,109,90,125,119,116,105,144,100,100,166,131,116,158,127,96,131,82,193,95,137,136,72,168,123,115,101,197,172,102,112,143,143,138,173,97,144,83,129,119,94,102,115,151,184,94,181,135,95,99,89,80,139,90,141,140,147,97,107,189,83,117,108,117,180,100,95,104,120,82,134,91,119,100,175,135,86,148,134,120,71,74,88,115,124,74,97,120,154,144,137,119,136,114,137,105,114,126,132,158,123,85,84,145,135,139,173,99,194,83,89,99,125,80,166,110,81,195,154,117,84,0,94,96,75,180,130,84,120,84,139,91,91,99,163,145,125,76,129,68,124,114,130,125,87,97,116,117,111,122,107,86,91,77,132,105,57,127,129,100,128,90,84,88,186,187,131,164,189,116,84,114,88,84,124,97,110,103,85,125,198,87,99,91,95,99,92,154,121,78,130,111,98,143,119,108,118,133,197,151,109,121,100,124,93,143,103,176,73,111,112,132,82,123,188,67,89,173,109,108,96,124,150,183,124,181,92,152,111,106,174,168,105,138,106,117,68,112,119,112,92,183,94,108,90,125,132,128,94,114,102,111,128,92,104,104,94,97,100,102,128,147,90,103,157,167,179,136,107,91,117,123,120,106,155,101,120,127,80,162,199,167,145,115,112,145,111,98,154,165,99,68,123,91,195,156,93,121,101,56,162,95,125,136,129,130,107,140,144,107,158,121,129,90,142,169,99,127,118,122,125,168,129,110,80,115,127,164,93,158,126,129,134,102,187,173,94,108,97,83,114,149,117,111,112,116,141,175,92,130,120,174,106,105,95,126,65,99,102,120,102,109,140,153,100,147,81,187,162,136,121,108,181,154,128,137,123,106,190,88,170,89,101,122,121,126,93],\"xaxis\":\"x2\",\"yaxis\":\"y2\",\"type\":\"box\"}],                        {\"template\":{\"data\":{\"histogram2dcontour\":[{\"type\":\"histogram2dcontour\",\"colorbar\":{\"outlinewidth\":0,\"ticks\":\"\"},\"colorscale\":[[0.0,\"#0d0887\"],[0.1111111111111111,\"#46039f\"],[0.2222222222222222,\"#7201a8\"],[0.3333333333333333,\"#9c179e\"],[0.4444444444444444,\"#bd3786\"],[0.5555555555555556,\"#d8576b\"],[0.6666666666666666,\"#ed7953\"],[0.7777777777777778,\"#fb9f3a\"],[0.8888888888888888,\"#fdca26\"],[1.0,\"#f0f921\"]]}],\"choropleth\":[{\"type\":\"choropleth\",\"colorbar\":{\"outlinewidth\":0,\"ticks\":\"\"}}],\"histogram2d\":[{\"type\":\"histogram2d\",\"colorbar\":{\"outlinewidth\":0,\"ticks\":\"\"},\"colorscale\":[[0.0,\"#0d0887\"],[0.1111111111111111,\"#46039f\"],[0.2222222222222222,\"#7201a8\"],[0.3333333333333333,\"#9c179e\"],[0.4444444444444444,\"#bd3786\"],[0.5555555555555556,\"#d8576b\"],[0.6666666666666666,\"#ed7953\"],[0.7777777777777778,\"#fb9f3a\"],[0.8888888888888888,\"#fdca26\"],[1.0,\"#f0f921\"]]}],\"heatmap\":[{\"type\":\"heatmap\",\"colorbar\":{\"outlinewidth\":0,\"ticks\":\"\"},\"colorscale\":[[0.0,\"#0d0887\"],[0.1111111111111111,\"#46039f\"],[0.2222222222222222,\"#7201a8\"],[0.3333333333333333,\"#9c179e\"],[0.4444444444444444,\"#bd3786\"],[0.5555555555555556,\"#d8576b\"],[0.6666666666666666,\"#ed7953\"],[0.7777777777777778,\"#fb9f3a\"],[0.8888888888888888,\"#fdca26\"],[1.0,\"#f0f921\"]]}],\"heatmapgl\":[{\"type\":\"heatmapgl\",\"colorbar\":{\"outlinewidth\":0,\"ticks\":\"\"},\"colorscale\":[[0.0,\"#0d0887\"],[0.1111111111111111,\"#46039f\"],[0.2222222222222222,\"#7201a8\"],[0.3333333333333333,\"#9c179e\"],[0.4444444444444444,\"#bd3786\"],[0.5555555555555556,\"#d8576b\"],[0.6666666666666666,\"#ed7953\"],[0.7777777777777778,\"#fb9f3a\"],[0.8888888888888888,\"#fdca26\"],[1.0,\"#f0f921\"]]}],\"contourcarpet\":[{\"type\":\"contourcarpet\",\"colorbar\":{\"outlinewidth\":0,\"ticks\":\"\"}}],\"contour\":[{\"type\":\"contour\",\"colorbar\":{\"outlinewidth\":0,\"ticks\":\"\"},\"colorscale\":[[0.0,\"#0d0887\"],[0.1111111111111111,\"#46039f\"],[0.2222222222222222,\"#7201a8\"],[0.3333333333333333,\"#9c179e\"],[0.4444444444444444,\"#bd3786\"],[0.5555555555555556,\"#d8576b\"],[0.6666666666666666,\"#ed7953\"],[0.7777777777777778,\"#fb9f3a\"],[0.8888888888888888,\"#fdca26\"],[1.0,\"#f0f921\"]]}],\"surface\":[{\"type\":\"surface\",\"colorbar\":{\"outlinewidth\":0,\"ticks\":\"\"},\"colorscale\":[[0.0,\"#0d0887\"],[0.1111111111111111,\"#46039f\"],[0.2222222222222222,\"#7201a8\"],[0.3333333333333333,\"#9c179e\"],[0.4444444444444444,\"#bd3786\"],[0.5555555555555556,\"#d8576b\"],[0.6666666666666666,\"#ed7953\"],[0.7777777777777778,\"#fb9f3a\"],[0.8888888888888888,\"#fdca26\"],[1.0,\"#f0f921\"]]}],\"mesh3d\":[{\"type\":\"mesh3d\",\"colorbar\":{\"outlinewidth\":0,\"ticks\":\"\"}}],\"scatter\":[{\"fillpattern\":{\"fillmode\":\"overlay\",\"size\":10,\"solidity\":0.2},\"type\":\"scatter\"}],\"parcoords\":[{\"type\":\"parcoords\",\"line\":{\"colorbar\":{\"outlinewidth\":0,\"ticks\":\"\"}}}],\"scatterpolargl\":[{\"type\":\"scatterpolargl\",\"marker\":{\"colorbar\":{\"outlinewidth\":0,\"ticks\":\"\"}}}],\"bar\":[{\"error_x\":{\"color\":\"#2a3f5f\"},\"error_y\":{\"color\":\"#2a3f5f\"},\"marker\":{\"line\":{\"color\":\"#E5ECF6\",\"width\":0.5},\"pattern\":{\"fillmode\":\"overlay\",\"size\":10,\"solidity\":0.2}},\"type\":\"bar\"}],\"scattergeo\":[{\"type\":\"scattergeo\",\"marker\":{\"colorbar\":{\"outlinewidth\":0,\"ticks\":\"\"}}}],\"scatterpolar\":[{\"type\":\"scatterpolar\",\"marker\":{\"colorbar\":{\"outlinewidth\":0,\"ticks\":\"\"}}}],\"histogram\":[{\"marker\":{\"pattern\":{\"fillmode\":\"overlay\",\"size\":10,\"solidity\":0.2}},\"type\":\"histogram\"}],\"scattergl\":[{\"type\":\"scattergl\",\"marker\":{\"colorbar\":{\"outlinewidth\":0,\"ticks\":\"\"}}}],\"scatter3d\":[{\"type\":\"scatter3d\",\"line\":{\"colorbar\":{\"outlinewidth\":0,\"ticks\":\"\"}},\"marker\":{\"colorbar\":{\"outlinewidth\":0,\"ticks\":\"\"}}}],\"scattermapbox\":[{\"type\":\"scattermapbox\",\"marker\":{\"colorbar\":{\"outlinewidth\":0,\"ticks\":\"\"}}}],\"scatterternary\":[{\"type\":\"scatterternary\",\"marker\":{\"colorbar\":{\"outlinewidth\":0,\"ticks\":\"\"}}}],\"scattercarpet\":[{\"type\":\"scattercarpet\",\"marker\":{\"colorbar\":{\"outlinewidth\":0,\"ticks\":\"\"}}}],\"carpet\":[{\"aaxis\":{\"endlinecolor\":\"#2a3f5f\",\"gridcolor\":\"white\",\"linecolor\":\"white\",\"minorgridcolor\":\"white\",\"startlinecolor\":\"#2a3f5f\"},\"baxis\":{\"endlinecolor\":\"#2a3f5f\",\"gridcolor\":\"white\",\"linecolor\":\"white\",\"minorgridcolor\":\"white\",\"startlinecolor\":\"#2a3f5f\"},\"type\":\"carpet\"}],\"table\":[{\"cells\":{\"fill\":{\"color\":\"#EBF0F8\"},\"line\":{\"color\":\"white\"}},\"header\":{\"fill\":{\"color\":\"#C8D4E3\"},\"line\":{\"color\":\"white\"}},\"type\":\"table\"}],\"barpolar\":[{\"marker\":{\"line\":{\"color\":\"#E5ECF6\",\"width\":0.5},\"pattern\":{\"fillmode\":\"overlay\",\"size\":10,\"solidity\":0.2}},\"type\":\"barpolar\"}],\"pie\":[{\"automargin\":true,\"type\":\"pie\"}]},\"layout\":{\"autotypenumbers\":\"strict\",\"colorway\":[\"#636efa\",\"#EF553B\",\"#00cc96\",\"#ab63fa\",\"#FFA15A\",\"#19d3f3\",\"#FF6692\",\"#B6E880\",\"#FF97FF\",\"#FECB52\"],\"font\":{\"color\":\"#2a3f5f\"},\"hovermode\":\"closest\",\"hoverlabel\":{\"align\":\"left\"},\"paper_bgcolor\":\"white\",\"plot_bgcolor\":\"#E5ECF6\",\"polar\":{\"bgcolor\":\"#E5ECF6\",\"angularaxis\":{\"gridcolor\":\"white\",\"linecolor\":\"white\",\"ticks\":\"\"},\"radialaxis\":{\"gridcolor\":\"white\",\"linecolor\":\"white\",\"ticks\":\"\"}},\"ternary\":{\"bgcolor\":\"#E5ECF6\",\"aaxis\":{\"gridcolor\":\"white\",\"linecolor\":\"white\",\"ticks\":\"\"},\"baxis\":{\"gridcolor\":\"white\",\"linecolor\":\"white\",\"ticks\":\"\"},\"caxis\":{\"gridcolor\":\"white\",\"linecolor\":\"white\",\"ticks\":\"\"}},\"coloraxis\":{\"colorbar\":{\"outlinewidth\":0,\"ticks\":\"\"}},\"colorscale\":{\"sequential\":[[0.0,\"#0d0887\"],[0.1111111111111111,\"#46039f\"],[0.2222222222222222,\"#7201a8\"],[0.3333333333333333,\"#9c179e\"],[0.4444444444444444,\"#bd3786\"],[0.5555555555555556,\"#d8576b\"],[0.6666666666666666,\"#ed7953\"],[0.7777777777777778,\"#fb9f3a\"],[0.8888888888888888,\"#fdca26\"],[1.0,\"#f0f921\"]],\"sequentialminus\":[[0.0,\"#0d0887\"],[0.1111111111111111,\"#46039f\"],[0.2222222222222222,\"#7201a8\"],[0.3333333333333333,\"#9c179e\"],[0.4444444444444444,\"#bd3786\"],[0.5555555555555556,\"#d8576b\"],[0.6666666666666666,\"#ed7953\"],[0.7777777777777778,\"#fb9f3a\"],[0.8888888888888888,\"#fdca26\"],[1.0,\"#f0f921\"]],\"diverging\":[[0,\"#8e0152\"],[0.1,\"#c51b7d\"],[0.2,\"#de77ae\"],[0.3,\"#f1b6da\"],[0.4,\"#fde0ef\"],[0.5,\"#f7f7f7\"],[0.6,\"#e6f5d0\"],[0.7,\"#b8e186\"],[0.8,\"#7fbc41\"],[0.9,\"#4d9221\"],[1,\"#276419\"]]},\"xaxis\":{\"gridcolor\":\"white\",\"linecolor\":\"white\",\"ticks\":\"\",\"title\":{\"standoff\":15},\"zerolinecolor\":\"white\",\"automargin\":true,\"zerolinewidth\":2},\"yaxis\":{\"gridcolor\":\"white\",\"linecolor\":\"white\",\"ticks\":\"\",\"title\":{\"standoff\":15},\"zerolinecolor\":\"white\",\"automargin\":true,\"zerolinewidth\":2},\"scene\":{\"xaxis\":{\"backgroundcolor\":\"#E5ECF6\",\"gridcolor\":\"white\",\"linecolor\":\"white\",\"showbackground\":true,\"ticks\":\"\",\"zerolinecolor\":\"white\",\"gridwidth\":2},\"yaxis\":{\"backgroundcolor\":\"#E5ECF6\",\"gridcolor\":\"white\",\"linecolor\":\"white\",\"showbackground\":true,\"ticks\":\"\",\"zerolinecolor\":\"white\",\"gridwidth\":2},\"zaxis\":{\"backgroundcolor\":\"#E5ECF6\",\"gridcolor\":\"white\",\"linecolor\":\"white\",\"showbackground\":true,\"ticks\":\"\",\"zerolinecolor\":\"white\",\"gridwidth\":2}},\"shapedefaults\":{\"line\":{\"color\":\"#2a3f5f\"}},\"annotationdefaults\":{\"arrowcolor\":\"#2a3f5f\",\"arrowhead\":0,\"arrowwidth\":1},\"geo\":{\"bgcolor\":\"white\",\"landcolor\":\"#E5ECF6\",\"subunitcolor\":\"white\",\"showland\":true,\"showlakes\":true,\"lakecolor\":\"white\"},\"title\":{\"x\":0.05},\"mapbox\":{\"style\":\"light\"}}},\"xaxis\":{\"anchor\":\"y\",\"domain\":[0.0,1.0],\"title\":{\"text\":\"Glucose\"}},\"yaxis\":{\"anchor\":\"x\",\"domain\":[0.0,0.8316],\"title\":{\"text\":\"count\"}},\"xaxis2\":{\"anchor\":\"y2\",\"domain\":[0.0,1.0],\"matches\":\"x\",\"showticklabels\":false,\"showgrid\":true},\"yaxis2\":{\"anchor\":\"x2\",\"domain\":[0.8416,1.0],\"matches\":\"y2\",\"showticklabels\":false,\"showline\":false,\"ticks\":\"\",\"showgrid\":false},\"legend\":{\"tracegroupgap\":0},\"title\":{\"text\":\"Distribution of Glucose\"},\"barmode\":\"relative\"},                        {\"responsive\": true}                    ).then(function(){\n",
              "                            \n",
              "var gd = document.getElementById('9e4e4c64-bbe0-442d-8dd8-fb8f8b37f9c9');\n",
              "var x = new MutationObserver(function (mutations, observer) {{\n",
              "        var display = window.getComputedStyle(gd).display;\n",
              "        if (!display || display === 'none') {{\n",
              "            console.log([gd, 'removed!']);\n",
              "            Plotly.purge(gd);\n",
              "            observer.disconnect();\n",
              "        }}\n",
              "}});\n",
              "\n",
              "// Listen for the removal of the full notebook cells\n",
              "var notebookContainer = gd.closest('#notebook-container');\n",
              "if (notebookContainer) {{\n",
              "    x.observe(notebookContainer, {childList: true});\n",
              "}}\n",
              "\n",
              "// Listen for the clearing of the current output cell\n",
              "var outputEl = gd.closest('.output');\n",
              "if (outputEl) {{\n",
              "    x.observe(outputEl, {childList: true});\n",
              "}}\n",
              "\n",
              "                        })                };                            </script>        </div>\n",
              "</body>\n",
              "</html>"
            ]
          },
          "metadata": {}
        }
      ]
    },
    {
      "cell_type": "code",
      "source": [
        "fig3 = px.histogram(df, x = 'BloodPressure', marginal = 'box',\n",
        "                    title = 'Distribution of Blood Pressure',\n",
        "                   color_discrete_sequence=px.colors.qualitative.Antique)\n",
        "fig3.show()"
      ],
      "metadata": {
        "colab": {
          "base_uri": "https://localhost:8080/",
          "height": 542
        },
        "id": "C9V-amVBM4ob",
        "outputId": "3f3b6233-6d19-4438-d369-ea5e6bccbe51"
      },
      "execution_count": 13,
      "outputs": [
        {
          "output_type": "display_data",
          "data": {
            "text/html": [
              "<html>\n",
              "<head><meta charset=\"utf-8\" /></head>\n",
              "<body>\n",
              "    <div>            <script src=\"https://cdnjs.cloudflare.com/ajax/libs/mathjax/2.7.5/MathJax.js?config=TeX-AMS-MML_SVG\"></script><script type=\"text/javascript\">if (window.MathJax && window.MathJax.Hub && window.MathJax.Hub.Config) {window.MathJax.Hub.Config({SVG: {font: \"STIX-Web\"}});}</script>                <script type=\"text/javascript\">window.PlotlyConfig = {MathJaxConfig: 'local'};</script>\n",
              "        <script charset=\"utf-8\" src=\"https://cdn.plot.ly/plotly-2.24.1.min.js\"></script>                <div id=\"fcf96664-4121-4359-8dab-c63ef079fcc5\" class=\"plotly-graph-div\" style=\"height:525px; width:100%;\"></div>            <script type=\"text/javascript\">                                    window.PLOTLYENV=window.PLOTLYENV || {};                                    if (document.getElementById(\"fcf96664-4121-4359-8dab-c63ef079fcc5\")) {                    Plotly.newPlot(                        \"fcf96664-4121-4359-8dab-c63ef079fcc5\",                        [{\"alignmentgroup\":\"True\",\"bingroup\":\"x\",\"hovertemplate\":\"BloodPressure=%{x}\\u003cbr\\u003ecount=%{y}\\u003cextra\\u003e\\u003c\\u002fextra\\u003e\",\"legendgroup\":\"\",\"marker\":{\"color\":\"rgb(133, 92, 117)\",\"pattern\":{\"shape\":\"\"}},\"name\":\"\",\"offsetgroup\":\"\",\"orientation\":\"v\",\"showlegend\":false,\"x\":[72,66,64,66,40,74,50,0,70,96,92,74,80,60,72,0,84,74,30,70,88,84,90,80,94,70,76,66,82,92,75,76,58,92,78,60,76,76,68,72,64,84,92,110,64,66,56,70,66,0,80,50,66,90,66,50,68,88,82,64,0,72,62,58,66,74,88,92,66,85,66,64,90,86,75,48,78,72,0,66,44,0,78,65,108,74,72,68,70,68,55,80,78,72,82,72,62,48,50,90,72,60,96,72,65,56,122,58,58,85,72,62,76,62,54,92,74,48,60,76,76,64,74,80,76,30,70,58,88,84,70,56,64,74,68,60,70,60,80,72,78,82,52,66,62,75,80,64,78,70,74,65,86,82,78,88,52,56,74,72,90,74,80,64,88,74,66,68,66,90,82,70,0,60,64,72,78,110,78,82,80,64,74,60,74,68,68,98,76,80,62,70,66,0,55,84,58,62,64,60,80,82,68,70,72,72,76,104,64,84,60,85,95,65,82,70,62,68,74,66,60,90,0,60,66,78,76,52,70,80,86,80,80,68,68,72,84,90,84,76,64,70,54,50,76,85,68,90,70,86,52,84,80,68,62,64,56,68,50,76,68,0,70,80,62,74,0,64,52,0,86,62,78,78,70,70,60,64,74,62,70,76,88,86,80,74,84,86,56,72,88,62,78,48,50,62,70,84,78,72,0,58,82,98,76,76,68,68,68,68,66,70,74,50,80,68,80,74,66,78,60,74,70,90,75,72,64,70,86,70,72,58,0,80,60,76,0,76,78,84,70,74,68,86,72,88,46,0,62,80,80,84,82,62,78,88,50,0,74,76,64,70,108,78,74,54,72,64,86,102,82,64,64,58,52,82,82,60,75,100,72,68,60,62,70,54,74,100,82,68,66,76,64,72,78,58,56,66,70,70,64,61,84,78,64,48,72,62,74,68,90,72,84,74,60,84,68,82,68,64,88,68,64,64,78,78,0,64,94,82,0,74,74,75,68,0,85,75,70,88,104,66,64,70,62,78,72,80,64,74,64,70,68,0,54,62,54,68,84,74,72,62,70,78,98,56,52,64,0,78,82,70,66,90,64,84,80,76,74,86,70,88,58,82,0,68,62,78,72,80,65,90,68,70,0,74,68,72,70,74,90,72,68,64,78,82,90,60,50,78,72,62,68,62,54,70,88,86,60,90,70,80,0,70,58,60,64,74,66,65,60,76,66,0,56,0,90,60,80,92,74,72,85,90,78,90,76,68,82,110,70,68,88,62,64,70,70,76,68,74,76,66,68,60,80,54,72,62,72,66,70,96,58,60,86,44,44,80,68,70,90,60,78,76,76,56,66,66,86,0,84,78,80,52,72,82,76,24,74,38,88,0,74,78,0,60,78,62,82,62,54,58,88,80,74,72,96,62,82,0,86,76,94,70,64,88,68,78,80,65,64,78,60,82,62,72,74,76,76,74,86,70,80,0,72,74,74,50,84,60,54,60,74,54,70,52,58,80,106,82,84,76,106,80,60,80,82,70,58,78,68,58,106,100,82,70,86,60,52,58,56,76,64,80,82,74,64,50,74,82,80,114,70,68,60,90,74,0,88,70,76,78,88,0,76,80,0,46,78,64,64,78,62,58,74,50,78,72,60,76,86,66,68,86,94,78,78,84,88,52,78,86,88,56,75,60,86,72,60,74,80,44,58,94,88,84,94,74,70,62,70,78,62,88,78,88,90,72,76,92,58,74,62,76,70,72,60,70],\"xaxis\":\"x\",\"yaxis\":\"y\",\"type\":\"histogram\"},{\"alignmentgroup\":\"True\",\"hovertemplate\":\"BloodPressure=%{x}\\u003cextra\\u003e\\u003c\\u002fextra\\u003e\",\"legendgroup\":\"\",\"marker\":{\"color\":\"rgb(133, 92, 117)\"},\"name\":\"\",\"notched\":true,\"offsetgroup\":\"\",\"showlegend\":false,\"x\":[72,66,64,66,40,74,50,0,70,96,92,74,80,60,72,0,84,74,30,70,88,84,90,80,94,70,76,66,82,92,75,76,58,92,78,60,76,76,68,72,64,84,92,110,64,66,56,70,66,0,80,50,66,90,66,50,68,88,82,64,0,72,62,58,66,74,88,92,66,85,66,64,90,86,75,48,78,72,0,66,44,0,78,65,108,74,72,68,70,68,55,80,78,72,82,72,62,48,50,90,72,60,96,72,65,56,122,58,58,85,72,62,76,62,54,92,74,48,60,76,76,64,74,80,76,30,70,58,88,84,70,56,64,74,68,60,70,60,80,72,78,82,52,66,62,75,80,64,78,70,74,65,86,82,78,88,52,56,74,72,90,74,80,64,88,74,66,68,66,90,82,70,0,60,64,72,78,110,78,82,80,64,74,60,74,68,68,98,76,80,62,70,66,0,55,84,58,62,64,60,80,82,68,70,72,72,76,104,64,84,60,85,95,65,82,70,62,68,74,66,60,90,0,60,66,78,76,52,70,80,86,80,80,68,68,72,84,90,84,76,64,70,54,50,76,85,68,90,70,86,52,84,80,68,62,64,56,68,50,76,68,0,70,80,62,74,0,64,52,0,86,62,78,78,70,70,60,64,74,62,70,76,88,86,80,74,84,86,56,72,88,62,78,48,50,62,70,84,78,72,0,58,82,98,76,76,68,68,68,68,66,70,74,50,80,68,80,74,66,78,60,74,70,90,75,72,64,70,86,70,72,58,0,80,60,76,0,76,78,84,70,74,68,86,72,88,46,0,62,80,80,84,82,62,78,88,50,0,74,76,64,70,108,78,74,54,72,64,86,102,82,64,64,58,52,82,82,60,75,100,72,68,60,62,70,54,74,100,82,68,66,76,64,72,78,58,56,66,70,70,64,61,84,78,64,48,72,62,74,68,90,72,84,74,60,84,68,82,68,64,88,68,64,64,78,78,0,64,94,82,0,74,74,75,68,0,85,75,70,88,104,66,64,70,62,78,72,80,64,74,64,70,68,0,54,62,54,68,84,74,72,62,70,78,98,56,52,64,0,78,82,70,66,90,64,84,80,76,74,86,70,88,58,82,0,68,62,78,72,80,65,90,68,70,0,74,68,72,70,74,90,72,68,64,78,82,90,60,50,78,72,62,68,62,54,70,88,86,60,90,70,80,0,70,58,60,64,74,66,65,60,76,66,0,56,0,90,60,80,92,74,72,85,90,78,90,76,68,82,110,70,68,88,62,64,70,70,76,68,74,76,66,68,60,80,54,72,62,72,66,70,96,58,60,86,44,44,80,68,70,90,60,78,76,76,56,66,66,86,0,84,78,80,52,72,82,76,24,74,38,88,0,74,78,0,60,78,62,82,62,54,58,88,80,74,72,96,62,82,0,86,76,94,70,64,88,68,78,80,65,64,78,60,82,62,72,74,76,76,74,86,70,80,0,72,74,74,50,84,60,54,60,74,54,70,52,58,80,106,82,84,76,106,80,60,80,82,70,58,78,68,58,106,100,82,70,86,60,52,58,56,76,64,80,82,74,64,50,74,82,80,114,70,68,60,90,74,0,88,70,76,78,88,0,76,80,0,46,78,64,64,78,62,58,74,50,78,72,60,76,86,66,68,86,94,78,78,84,88,52,78,86,88,56,75,60,86,72,60,74,80,44,58,94,88,84,94,74,70,62,70,78,62,88,78,88,90,72,76,92,58,74,62,76,70,72,60,70],\"xaxis\":\"x2\",\"yaxis\":\"y2\",\"type\":\"box\"}],                        {\"template\":{\"data\":{\"histogram2dcontour\":[{\"type\":\"histogram2dcontour\",\"colorbar\":{\"outlinewidth\":0,\"ticks\":\"\"},\"colorscale\":[[0.0,\"#0d0887\"],[0.1111111111111111,\"#46039f\"],[0.2222222222222222,\"#7201a8\"],[0.3333333333333333,\"#9c179e\"],[0.4444444444444444,\"#bd3786\"],[0.5555555555555556,\"#d8576b\"],[0.6666666666666666,\"#ed7953\"],[0.7777777777777778,\"#fb9f3a\"],[0.8888888888888888,\"#fdca26\"],[1.0,\"#f0f921\"]]}],\"choropleth\":[{\"type\":\"choropleth\",\"colorbar\":{\"outlinewidth\":0,\"ticks\":\"\"}}],\"histogram2d\":[{\"type\":\"histogram2d\",\"colorbar\":{\"outlinewidth\":0,\"ticks\":\"\"},\"colorscale\":[[0.0,\"#0d0887\"],[0.1111111111111111,\"#46039f\"],[0.2222222222222222,\"#7201a8\"],[0.3333333333333333,\"#9c179e\"],[0.4444444444444444,\"#bd3786\"],[0.5555555555555556,\"#d8576b\"],[0.6666666666666666,\"#ed7953\"],[0.7777777777777778,\"#fb9f3a\"],[0.8888888888888888,\"#fdca26\"],[1.0,\"#f0f921\"]]}],\"heatmap\":[{\"type\":\"heatmap\",\"colorbar\":{\"outlinewidth\":0,\"ticks\":\"\"},\"colorscale\":[[0.0,\"#0d0887\"],[0.1111111111111111,\"#46039f\"],[0.2222222222222222,\"#7201a8\"],[0.3333333333333333,\"#9c179e\"],[0.4444444444444444,\"#bd3786\"],[0.5555555555555556,\"#d8576b\"],[0.6666666666666666,\"#ed7953\"],[0.7777777777777778,\"#fb9f3a\"],[0.8888888888888888,\"#fdca26\"],[1.0,\"#f0f921\"]]}],\"heatmapgl\":[{\"type\":\"heatmapgl\",\"colorbar\":{\"outlinewidth\":0,\"ticks\":\"\"},\"colorscale\":[[0.0,\"#0d0887\"],[0.1111111111111111,\"#46039f\"],[0.2222222222222222,\"#7201a8\"],[0.3333333333333333,\"#9c179e\"],[0.4444444444444444,\"#bd3786\"],[0.5555555555555556,\"#d8576b\"],[0.6666666666666666,\"#ed7953\"],[0.7777777777777778,\"#fb9f3a\"],[0.8888888888888888,\"#fdca26\"],[1.0,\"#f0f921\"]]}],\"contourcarpet\":[{\"type\":\"contourcarpet\",\"colorbar\":{\"outlinewidth\":0,\"ticks\":\"\"}}],\"contour\":[{\"type\":\"contour\",\"colorbar\":{\"outlinewidth\":0,\"ticks\":\"\"},\"colorscale\":[[0.0,\"#0d0887\"],[0.1111111111111111,\"#46039f\"],[0.2222222222222222,\"#7201a8\"],[0.3333333333333333,\"#9c179e\"],[0.4444444444444444,\"#bd3786\"],[0.5555555555555556,\"#d8576b\"],[0.6666666666666666,\"#ed7953\"],[0.7777777777777778,\"#fb9f3a\"],[0.8888888888888888,\"#fdca26\"],[1.0,\"#f0f921\"]]}],\"surface\":[{\"type\":\"surface\",\"colorbar\":{\"outlinewidth\":0,\"ticks\":\"\"},\"colorscale\":[[0.0,\"#0d0887\"],[0.1111111111111111,\"#46039f\"],[0.2222222222222222,\"#7201a8\"],[0.3333333333333333,\"#9c179e\"],[0.4444444444444444,\"#bd3786\"],[0.5555555555555556,\"#d8576b\"],[0.6666666666666666,\"#ed7953\"],[0.7777777777777778,\"#fb9f3a\"],[0.8888888888888888,\"#fdca26\"],[1.0,\"#f0f921\"]]}],\"mesh3d\":[{\"type\":\"mesh3d\",\"colorbar\":{\"outlinewidth\":0,\"ticks\":\"\"}}],\"scatter\":[{\"fillpattern\":{\"fillmode\":\"overlay\",\"size\":10,\"solidity\":0.2},\"type\":\"scatter\"}],\"parcoords\":[{\"type\":\"parcoords\",\"line\":{\"colorbar\":{\"outlinewidth\":0,\"ticks\":\"\"}}}],\"scatterpolargl\":[{\"type\":\"scatterpolargl\",\"marker\":{\"colorbar\":{\"outlinewidth\":0,\"ticks\":\"\"}}}],\"bar\":[{\"error_x\":{\"color\":\"#2a3f5f\"},\"error_y\":{\"color\":\"#2a3f5f\"},\"marker\":{\"line\":{\"color\":\"#E5ECF6\",\"width\":0.5},\"pattern\":{\"fillmode\":\"overlay\",\"size\":10,\"solidity\":0.2}},\"type\":\"bar\"}],\"scattergeo\":[{\"type\":\"scattergeo\",\"marker\":{\"colorbar\":{\"outlinewidth\":0,\"ticks\":\"\"}}}],\"scatterpolar\":[{\"type\":\"scatterpolar\",\"marker\":{\"colorbar\":{\"outlinewidth\":0,\"ticks\":\"\"}}}],\"histogram\":[{\"marker\":{\"pattern\":{\"fillmode\":\"overlay\",\"size\":10,\"solidity\":0.2}},\"type\":\"histogram\"}],\"scattergl\":[{\"type\":\"scattergl\",\"marker\":{\"colorbar\":{\"outlinewidth\":0,\"ticks\":\"\"}}}],\"scatter3d\":[{\"type\":\"scatter3d\",\"line\":{\"colorbar\":{\"outlinewidth\":0,\"ticks\":\"\"}},\"marker\":{\"colorbar\":{\"outlinewidth\":0,\"ticks\":\"\"}}}],\"scattermapbox\":[{\"type\":\"scattermapbox\",\"marker\":{\"colorbar\":{\"outlinewidth\":0,\"ticks\":\"\"}}}],\"scatterternary\":[{\"type\":\"scatterternary\",\"marker\":{\"colorbar\":{\"outlinewidth\":0,\"ticks\":\"\"}}}],\"scattercarpet\":[{\"type\":\"scattercarpet\",\"marker\":{\"colorbar\":{\"outlinewidth\":0,\"ticks\":\"\"}}}],\"carpet\":[{\"aaxis\":{\"endlinecolor\":\"#2a3f5f\",\"gridcolor\":\"white\",\"linecolor\":\"white\",\"minorgridcolor\":\"white\",\"startlinecolor\":\"#2a3f5f\"},\"baxis\":{\"endlinecolor\":\"#2a3f5f\",\"gridcolor\":\"white\",\"linecolor\":\"white\",\"minorgridcolor\":\"white\",\"startlinecolor\":\"#2a3f5f\"},\"type\":\"carpet\"}],\"table\":[{\"cells\":{\"fill\":{\"color\":\"#EBF0F8\"},\"line\":{\"color\":\"white\"}},\"header\":{\"fill\":{\"color\":\"#C8D4E3\"},\"line\":{\"color\":\"white\"}},\"type\":\"table\"}],\"barpolar\":[{\"marker\":{\"line\":{\"color\":\"#E5ECF6\",\"width\":0.5},\"pattern\":{\"fillmode\":\"overlay\",\"size\":10,\"solidity\":0.2}},\"type\":\"barpolar\"}],\"pie\":[{\"automargin\":true,\"type\":\"pie\"}]},\"layout\":{\"autotypenumbers\":\"strict\",\"colorway\":[\"#636efa\",\"#EF553B\",\"#00cc96\",\"#ab63fa\",\"#FFA15A\",\"#19d3f3\",\"#FF6692\",\"#B6E880\",\"#FF97FF\",\"#FECB52\"],\"font\":{\"color\":\"#2a3f5f\"},\"hovermode\":\"closest\",\"hoverlabel\":{\"align\":\"left\"},\"paper_bgcolor\":\"white\",\"plot_bgcolor\":\"#E5ECF6\",\"polar\":{\"bgcolor\":\"#E5ECF6\",\"angularaxis\":{\"gridcolor\":\"white\",\"linecolor\":\"white\",\"ticks\":\"\"},\"radialaxis\":{\"gridcolor\":\"white\",\"linecolor\":\"white\",\"ticks\":\"\"}},\"ternary\":{\"bgcolor\":\"#E5ECF6\",\"aaxis\":{\"gridcolor\":\"white\",\"linecolor\":\"white\",\"ticks\":\"\"},\"baxis\":{\"gridcolor\":\"white\",\"linecolor\":\"white\",\"ticks\":\"\"},\"caxis\":{\"gridcolor\":\"white\",\"linecolor\":\"white\",\"ticks\":\"\"}},\"coloraxis\":{\"colorbar\":{\"outlinewidth\":0,\"ticks\":\"\"}},\"colorscale\":{\"sequential\":[[0.0,\"#0d0887\"],[0.1111111111111111,\"#46039f\"],[0.2222222222222222,\"#7201a8\"],[0.3333333333333333,\"#9c179e\"],[0.4444444444444444,\"#bd3786\"],[0.5555555555555556,\"#d8576b\"],[0.6666666666666666,\"#ed7953\"],[0.7777777777777778,\"#fb9f3a\"],[0.8888888888888888,\"#fdca26\"],[1.0,\"#f0f921\"]],\"sequentialminus\":[[0.0,\"#0d0887\"],[0.1111111111111111,\"#46039f\"],[0.2222222222222222,\"#7201a8\"],[0.3333333333333333,\"#9c179e\"],[0.4444444444444444,\"#bd3786\"],[0.5555555555555556,\"#d8576b\"],[0.6666666666666666,\"#ed7953\"],[0.7777777777777778,\"#fb9f3a\"],[0.8888888888888888,\"#fdca26\"],[1.0,\"#f0f921\"]],\"diverging\":[[0,\"#8e0152\"],[0.1,\"#c51b7d\"],[0.2,\"#de77ae\"],[0.3,\"#f1b6da\"],[0.4,\"#fde0ef\"],[0.5,\"#f7f7f7\"],[0.6,\"#e6f5d0\"],[0.7,\"#b8e186\"],[0.8,\"#7fbc41\"],[0.9,\"#4d9221\"],[1,\"#276419\"]]},\"xaxis\":{\"gridcolor\":\"white\",\"linecolor\":\"white\",\"ticks\":\"\",\"title\":{\"standoff\":15},\"zerolinecolor\":\"white\",\"automargin\":true,\"zerolinewidth\":2},\"yaxis\":{\"gridcolor\":\"white\",\"linecolor\":\"white\",\"ticks\":\"\",\"title\":{\"standoff\":15},\"zerolinecolor\":\"white\",\"automargin\":true,\"zerolinewidth\":2},\"scene\":{\"xaxis\":{\"backgroundcolor\":\"#E5ECF6\",\"gridcolor\":\"white\",\"linecolor\":\"white\",\"showbackground\":true,\"ticks\":\"\",\"zerolinecolor\":\"white\",\"gridwidth\":2},\"yaxis\":{\"backgroundcolor\":\"#E5ECF6\",\"gridcolor\":\"white\",\"linecolor\":\"white\",\"showbackground\":true,\"ticks\":\"\",\"zerolinecolor\":\"white\",\"gridwidth\":2},\"zaxis\":{\"backgroundcolor\":\"#E5ECF6\",\"gridcolor\":\"white\",\"linecolor\":\"white\",\"showbackground\":true,\"ticks\":\"\",\"zerolinecolor\":\"white\",\"gridwidth\":2}},\"shapedefaults\":{\"line\":{\"color\":\"#2a3f5f\"}},\"annotationdefaults\":{\"arrowcolor\":\"#2a3f5f\",\"arrowhead\":0,\"arrowwidth\":1},\"geo\":{\"bgcolor\":\"white\",\"landcolor\":\"#E5ECF6\",\"subunitcolor\":\"white\",\"showland\":true,\"showlakes\":true,\"lakecolor\":\"white\"},\"title\":{\"x\":0.05},\"mapbox\":{\"style\":\"light\"}}},\"xaxis\":{\"anchor\":\"y\",\"domain\":[0.0,1.0],\"title\":{\"text\":\"BloodPressure\"}},\"yaxis\":{\"anchor\":\"x\",\"domain\":[0.0,0.8316],\"title\":{\"text\":\"count\"}},\"xaxis2\":{\"anchor\":\"y2\",\"domain\":[0.0,1.0],\"matches\":\"x\",\"showticklabels\":false,\"showgrid\":true},\"yaxis2\":{\"anchor\":\"x2\",\"domain\":[0.8416,1.0],\"matches\":\"y2\",\"showticklabels\":false,\"showline\":false,\"ticks\":\"\",\"showgrid\":false},\"legend\":{\"tracegroupgap\":0},\"title\":{\"text\":\"Distribution of Blood Pressure\"},\"barmode\":\"relative\"},                        {\"responsive\": true}                    ).then(function(){\n",
              "                            \n",
              "var gd = document.getElementById('fcf96664-4121-4359-8dab-c63ef079fcc5');\n",
              "var x = new MutationObserver(function (mutations, observer) {{\n",
              "        var display = window.getComputedStyle(gd).display;\n",
              "        if (!display || display === 'none') {{\n",
              "            console.log([gd, 'removed!']);\n",
              "            Plotly.purge(gd);\n",
              "            observer.disconnect();\n",
              "        }}\n",
              "}});\n",
              "\n",
              "// Listen for the removal of the full notebook cells\n",
              "var notebookContainer = gd.closest('#notebook-container');\n",
              "if (notebookContainer) {{\n",
              "    x.observe(notebookContainer, {childList: true});\n",
              "}}\n",
              "\n",
              "// Listen for the clearing of the current output cell\n",
              "var outputEl = gd.closest('.output');\n",
              "if (outputEl) {{\n",
              "    x.observe(outputEl, {childList: true});\n",
              "}}\n",
              "\n",
              "                        })                };                            </script>        </div>\n",
              "</body>\n",
              "</html>"
            ]
          },
          "metadata": {}
        }
      ]
    },
    {
      "cell_type": "code",
      "source": [
        "fig4 = px.histogram(df, x = 'SkinThickness', marginal = 'box',\n",
        "                    title = 'Distribution of Skin Thickness',\n",
        "                   color_discrete_sequence=px.colors.qualitative.Antique)\n",
        "fig4.show()"
      ],
      "metadata": {
        "colab": {
          "base_uri": "https://localhost:8080/",
          "height": 542
        },
        "id": "gt8sDlhFM9Jd",
        "outputId": "27ea8624-7b02-4c5a-ca28-78372f531cdc"
      },
      "execution_count": 14,
      "outputs": [
        {
          "output_type": "display_data",
          "data": {
            "text/html": [
              "<html>\n",
              "<head><meta charset=\"utf-8\" /></head>\n",
              "<body>\n",
              "    <div>            <script src=\"https://cdnjs.cloudflare.com/ajax/libs/mathjax/2.7.5/MathJax.js?config=TeX-AMS-MML_SVG\"></script><script type=\"text/javascript\">if (window.MathJax && window.MathJax.Hub && window.MathJax.Hub.Config) {window.MathJax.Hub.Config({SVG: {font: \"STIX-Web\"}});}</script>                <script type=\"text/javascript\">window.PlotlyConfig = {MathJaxConfig: 'local'};</script>\n",
              "        <script charset=\"utf-8\" src=\"https://cdn.plot.ly/plotly-2.24.1.min.js\"></script>                <div id=\"055921dc-effc-426c-9ad5-612f179b2a08\" class=\"plotly-graph-div\" style=\"height:525px; width:100%;\"></div>            <script type=\"text/javascript\">                                    window.PLOTLYENV=window.PLOTLYENV || {};                                    if (document.getElementById(\"055921dc-effc-426c-9ad5-612f179b2a08\")) {                    Plotly.newPlot(                        \"055921dc-effc-426c-9ad5-612f179b2a08\",                        [{\"alignmentgroup\":\"True\",\"bingroup\":\"x\",\"hovertemplate\":\"SkinThickness=%{x}\\u003cbr\\u003ecount=%{y}\\u003cextra\\u003e\\u003c\\u002fextra\\u003e\",\"legendgroup\":\"\",\"marker\":{\"color\":\"rgb(133, 92, 117)\",\"pattern\":{\"shape\":\"\"}},\"name\":\"\",\"offsetgroup\":\"\",\"orientation\":\"v\",\"showlegend\":false,\"x\":[35,29,0,23,35,0,32,0,45,0,0,0,0,23,19,0,47,0,38,30,41,0,0,35,33,26,0,15,19,0,26,36,11,0,31,33,0,37,42,47,25,0,18,24,0,39,0,27,32,0,11,15,21,34,42,10,39,60,0,41,0,0,0,34,0,27,30,0,13,27,20,35,0,20,30,20,0,33,0,22,13,0,26,28,0,29,54,25,32,19,0,15,40,0,18,27,28,18,30,51,0,0,0,18,0,29,0,28,31,25,33,26,34,0,32,0,0,0,23,15,56,39,30,0,0,42,30,36,24,0,14,0,37,31,13,20,26,25,0,29,0,30,26,0,31,23,37,35,0,17,50,0,28,42,0,44,15,21,19,41,38,40,34,23,0,18,25,0,0,12,0,23,23,42,24,42,0,46,0,0,0,18,20,0,0,28,36,41,39,35,0,44,0,0,20,41,0,13,44,27,16,0,20,16,32,28,29,0,27,33,22,54,31,26,32,40,41,30,22,0,29,0,0,33,15,27,0,38,39,31,0,37,25,0,28,0,21,27,21,0,24,32,0,22,35,15,0,33,33,19,0,0,14,32,7,35,39,22,16,28,15,0,32,15,0,18,0,42,0,0,37,32,0,50,0,52,24,23,0,10,0,28,15,0,0,26,44,39,17,43,29,30,37,45,0,31,38,29,25,0,0,33,41,0,0,37,23,14,19,28,30,37,17,10,31,22,11,0,39,0,12,30,20,33,32,21,32,0,36,32,19,16,0,0,18,43,0,0,34,0,13,21,35,0,0,36,19,0,19,32,0,0,28,12,0,0,40,30,40,36,33,0,37,0,25,28,0,17,16,28,48,23,22,40,43,43,15,37,0,39,30,22,8,18,24,13,29,36,26,23,29,0,14,12,0,24,34,40,0,31,0,0,41,25,0,32,0,0,0,49,39,30,23,22,35,33,21,32,0,29,41,18,46,22,32,39,0,30,46,25,0,16,11,0,8,0,33,0,15,0,25,23,27,0,12,63,12,45,37,18,13,0,32,0,28,30,0,28,48,33,22,0,40,30,0,13,10,36,0,41,40,38,27,0,0,27,45,17,38,31,30,37,22,31,0,42,41,32,17,0,28,30,38,18,0,0,0,15,33,32,19,32,41,25,39,0,26,23,23,0,31,17,0,0,19,18,34,0,0,7,32,33,0,0,0,18,19,15,31,0,18,0,52,0,30,0,0,0,37,49,40,25,32,23,29,35,27,21,43,31,28,30,0,24,23,33,40,0,40,0,0,32,34,19,0,14,30,32,29,30,0,0,31,17,30,47,20,0,0,99,46,27,17,0,24,11,0,0,27,0,40,50,0,22,45,14,0,19,0,18,19,0,36,29,0,32,42,25,39,13,21,22,42,28,26,0,0,13,24,0,42,20,0,27,0,47,0,0,0,22,0,40,0,17,0,0,0,18,32,12,17,0,0,0,30,35,17,36,35,25,25,23,40,0,28,27,35,48,0,31,0,43,46,46,39,45,18,27,33,30,26,10,23,35,0,0,0,0,0,17,28,36,39,0,0,26,0,19,26,46,0,0,32,49,0,24,19,0,11,0,27,31,29,0,20,36,0,21,0,32,13,27,36,20,0,33,39,18,46,27,19,36,29,30,0,40,29,26,0,0,23,0,37,27,0,32,27,23,17,0,37,20,18,0,37,33,41,41,22,0,0,39,24,44,32,39,41,0,0,0,26,31,0,48,27,23,0,31],\"xaxis\":\"x\",\"yaxis\":\"y\",\"type\":\"histogram\"},{\"alignmentgroup\":\"True\",\"hovertemplate\":\"SkinThickness=%{x}\\u003cextra\\u003e\\u003c\\u002fextra\\u003e\",\"legendgroup\":\"\",\"marker\":{\"color\":\"rgb(133, 92, 117)\"},\"name\":\"\",\"notched\":true,\"offsetgroup\":\"\",\"showlegend\":false,\"x\":[35,29,0,23,35,0,32,0,45,0,0,0,0,23,19,0,47,0,38,30,41,0,0,35,33,26,0,15,19,0,26,36,11,0,31,33,0,37,42,47,25,0,18,24,0,39,0,27,32,0,11,15,21,34,42,10,39,60,0,41,0,0,0,34,0,27,30,0,13,27,20,35,0,20,30,20,0,33,0,22,13,0,26,28,0,29,54,25,32,19,0,15,40,0,18,27,28,18,30,51,0,0,0,18,0,29,0,28,31,25,33,26,34,0,32,0,0,0,23,15,56,39,30,0,0,42,30,36,24,0,14,0,37,31,13,20,26,25,0,29,0,30,26,0,31,23,37,35,0,17,50,0,28,42,0,44,15,21,19,41,38,40,34,23,0,18,25,0,0,12,0,23,23,42,24,42,0,46,0,0,0,18,20,0,0,28,36,41,39,35,0,44,0,0,20,41,0,13,44,27,16,0,20,16,32,28,29,0,27,33,22,54,31,26,32,40,41,30,22,0,29,0,0,33,15,27,0,38,39,31,0,37,25,0,28,0,21,27,21,0,24,32,0,22,35,15,0,33,33,19,0,0,14,32,7,35,39,22,16,28,15,0,32,15,0,18,0,42,0,0,37,32,0,50,0,52,24,23,0,10,0,28,15,0,0,26,44,39,17,43,29,30,37,45,0,31,38,29,25,0,0,33,41,0,0,37,23,14,19,28,30,37,17,10,31,22,11,0,39,0,12,30,20,33,32,21,32,0,36,32,19,16,0,0,18,43,0,0,34,0,13,21,35,0,0,36,19,0,19,32,0,0,28,12,0,0,40,30,40,36,33,0,37,0,25,28,0,17,16,28,48,23,22,40,43,43,15,37,0,39,30,22,8,18,24,13,29,36,26,23,29,0,14,12,0,24,34,40,0,31,0,0,41,25,0,32,0,0,0,49,39,30,23,22,35,33,21,32,0,29,41,18,46,22,32,39,0,30,46,25,0,16,11,0,8,0,33,0,15,0,25,23,27,0,12,63,12,45,37,18,13,0,32,0,28,30,0,28,48,33,22,0,40,30,0,13,10,36,0,41,40,38,27,0,0,27,45,17,38,31,30,37,22,31,0,42,41,32,17,0,28,30,38,18,0,0,0,15,33,32,19,32,41,25,39,0,26,23,23,0,31,17,0,0,19,18,34,0,0,7,32,33,0,0,0,18,19,15,31,0,18,0,52,0,30,0,0,0,37,49,40,25,32,23,29,35,27,21,43,31,28,30,0,24,23,33,40,0,40,0,0,32,34,19,0,14,30,32,29,30,0,0,31,17,30,47,20,0,0,99,46,27,17,0,24,11,0,0,27,0,40,50,0,22,45,14,0,19,0,18,19,0,36,29,0,32,42,25,39,13,21,22,42,28,26,0,0,13,24,0,42,20,0,27,0,47,0,0,0,22,0,40,0,17,0,0,0,18,32,12,17,0,0,0,30,35,17,36,35,25,25,23,40,0,28,27,35,48,0,31,0,43,46,46,39,45,18,27,33,30,26,10,23,35,0,0,0,0,0,17,28,36,39,0,0,26,0,19,26,46,0,0,32,49,0,24,19,0,11,0,27,31,29,0,20,36,0,21,0,32,13,27,36,20,0,33,39,18,46,27,19,36,29,30,0,40,29,26,0,0,23,0,37,27,0,32,27,23,17,0,37,20,18,0,37,33,41,41,22,0,0,39,24,44,32,39,41,0,0,0,26,31,0,48,27,23,0,31],\"xaxis\":\"x2\",\"yaxis\":\"y2\",\"type\":\"box\"}],                        {\"template\":{\"data\":{\"histogram2dcontour\":[{\"type\":\"histogram2dcontour\",\"colorbar\":{\"outlinewidth\":0,\"ticks\":\"\"},\"colorscale\":[[0.0,\"#0d0887\"],[0.1111111111111111,\"#46039f\"],[0.2222222222222222,\"#7201a8\"],[0.3333333333333333,\"#9c179e\"],[0.4444444444444444,\"#bd3786\"],[0.5555555555555556,\"#d8576b\"],[0.6666666666666666,\"#ed7953\"],[0.7777777777777778,\"#fb9f3a\"],[0.8888888888888888,\"#fdca26\"],[1.0,\"#f0f921\"]]}],\"choropleth\":[{\"type\":\"choropleth\",\"colorbar\":{\"outlinewidth\":0,\"ticks\":\"\"}}],\"histogram2d\":[{\"type\":\"histogram2d\",\"colorbar\":{\"outlinewidth\":0,\"ticks\":\"\"},\"colorscale\":[[0.0,\"#0d0887\"],[0.1111111111111111,\"#46039f\"],[0.2222222222222222,\"#7201a8\"],[0.3333333333333333,\"#9c179e\"],[0.4444444444444444,\"#bd3786\"],[0.5555555555555556,\"#d8576b\"],[0.6666666666666666,\"#ed7953\"],[0.7777777777777778,\"#fb9f3a\"],[0.8888888888888888,\"#fdca26\"],[1.0,\"#f0f921\"]]}],\"heatmap\":[{\"type\":\"heatmap\",\"colorbar\":{\"outlinewidth\":0,\"ticks\":\"\"},\"colorscale\":[[0.0,\"#0d0887\"],[0.1111111111111111,\"#46039f\"],[0.2222222222222222,\"#7201a8\"],[0.3333333333333333,\"#9c179e\"],[0.4444444444444444,\"#bd3786\"],[0.5555555555555556,\"#d8576b\"],[0.6666666666666666,\"#ed7953\"],[0.7777777777777778,\"#fb9f3a\"],[0.8888888888888888,\"#fdca26\"],[1.0,\"#f0f921\"]]}],\"heatmapgl\":[{\"type\":\"heatmapgl\",\"colorbar\":{\"outlinewidth\":0,\"ticks\":\"\"},\"colorscale\":[[0.0,\"#0d0887\"],[0.1111111111111111,\"#46039f\"],[0.2222222222222222,\"#7201a8\"],[0.3333333333333333,\"#9c179e\"],[0.4444444444444444,\"#bd3786\"],[0.5555555555555556,\"#d8576b\"],[0.6666666666666666,\"#ed7953\"],[0.7777777777777778,\"#fb9f3a\"],[0.8888888888888888,\"#fdca26\"],[1.0,\"#f0f921\"]]}],\"contourcarpet\":[{\"type\":\"contourcarpet\",\"colorbar\":{\"outlinewidth\":0,\"ticks\":\"\"}}],\"contour\":[{\"type\":\"contour\",\"colorbar\":{\"outlinewidth\":0,\"ticks\":\"\"},\"colorscale\":[[0.0,\"#0d0887\"],[0.1111111111111111,\"#46039f\"],[0.2222222222222222,\"#7201a8\"],[0.3333333333333333,\"#9c179e\"],[0.4444444444444444,\"#bd3786\"],[0.5555555555555556,\"#d8576b\"],[0.6666666666666666,\"#ed7953\"],[0.7777777777777778,\"#fb9f3a\"],[0.8888888888888888,\"#fdca26\"],[1.0,\"#f0f921\"]]}],\"surface\":[{\"type\":\"surface\",\"colorbar\":{\"outlinewidth\":0,\"ticks\":\"\"},\"colorscale\":[[0.0,\"#0d0887\"],[0.1111111111111111,\"#46039f\"],[0.2222222222222222,\"#7201a8\"],[0.3333333333333333,\"#9c179e\"],[0.4444444444444444,\"#bd3786\"],[0.5555555555555556,\"#d8576b\"],[0.6666666666666666,\"#ed7953\"],[0.7777777777777778,\"#fb9f3a\"],[0.8888888888888888,\"#fdca26\"],[1.0,\"#f0f921\"]]}],\"mesh3d\":[{\"type\":\"mesh3d\",\"colorbar\":{\"outlinewidth\":0,\"ticks\":\"\"}}],\"scatter\":[{\"fillpattern\":{\"fillmode\":\"overlay\",\"size\":10,\"solidity\":0.2},\"type\":\"scatter\"}],\"parcoords\":[{\"type\":\"parcoords\",\"line\":{\"colorbar\":{\"outlinewidth\":0,\"ticks\":\"\"}}}],\"scatterpolargl\":[{\"type\":\"scatterpolargl\",\"marker\":{\"colorbar\":{\"outlinewidth\":0,\"ticks\":\"\"}}}],\"bar\":[{\"error_x\":{\"color\":\"#2a3f5f\"},\"error_y\":{\"color\":\"#2a3f5f\"},\"marker\":{\"line\":{\"color\":\"#E5ECF6\",\"width\":0.5},\"pattern\":{\"fillmode\":\"overlay\",\"size\":10,\"solidity\":0.2}},\"type\":\"bar\"}],\"scattergeo\":[{\"type\":\"scattergeo\",\"marker\":{\"colorbar\":{\"outlinewidth\":0,\"ticks\":\"\"}}}],\"scatterpolar\":[{\"type\":\"scatterpolar\",\"marker\":{\"colorbar\":{\"outlinewidth\":0,\"ticks\":\"\"}}}],\"histogram\":[{\"marker\":{\"pattern\":{\"fillmode\":\"overlay\",\"size\":10,\"solidity\":0.2}},\"type\":\"histogram\"}],\"scattergl\":[{\"type\":\"scattergl\",\"marker\":{\"colorbar\":{\"outlinewidth\":0,\"ticks\":\"\"}}}],\"scatter3d\":[{\"type\":\"scatter3d\",\"line\":{\"colorbar\":{\"outlinewidth\":0,\"ticks\":\"\"}},\"marker\":{\"colorbar\":{\"outlinewidth\":0,\"ticks\":\"\"}}}],\"scattermapbox\":[{\"type\":\"scattermapbox\",\"marker\":{\"colorbar\":{\"outlinewidth\":0,\"ticks\":\"\"}}}],\"scatterternary\":[{\"type\":\"scatterternary\",\"marker\":{\"colorbar\":{\"outlinewidth\":0,\"ticks\":\"\"}}}],\"scattercarpet\":[{\"type\":\"scattercarpet\",\"marker\":{\"colorbar\":{\"outlinewidth\":0,\"ticks\":\"\"}}}],\"carpet\":[{\"aaxis\":{\"endlinecolor\":\"#2a3f5f\",\"gridcolor\":\"white\",\"linecolor\":\"white\",\"minorgridcolor\":\"white\",\"startlinecolor\":\"#2a3f5f\"},\"baxis\":{\"endlinecolor\":\"#2a3f5f\",\"gridcolor\":\"white\",\"linecolor\":\"white\",\"minorgridcolor\":\"white\",\"startlinecolor\":\"#2a3f5f\"},\"type\":\"carpet\"}],\"table\":[{\"cells\":{\"fill\":{\"color\":\"#EBF0F8\"},\"line\":{\"color\":\"white\"}},\"header\":{\"fill\":{\"color\":\"#C8D4E3\"},\"line\":{\"color\":\"white\"}},\"type\":\"table\"}],\"barpolar\":[{\"marker\":{\"line\":{\"color\":\"#E5ECF6\",\"width\":0.5},\"pattern\":{\"fillmode\":\"overlay\",\"size\":10,\"solidity\":0.2}},\"type\":\"barpolar\"}],\"pie\":[{\"automargin\":true,\"type\":\"pie\"}]},\"layout\":{\"autotypenumbers\":\"strict\",\"colorway\":[\"#636efa\",\"#EF553B\",\"#00cc96\",\"#ab63fa\",\"#FFA15A\",\"#19d3f3\",\"#FF6692\",\"#B6E880\",\"#FF97FF\",\"#FECB52\"],\"font\":{\"color\":\"#2a3f5f\"},\"hovermode\":\"closest\",\"hoverlabel\":{\"align\":\"left\"},\"paper_bgcolor\":\"white\",\"plot_bgcolor\":\"#E5ECF6\",\"polar\":{\"bgcolor\":\"#E5ECF6\",\"angularaxis\":{\"gridcolor\":\"white\",\"linecolor\":\"white\",\"ticks\":\"\"},\"radialaxis\":{\"gridcolor\":\"white\",\"linecolor\":\"white\",\"ticks\":\"\"}},\"ternary\":{\"bgcolor\":\"#E5ECF6\",\"aaxis\":{\"gridcolor\":\"white\",\"linecolor\":\"white\",\"ticks\":\"\"},\"baxis\":{\"gridcolor\":\"white\",\"linecolor\":\"white\",\"ticks\":\"\"},\"caxis\":{\"gridcolor\":\"white\",\"linecolor\":\"white\",\"ticks\":\"\"}},\"coloraxis\":{\"colorbar\":{\"outlinewidth\":0,\"ticks\":\"\"}},\"colorscale\":{\"sequential\":[[0.0,\"#0d0887\"],[0.1111111111111111,\"#46039f\"],[0.2222222222222222,\"#7201a8\"],[0.3333333333333333,\"#9c179e\"],[0.4444444444444444,\"#bd3786\"],[0.5555555555555556,\"#d8576b\"],[0.6666666666666666,\"#ed7953\"],[0.7777777777777778,\"#fb9f3a\"],[0.8888888888888888,\"#fdca26\"],[1.0,\"#f0f921\"]],\"sequentialminus\":[[0.0,\"#0d0887\"],[0.1111111111111111,\"#46039f\"],[0.2222222222222222,\"#7201a8\"],[0.3333333333333333,\"#9c179e\"],[0.4444444444444444,\"#bd3786\"],[0.5555555555555556,\"#d8576b\"],[0.6666666666666666,\"#ed7953\"],[0.7777777777777778,\"#fb9f3a\"],[0.8888888888888888,\"#fdca26\"],[1.0,\"#f0f921\"]],\"diverging\":[[0,\"#8e0152\"],[0.1,\"#c51b7d\"],[0.2,\"#de77ae\"],[0.3,\"#f1b6da\"],[0.4,\"#fde0ef\"],[0.5,\"#f7f7f7\"],[0.6,\"#e6f5d0\"],[0.7,\"#b8e186\"],[0.8,\"#7fbc41\"],[0.9,\"#4d9221\"],[1,\"#276419\"]]},\"xaxis\":{\"gridcolor\":\"white\",\"linecolor\":\"white\",\"ticks\":\"\",\"title\":{\"standoff\":15},\"zerolinecolor\":\"white\",\"automargin\":true,\"zerolinewidth\":2},\"yaxis\":{\"gridcolor\":\"white\",\"linecolor\":\"white\",\"ticks\":\"\",\"title\":{\"standoff\":15},\"zerolinecolor\":\"white\",\"automargin\":true,\"zerolinewidth\":2},\"scene\":{\"xaxis\":{\"backgroundcolor\":\"#E5ECF6\",\"gridcolor\":\"white\",\"linecolor\":\"white\",\"showbackground\":true,\"ticks\":\"\",\"zerolinecolor\":\"white\",\"gridwidth\":2},\"yaxis\":{\"backgroundcolor\":\"#E5ECF6\",\"gridcolor\":\"white\",\"linecolor\":\"white\",\"showbackground\":true,\"ticks\":\"\",\"zerolinecolor\":\"white\",\"gridwidth\":2},\"zaxis\":{\"backgroundcolor\":\"#E5ECF6\",\"gridcolor\":\"white\",\"linecolor\":\"white\",\"showbackground\":true,\"ticks\":\"\",\"zerolinecolor\":\"white\",\"gridwidth\":2}},\"shapedefaults\":{\"line\":{\"color\":\"#2a3f5f\"}},\"annotationdefaults\":{\"arrowcolor\":\"#2a3f5f\",\"arrowhead\":0,\"arrowwidth\":1},\"geo\":{\"bgcolor\":\"white\",\"landcolor\":\"#E5ECF6\",\"subunitcolor\":\"white\",\"showland\":true,\"showlakes\":true,\"lakecolor\":\"white\"},\"title\":{\"x\":0.05},\"mapbox\":{\"style\":\"light\"}}},\"xaxis\":{\"anchor\":\"y\",\"domain\":[0.0,1.0],\"title\":{\"text\":\"SkinThickness\"}},\"yaxis\":{\"anchor\":\"x\",\"domain\":[0.0,0.8316],\"title\":{\"text\":\"count\"}},\"xaxis2\":{\"anchor\":\"y2\",\"domain\":[0.0,1.0],\"matches\":\"x\",\"showticklabels\":false,\"showgrid\":true},\"yaxis2\":{\"anchor\":\"x2\",\"domain\":[0.8416,1.0],\"matches\":\"y2\",\"showticklabels\":false,\"showline\":false,\"ticks\":\"\",\"showgrid\":false},\"legend\":{\"tracegroupgap\":0},\"title\":{\"text\":\"Distribution of Skin Thickness\"},\"barmode\":\"relative\"},                        {\"responsive\": true}                    ).then(function(){\n",
              "                            \n",
              "var gd = document.getElementById('055921dc-effc-426c-9ad5-612f179b2a08');\n",
              "var x = new MutationObserver(function (mutations, observer) {{\n",
              "        var display = window.getComputedStyle(gd).display;\n",
              "        if (!display || display === 'none') {{\n",
              "            console.log([gd, 'removed!']);\n",
              "            Plotly.purge(gd);\n",
              "            observer.disconnect();\n",
              "        }}\n",
              "}});\n",
              "\n",
              "// Listen for the removal of the full notebook cells\n",
              "var notebookContainer = gd.closest('#notebook-container');\n",
              "if (notebookContainer) {{\n",
              "    x.observe(notebookContainer, {childList: true});\n",
              "}}\n",
              "\n",
              "// Listen for the clearing of the current output cell\n",
              "var outputEl = gd.closest('.output');\n",
              "if (outputEl) {{\n",
              "    x.observe(outputEl, {childList: true});\n",
              "}}\n",
              "\n",
              "                        })                };                            </script>        </div>\n",
              "</body>\n",
              "</html>"
            ]
          },
          "metadata": {}
        }
      ]
    },
    {
      "cell_type": "code",
      "source": [
        "fig5 = px.histogram(df, x = 'Insulin', marginal = 'box',\n",
        "                    title = 'Distribution of Insulin',\n",
        "                   color_discrete_sequence=px.colors.qualitative.Antique)\n",
        "fig5.show()"
      ],
      "metadata": {
        "colab": {
          "base_uri": "https://localhost:8080/",
          "height": 542
        },
        "id": "qKo8ZfnUNBHY",
        "outputId": "67c0a812-93f1-4e1d-82d2-0f43ed867958"
      },
      "execution_count": 15,
      "outputs": [
        {
          "output_type": "display_data",
          "data": {
            "text/html": [
              "<html>\n",
              "<head><meta charset=\"utf-8\" /></head>\n",
              "<body>\n",
              "    <div>            <script src=\"https://cdnjs.cloudflare.com/ajax/libs/mathjax/2.7.5/MathJax.js?config=TeX-AMS-MML_SVG\"></script><script type=\"text/javascript\">if (window.MathJax && window.MathJax.Hub && window.MathJax.Hub.Config) {window.MathJax.Hub.Config({SVG: {font: \"STIX-Web\"}});}</script>                <script type=\"text/javascript\">window.PlotlyConfig = {MathJaxConfig: 'local'};</script>\n",
              "        <script charset=\"utf-8\" src=\"https://cdn.plot.ly/plotly-2.24.1.min.js\"></script>                <div id=\"dbdf0191-2bde-47a7-88fd-dde2f9b55902\" class=\"plotly-graph-div\" style=\"height:525px; width:100%;\"></div>            <script type=\"text/javascript\">                                    window.PLOTLYENV=window.PLOTLYENV || {};                                    if (document.getElementById(\"dbdf0191-2bde-47a7-88fd-dde2f9b55902\")) {                    Plotly.newPlot(                        \"dbdf0191-2bde-47a7-88fd-dde2f9b55902\",                        [{\"alignmentgroup\":\"True\",\"bingroup\":\"x\",\"hovertemplate\":\"Insulin=%{x}\\u003cbr\\u003ecount=%{y}\\u003cextra\\u003e\\u003c\\u002fextra\\u003e\",\"legendgroup\":\"\",\"marker\":{\"color\":\"rgb(133, 92, 117)\",\"pattern\":{\"shape\":\"\"}},\"name\":\"\",\"offsetgroup\":\"\",\"orientation\":\"v\",\"showlegend\":false,\"x\":[0,0,0,94,168,0,88,0,543,0,0,0,0,846,175,0,230,0,83,96,235,0,0,0,146,115,0,140,110,0,0,245,54,0,0,192,0,0,0,207,70,0,0,240,0,0,0,0,0,0,82,36,23,300,342,0,304,110,0,142,0,0,0,128,0,0,0,0,38,100,90,140,0,270,0,0,0,0,0,0,0,0,71,0,0,125,0,71,110,0,0,176,48,0,64,228,0,76,64,220,0,0,0,40,0,152,0,140,18,36,135,495,37,0,175,0,0,0,0,51,100,0,100,0,0,99,135,94,145,0,168,0,225,0,49,140,50,92,0,325,0,0,63,0,284,0,0,119,0,0,204,0,155,485,0,0,94,135,53,114,0,105,285,0,0,156,0,0,0,78,0,130,0,48,55,130,0,130,0,0,0,92,23,0,0,0,495,58,114,160,0,94,0,0,0,210,0,48,99,318,0,0,0,44,190,0,280,0,87,0,0,0,0,130,175,271,129,120,0,0,478,0,0,190,56,32,0,0,744,53,0,370,37,0,45,0,192,0,0,0,0,88,0,176,194,0,0,680,402,0,0,0,55,0,258,0,0,0,375,150,130,0,0,0,0,67,0,0,0,0,0,56,0,45,0,57,0,116,0,278,0,122,155,0,0,135,545,220,49,75,40,74,182,194,0,120,360,215,184,0,0,135,42,0,0,105,132,148,180,205,0,148,96,85,0,94,64,0,140,0,231,0,0,29,0,168,156,0,120,68,0,52,0,0,58,255,0,0,171,0,105,73,0,0,0,108,83,0,74,0,0,0,0,43,0,0,167,0,54,249,325,0,0,0,293,83,0,0,66,140,465,89,66,94,158,325,84,75,0,72,82,0,182,59,110,50,0,0,285,81,196,0,415,87,0,275,115,0,0,0,0,0,88,0,0,165,0,0,0,579,0,176,310,61,167,474,0,0,0,115,170,76,78,0,210,277,0,180,145,180,0,85,60,0,0,0,0,0,0,0,0,50,120,0,0,14,70,92,64,63,95,0,210,0,105,0,0,71,237,60,56,0,49,0,0,105,36,100,0,140,0,0,0,0,0,0,191,110,75,0,328,0,49,125,0,250,480,265,0,0,66,0,0,122,0,0,0,76,145,193,71,0,0,79,0,0,90,170,76,0,0,210,0,0,86,105,165,0,0,326,66,130,0,0,0,0,82,105,188,0,106,0,65,0,56,0,0,0,210,155,215,190,0,56,76,225,207,166,67,0,0,106,0,44,115,215,0,0,0,0,0,274,77,54,0,88,18,126,126,165,0,0,44,120,330,63,130,0,0,0,0,0,0,0,600,0,0,0,156,0,0,140,0,115,230,185,0,25,0,120,0,0,0,126,0,0,293,41,272,182,158,194,321,0,144,0,0,15,0,0,160,0,0,115,0,54,0,0,0,0,0,90,0,183,0,0,0,66,91,46,105,0,0,0,152,440,144,159,130,0,100,106,77,0,135,540,90,200,0,70,0,0,231,130,0,132,0,0,190,100,168,0,49,240,0,0,0,0,0,265,45,0,105,0,0,205,0,0,180,180,0,0,95,125,0,480,125,0,155,0,200,0,0,0,100,0,0,335,0,160,387,22,0,291,0,392,185,0,178,0,0,200,127,105,0,0,180,0,0,0,79,0,120,165,0,0,120,0,160,0,150,94,116,0,140,105,0,57,200,0,0,74,0,510,0,110,0,0,0,0,16,0,0,180,0,112,0,0],\"xaxis\":\"x\",\"yaxis\":\"y\",\"type\":\"histogram\"},{\"alignmentgroup\":\"True\",\"hovertemplate\":\"Insulin=%{x}\\u003cextra\\u003e\\u003c\\u002fextra\\u003e\",\"legendgroup\":\"\",\"marker\":{\"color\":\"rgb(133, 92, 117)\"},\"name\":\"\",\"notched\":true,\"offsetgroup\":\"\",\"showlegend\":false,\"x\":[0,0,0,94,168,0,88,0,543,0,0,0,0,846,175,0,230,0,83,96,235,0,0,0,146,115,0,140,110,0,0,245,54,0,0,192,0,0,0,207,70,0,0,240,0,0,0,0,0,0,82,36,23,300,342,0,304,110,0,142,0,0,0,128,0,0,0,0,38,100,90,140,0,270,0,0,0,0,0,0,0,0,71,0,0,125,0,71,110,0,0,176,48,0,64,228,0,76,64,220,0,0,0,40,0,152,0,140,18,36,135,495,37,0,175,0,0,0,0,51,100,0,100,0,0,99,135,94,145,0,168,0,225,0,49,140,50,92,0,325,0,0,63,0,284,0,0,119,0,0,204,0,155,485,0,0,94,135,53,114,0,105,285,0,0,156,0,0,0,78,0,130,0,48,55,130,0,130,0,0,0,92,23,0,0,0,495,58,114,160,0,94,0,0,0,210,0,48,99,318,0,0,0,44,190,0,280,0,87,0,0,0,0,130,175,271,129,120,0,0,478,0,0,190,56,32,0,0,744,53,0,370,37,0,45,0,192,0,0,0,0,88,0,176,194,0,0,680,402,0,0,0,55,0,258,0,0,0,375,150,130,0,0,0,0,67,0,0,0,0,0,56,0,45,0,57,0,116,0,278,0,122,155,0,0,135,545,220,49,75,40,74,182,194,0,120,360,215,184,0,0,135,42,0,0,105,132,148,180,205,0,148,96,85,0,94,64,0,140,0,231,0,0,29,0,168,156,0,120,68,0,52,0,0,58,255,0,0,171,0,105,73,0,0,0,108,83,0,74,0,0,0,0,43,0,0,167,0,54,249,325,0,0,0,293,83,0,0,66,140,465,89,66,94,158,325,84,75,0,72,82,0,182,59,110,50,0,0,285,81,196,0,415,87,0,275,115,0,0,0,0,0,88,0,0,165,0,0,0,579,0,176,310,61,167,474,0,0,0,115,170,76,78,0,210,277,0,180,145,180,0,85,60,0,0,0,0,0,0,0,0,50,120,0,0,14,70,92,64,63,95,0,210,0,105,0,0,71,237,60,56,0,49,0,0,105,36,100,0,140,0,0,0,0,0,0,191,110,75,0,328,0,49,125,0,250,480,265,0,0,66,0,0,122,0,0,0,76,145,193,71,0,0,79,0,0,90,170,76,0,0,210,0,0,86,105,165,0,0,326,66,130,0,0,0,0,82,105,188,0,106,0,65,0,56,0,0,0,210,155,215,190,0,56,76,225,207,166,67,0,0,106,0,44,115,215,0,0,0,0,0,274,77,54,0,88,18,126,126,165,0,0,44,120,330,63,130,0,0,0,0,0,0,0,600,0,0,0,156,0,0,140,0,115,230,185,0,25,0,120,0,0,0,126,0,0,293,41,272,182,158,194,321,0,144,0,0,15,0,0,160,0,0,115,0,54,0,0,0,0,0,90,0,183,0,0,0,66,91,46,105,0,0,0,152,440,144,159,130,0,100,106,77,0,135,540,90,200,0,70,0,0,231,130,0,132,0,0,190,100,168,0,49,240,0,0,0,0,0,265,45,0,105,0,0,205,0,0,180,180,0,0,95,125,0,480,125,0,155,0,200,0,0,0,100,0,0,335,0,160,387,22,0,291,0,392,185,0,178,0,0,200,127,105,0,0,180,0,0,0,79,0,120,165,0,0,120,0,160,0,150,94,116,0,140,105,0,57,200,0,0,74,0,510,0,110,0,0,0,0,16,0,0,180,0,112,0,0],\"xaxis\":\"x2\",\"yaxis\":\"y2\",\"type\":\"box\"}],                        {\"template\":{\"data\":{\"histogram2dcontour\":[{\"type\":\"histogram2dcontour\",\"colorbar\":{\"outlinewidth\":0,\"ticks\":\"\"},\"colorscale\":[[0.0,\"#0d0887\"],[0.1111111111111111,\"#46039f\"],[0.2222222222222222,\"#7201a8\"],[0.3333333333333333,\"#9c179e\"],[0.4444444444444444,\"#bd3786\"],[0.5555555555555556,\"#d8576b\"],[0.6666666666666666,\"#ed7953\"],[0.7777777777777778,\"#fb9f3a\"],[0.8888888888888888,\"#fdca26\"],[1.0,\"#f0f921\"]]}],\"choropleth\":[{\"type\":\"choropleth\",\"colorbar\":{\"outlinewidth\":0,\"ticks\":\"\"}}],\"histogram2d\":[{\"type\":\"histogram2d\",\"colorbar\":{\"outlinewidth\":0,\"ticks\":\"\"},\"colorscale\":[[0.0,\"#0d0887\"],[0.1111111111111111,\"#46039f\"],[0.2222222222222222,\"#7201a8\"],[0.3333333333333333,\"#9c179e\"],[0.4444444444444444,\"#bd3786\"],[0.5555555555555556,\"#d8576b\"],[0.6666666666666666,\"#ed7953\"],[0.7777777777777778,\"#fb9f3a\"],[0.8888888888888888,\"#fdca26\"],[1.0,\"#f0f921\"]]}],\"heatmap\":[{\"type\":\"heatmap\",\"colorbar\":{\"outlinewidth\":0,\"ticks\":\"\"},\"colorscale\":[[0.0,\"#0d0887\"],[0.1111111111111111,\"#46039f\"],[0.2222222222222222,\"#7201a8\"],[0.3333333333333333,\"#9c179e\"],[0.4444444444444444,\"#bd3786\"],[0.5555555555555556,\"#d8576b\"],[0.6666666666666666,\"#ed7953\"],[0.7777777777777778,\"#fb9f3a\"],[0.8888888888888888,\"#fdca26\"],[1.0,\"#f0f921\"]]}],\"heatmapgl\":[{\"type\":\"heatmapgl\",\"colorbar\":{\"outlinewidth\":0,\"ticks\":\"\"},\"colorscale\":[[0.0,\"#0d0887\"],[0.1111111111111111,\"#46039f\"],[0.2222222222222222,\"#7201a8\"],[0.3333333333333333,\"#9c179e\"],[0.4444444444444444,\"#bd3786\"],[0.5555555555555556,\"#d8576b\"],[0.6666666666666666,\"#ed7953\"],[0.7777777777777778,\"#fb9f3a\"],[0.8888888888888888,\"#fdca26\"],[1.0,\"#f0f921\"]]}],\"contourcarpet\":[{\"type\":\"contourcarpet\",\"colorbar\":{\"outlinewidth\":0,\"ticks\":\"\"}}],\"contour\":[{\"type\":\"contour\",\"colorbar\":{\"outlinewidth\":0,\"ticks\":\"\"},\"colorscale\":[[0.0,\"#0d0887\"],[0.1111111111111111,\"#46039f\"],[0.2222222222222222,\"#7201a8\"],[0.3333333333333333,\"#9c179e\"],[0.4444444444444444,\"#bd3786\"],[0.5555555555555556,\"#d8576b\"],[0.6666666666666666,\"#ed7953\"],[0.7777777777777778,\"#fb9f3a\"],[0.8888888888888888,\"#fdca26\"],[1.0,\"#f0f921\"]]}],\"surface\":[{\"type\":\"surface\",\"colorbar\":{\"outlinewidth\":0,\"ticks\":\"\"},\"colorscale\":[[0.0,\"#0d0887\"],[0.1111111111111111,\"#46039f\"],[0.2222222222222222,\"#7201a8\"],[0.3333333333333333,\"#9c179e\"],[0.4444444444444444,\"#bd3786\"],[0.5555555555555556,\"#d8576b\"],[0.6666666666666666,\"#ed7953\"],[0.7777777777777778,\"#fb9f3a\"],[0.8888888888888888,\"#fdca26\"],[1.0,\"#f0f921\"]]}],\"mesh3d\":[{\"type\":\"mesh3d\",\"colorbar\":{\"outlinewidth\":0,\"ticks\":\"\"}}],\"scatter\":[{\"fillpattern\":{\"fillmode\":\"overlay\",\"size\":10,\"solidity\":0.2},\"type\":\"scatter\"}],\"parcoords\":[{\"type\":\"parcoords\",\"line\":{\"colorbar\":{\"outlinewidth\":0,\"ticks\":\"\"}}}],\"scatterpolargl\":[{\"type\":\"scatterpolargl\",\"marker\":{\"colorbar\":{\"outlinewidth\":0,\"ticks\":\"\"}}}],\"bar\":[{\"error_x\":{\"color\":\"#2a3f5f\"},\"error_y\":{\"color\":\"#2a3f5f\"},\"marker\":{\"line\":{\"color\":\"#E5ECF6\",\"width\":0.5},\"pattern\":{\"fillmode\":\"overlay\",\"size\":10,\"solidity\":0.2}},\"type\":\"bar\"}],\"scattergeo\":[{\"type\":\"scattergeo\",\"marker\":{\"colorbar\":{\"outlinewidth\":0,\"ticks\":\"\"}}}],\"scatterpolar\":[{\"type\":\"scatterpolar\",\"marker\":{\"colorbar\":{\"outlinewidth\":0,\"ticks\":\"\"}}}],\"histogram\":[{\"marker\":{\"pattern\":{\"fillmode\":\"overlay\",\"size\":10,\"solidity\":0.2}},\"type\":\"histogram\"}],\"scattergl\":[{\"type\":\"scattergl\",\"marker\":{\"colorbar\":{\"outlinewidth\":0,\"ticks\":\"\"}}}],\"scatter3d\":[{\"type\":\"scatter3d\",\"line\":{\"colorbar\":{\"outlinewidth\":0,\"ticks\":\"\"}},\"marker\":{\"colorbar\":{\"outlinewidth\":0,\"ticks\":\"\"}}}],\"scattermapbox\":[{\"type\":\"scattermapbox\",\"marker\":{\"colorbar\":{\"outlinewidth\":0,\"ticks\":\"\"}}}],\"scatterternary\":[{\"type\":\"scatterternary\",\"marker\":{\"colorbar\":{\"outlinewidth\":0,\"ticks\":\"\"}}}],\"scattercarpet\":[{\"type\":\"scattercarpet\",\"marker\":{\"colorbar\":{\"outlinewidth\":0,\"ticks\":\"\"}}}],\"carpet\":[{\"aaxis\":{\"endlinecolor\":\"#2a3f5f\",\"gridcolor\":\"white\",\"linecolor\":\"white\",\"minorgridcolor\":\"white\",\"startlinecolor\":\"#2a3f5f\"},\"baxis\":{\"endlinecolor\":\"#2a3f5f\",\"gridcolor\":\"white\",\"linecolor\":\"white\",\"minorgridcolor\":\"white\",\"startlinecolor\":\"#2a3f5f\"},\"type\":\"carpet\"}],\"table\":[{\"cells\":{\"fill\":{\"color\":\"#EBF0F8\"},\"line\":{\"color\":\"white\"}},\"header\":{\"fill\":{\"color\":\"#C8D4E3\"},\"line\":{\"color\":\"white\"}},\"type\":\"table\"}],\"barpolar\":[{\"marker\":{\"line\":{\"color\":\"#E5ECF6\",\"width\":0.5},\"pattern\":{\"fillmode\":\"overlay\",\"size\":10,\"solidity\":0.2}},\"type\":\"barpolar\"}],\"pie\":[{\"automargin\":true,\"type\":\"pie\"}]},\"layout\":{\"autotypenumbers\":\"strict\",\"colorway\":[\"#636efa\",\"#EF553B\",\"#00cc96\",\"#ab63fa\",\"#FFA15A\",\"#19d3f3\",\"#FF6692\",\"#B6E880\",\"#FF97FF\",\"#FECB52\"],\"font\":{\"color\":\"#2a3f5f\"},\"hovermode\":\"closest\",\"hoverlabel\":{\"align\":\"left\"},\"paper_bgcolor\":\"white\",\"plot_bgcolor\":\"#E5ECF6\",\"polar\":{\"bgcolor\":\"#E5ECF6\",\"angularaxis\":{\"gridcolor\":\"white\",\"linecolor\":\"white\",\"ticks\":\"\"},\"radialaxis\":{\"gridcolor\":\"white\",\"linecolor\":\"white\",\"ticks\":\"\"}},\"ternary\":{\"bgcolor\":\"#E5ECF6\",\"aaxis\":{\"gridcolor\":\"white\",\"linecolor\":\"white\",\"ticks\":\"\"},\"baxis\":{\"gridcolor\":\"white\",\"linecolor\":\"white\",\"ticks\":\"\"},\"caxis\":{\"gridcolor\":\"white\",\"linecolor\":\"white\",\"ticks\":\"\"}},\"coloraxis\":{\"colorbar\":{\"outlinewidth\":0,\"ticks\":\"\"}},\"colorscale\":{\"sequential\":[[0.0,\"#0d0887\"],[0.1111111111111111,\"#46039f\"],[0.2222222222222222,\"#7201a8\"],[0.3333333333333333,\"#9c179e\"],[0.4444444444444444,\"#bd3786\"],[0.5555555555555556,\"#d8576b\"],[0.6666666666666666,\"#ed7953\"],[0.7777777777777778,\"#fb9f3a\"],[0.8888888888888888,\"#fdca26\"],[1.0,\"#f0f921\"]],\"sequentialminus\":[[0.0,\"#0d0887\"],[0.1111111111111111,\"#46039f\"],[0.2222222222222222,\"#7201a8\"],[0.3333333333333333,\"#9c179e\"],[0.4444444444444444,\"#bd3786\"],[0.5555555555555556,\"#d8576b\"],[0.6666666666666666,\"#ed7953\"],[0.7777777777777778,\"#fb9f3a\"],[0.8888888888888888,\"#fdca26\"],[1.0,\"#f0f921\"]],\"diverging\":[[0,\"#8e0152\"],[0.1,\"#c51b7d\"],[0.2,\"#de77ae\"],[0.3,\"#f1b6da\"],[0.4,\"#fde0ef\"],[0.5,\"#f7f7f7\"],[0.6,\"#e6f5d0\"],[0.7,\"#b8e186\"],[0.8,\"#7fbc41\"],[0.9,\"#4d9221\"],[1,\"#276419\"]]},\"xaxis\":{\"gridcolor\":\"white\",\"linecolor\":\"white\",\"ticks\":\"\",\"title\":{\"standoff\":15},\"zerolinecolor\":\"white\",\"automargin\":true,\"zerolinewidth\":2},\"yaxis\":{\"gridcolor\":\"white\",\"linecolor\":\"white\",\"ticks\":\"\",\"title\":{\"standoff\":15},\"zerolinecolor\":\"white\",\"automargin\":true,\"zerolinewidth\":2},\"scene\":{\"xaxis\":{\"backgroundcolor\":\"#E5ECF6\",\"gridcolor\":\"white\",\"linecolor\":\"white\",\"showbackground\":true,\"ticks\":\"\",\"zerolinecolor\":\"white\",\"gridwidth\":2},\"yaxis\":{\"backgroundcolor\":\"#E5ECF6\",\"gridcolor\":\"white\",\"linecolor\":\"white\",\"showbackground\":true,\"ticks\":\"\",\"zerolinecolor\":\"white\",\"gridwidth\":2},\"zaxis\":{\"backgroundcolor\":\"#E5ECF6\",\"gridcolor\":\"white\",\"linecolor\":\"white\",\"showbackground\":true,\"ticks\":\"\",\"zerolinecolor\":\"white\",\"gridwidth\":2}},\"shapedefaults\":{\"line\":{\"color\":\"#2a3f5f\"}},\"annotationdefaults\":{\"arrowcolor\":\"#2a3f5f\",\"arrowhead\":0,\"arrowwidth\":1},\"geo\":{\"bgcolor\":\"white\",\"landcolor\":\"#E5ECF6\",\"subunitcolor\":\"white\",\"showland\":true,\"showlakes\":true,\"lakecolor\":\"white\"},\"title\":{\"x\":0.05},\"mapbox\":{\"style\":\"light\"}}},\"xaxis\":{\"anchor\":\"y\",\"domain\":[0.0,1.0],\"title\":{\"text\":\"Insulin\"}},\"yaxis\":{\"anchor\":\"x\",\"domain\":[0.0,0.8316],\"title\":{\"text\":\"count\"}},\"xaxis2\":{\"anchor\":\"y2\",\"domain\":[0.0,1.0],\"matches\":\"x\",\"showticklabels\":false,\"showgrid\":true},\"yaxis2\":{\"anchor\":\"x2\",\"domain\":[0.8416,1.0],\"matches\":\"y2\",\"showticklabels\":false,\"showline\":false,\"ticks\":\"\",\"showgrid\":false},\"legend\":{\"tracegroupgap\":0},\"title\":{\"text\":\"Distribution of Insulin\"},\"barmode\":\"relative\"},                        {\"responsive\": true}                    ).then(function(){\n",
              "                            \n",
              "var gd = document.getElementById('dbdf0191-2bde-47a7-88fd-dde2f9b55902');\n",
              "var x = new MutationObserver(function (mutations, observer) {{\n",
              "        var display = window.getComputedStyle(gd).display;\n",
              "        if (!display || display === 'none') {{\n",
              "            console.log([gd, 'removed!']);\n",
              "            Plotly.purge(gd);\n",
              "            observer.disconnect();\n",
              "        }}\n",
              "}});\n",
              "\n",
              "// Listen for the removal of the full notebook cells\n",
              "var notebookContainer = gd.closest('#notebook-container');\n",
              "if (notebookContainer) {{\n",
              "    x.observe(notebookContainer, {childList: true});\n",
              "}}\n",
              "\n",
              "// Listen for the clearing of the current output cell\n",
              "var outputEl = gd.closest('.output');\n",
              "if (outputEl) {{\n",
              "    x.observe(outputEl, {childList: true});\n",
              "}}\n",
              "\n",
              "                        })                };                            </script>        </div>\n",
              "</body>\n",
              "</html>"
            ]
          },
          "metadata": {}
        }
      ]
    },
    {
      "cell_type": "code",
      "source": [
        "fig6 = px.histogram(df, x = 'BMI', marginal = 'box',\n",
        "                    title = 'Distribution of BMI',\n",
        "                   color_discrete_sequence=px.colors.qualitative.Antique)\n",
        "fig6.show()"
      ],
      "metadata": {
        "colab": {
          "base_uri": "https://localhost:8080/",
          "height": 542
        },
        "id": "1aGXB_CdNO7k",
        "outputId": "854dd750-5941-4875-8133-41310078387f"
      },
      "execution_count": 16,
      "outputs": [
        {
          "output_type": "display_data",
          "data": {
            "text/html": [
              "<html>\n",
              "<head><meta charset=\"utf-8\" /></head>\n",
              "<body>\n",
              "    <div>            <script src=\"https://cdnjs.cloudflare.com/ajax/libs/mathjax/2.7.5/MathJax.js?config=TeX-AMS-MML_SVG\"></script><script type=\"text/javascript\">if (window.MathJax && window.MathJax.Hub && window.MathJax.Hub.Config) {window.MathJax.Hub.Config({SVG: {font: \"STIX-Web\"}});}</script>                <script type=\"text/javascript\">window.PlotlyConfig = {MathJaxConfig: 'local'};</script>\n",
              "        <script charset=\"utf-8\" src=\"https://cdn.plot.ly/plotly-2.24.1.min.js\"></script>                <div id=\"bca11904-76e7-4954-aef9-fe5d4bf3deda\" class=\"plotly-graph-div\" style=\"height:525px; width:100%;\"></div>            <script type=\"text/javascript\">                                    window.PLOTLYENV=window.PLOTLYENV || {};                                    if (document.getElementById(\"bca11904-76e7-4954-aef9-fe5d4bf3deda\")) {                    Plotly.newPlot(                        \"bca11904-76e7-4954-aef9-fe5d4bf3deda\",                        [{\"alignmentgroup\":\"True\",\"bingroup\":\"x\",\"hovertemplate\":\"BMI=%{x}\\u003cbr\\u003ecount=%{y}\\u003cextra\\u003e\\u003c\\u002fextra\\u003e\",\"legendgroup\":\"\",\"marker\":{\"color\":\"rgb(133, 92, 117)\",\"pattern\":{\"shape\":\"\"}},\"name\":\"\",\"offsetgroup\":\"\",\"orientation\":\"v\",\"showlegend\":false,\"x\":[33.6,26.6,23.3,28.1,43.1,25.6,31.0,35.3,30.5,0.0,37.6,38.0,27.1,30.1,25.8,30.0,45.8,29.6,43.3,34.6,39.3,35.4,39.8,29.0,36.6,31.1,39.4,23.2,22.2,34.1,36.0,31.6,24.8,19.9,27.6,24.0,33.2,32.9,38.2,37.1,34.0,40.2,22.7,45.4,27.4,42.0,29.7,28.0,39.1,0.0,19.4,24.2,24.4,33.7,34.7,23.0,37.7,46.8,40.5,41.5,0.0,32.9,25.0,25.4,32.8,29.0,32.5,42.7,19.6,28.9,32.9,28.6,43.4,35.1,32.0,24.7,32.6,37.7,43.2,25.0,22.4,0.0,29.3,24.6,48.8,32.4,36.6,38.5,37.1,26.5,19.1,32.0,46.7,23.8,24.7,33.9,31.6,20.4,28.7,49.7,39.0,26.1,22.5,26.6,39.6,28.7,22.4,29.5,34.3,37.4,33.3,34.0,31.2,34.0,30.5,31.2,34.0,33.7,28.2,23.2,53.2,34.2,33.6,26.8,33.3,55.0,42.9,33.3,34.5,27.9,29.7,33.3,34.5,38.3,21.1,33.8,30.8,28.7,31.2,36.9,21.1,39.5,32.5,32.4,32.8,0.0,32.8,30.5,33.7,27.3,37.4,21.9,34.3,40.6,47.9,50.0,24.6,25.2,29.0,40.9,29.7,37.2,44.2,29.7,31.6,29.9,32.5,29.6,31.9,28.4,30.8,35.4,28.9,43.5,29.7,32.7,31.2,67.1,45.0,39.1,23.2,34.9,27.7,26.8,27.6,35.9,30.1,32.0,27.9,31.6,22.6,33.1,30.4,52.3,24.4,39.4,24.3,22.9,34.8,30.9,31.0,40.1,27.3,20.4,37.7,23.9,37.5,37.7,33.2,35.5,27.7,42.8,34.2,42.6,34.2,41.8,35.8,30.0,29.0,37.8,34.6,31.6,25.2,28.8,23.6,34.6,35.7,37.2,36.7,45.2,44.0,46.2,25.4,35.0,29.7,43.6,35.9,44.1,30.8,18.4,29.2,33.1,25.6,27.1,38.2,30.0,31.2,52.3,35.4,30.1,31.2,28.0,24.4,35.8,27.6,33.6,30.1,28.7,25.9,33.3,30.9,30.0,32.1,32.4,32.0,33.6,36.3,40.0,25.1,27.5,45.6,25.2,23.0,33.2,34.2,40.5,26.5,27.8,24.9,25.3,37.9,35.9,32.4,30.4,27.0,26.0,38.7,45.6,20.8,36.1,36.9,36.6,43.3,40.5,21.9,35.5,28.0,30.7,36.6,23.6,32.3,31.6,35.8,52.9,21.0,39.7,25.5,24.8,30.5,32.9,26.2,39.4,26.6,29.5,35.9,34.1,19.3,30.5,38.1,23.5,27.5,31.6,27.4,26.8,35.7,25.6,35.1,35.1,45.5,30.8,23.1,32.7,43.3,23.6,23.9,47.9,33.8,31.2,34.2,39.9,25.9,25.9,32.0,34.7,36.8,38.5,28.7,23.5,21.8,41.0,42.2,31.2,34.4,27.2,42.7,30.4,33.3,39.9,35.3,36.5,31.2,29.8,39.2,38.5,34.9,34.0,27.6,21.0,27.5,32.8,38.4,0.0,35.8,34.9,36.2,39.2,25.2,37.2,48.3,43.4,30.8,20.0,25.4,25.1,24.3,22.3,32.3,43.3,32.0,31.6,32.0,45.7,23.7,22.1,32.9,27.7,24.7,34.3,21.1,34.9,32.0,24.2,35.0,31.6,32.9,42.1,28.9,21.9,25.9,42.4,35.7,34.4,42.4,26.2,34.6,35.7,27.2,38.5,18.2,26.4,45.3,26.0,40.6,30.8,42.9,37.0,0.0,34.1,40.6,35.0,22.2,30.4,30.0,25.6,24.5,42.4,37.4,29.9,18.2,36.8,34.3,32.2,33.2,30.5,29.7,59.4,25.3,36.5,33.6,30.5,21.2,28.9,39.9,19.6,37.8,33.6,26.7,30.2,37.6,25.9,20.8,21.8,35.3,27.6,24.0,21.8,27.8,36.8,30.0,46.1,41.3,33.2,38.8,29.9,28.9,27.3,33.7,23.8,25.9,28.0,35.5,35.2,27.8,38.2,44.2,42.3,40.7,46.5,25.6,26.1,36.8,33.5,32.8,28.9,0.0,26.6,26.0,30.1,25.1,29.3,25.2,37.2,39.0,33.3,37.3,33.3,36.5,28.6,30.4,25.0,29.7,22.1,24.2,27.3,25.6,31.6,30.3,37.6,32.8,19.6,25.0,33.2,0.0,34.2,31.6,21.8,18.2,26.3,30.8,24.6,29.8,45.3,41.3,29.8,33.3,32.9,29.6,21.7,36.3,36.4,39.4,32.4,34.9,39.5,32.0,34.5,43.6,33.1,32.8,28.5,27.4,31.9,27.8,29.9,36.9,25.5,38.1,27.8,46.2,30.1,33.8,41.3,37.6,26.9,32.4,26.1,38.6,32.0,31.3,34.3,32.5,22.6,29.5,34.7,30.1,35.5,24.0,42.9,27.0,34.7,42.1,25.0,26.5,38.7,28.7,22.5,34.9,24.3,33.3,21.1,46.8,39.4,34.4,28.5,33.6,32.0,45.3,27.8,36.8,23.1,27.1,23.7,27.8,35.2,28.4,35.8,40.0,19.5,41.5,24.0,30.9,32.9,38.2,32.5,36.1,25.8,28.7,20.1,28.2,32.4,38.4,24.2,40.8,43.5,30.8,37.7,24.7,32.4,34.6,24.7,27.4,34.5,26.2,27.5,25.9,31.2,28.8,31.6,40.9,19.5,29.3,34.3,29.5,28.0,27.6,39.4,23.4,37.8,28.3,26.4,25.2,33.8,34.1,26.8,34.2,38.7,21.8,38.9,39.0,34.2,27.7,42.9,37.6,37.9,33.7,34.8,32.5,27.5,34.0,30.9,33.6,25.4,35.5,57.3,35.6,30.9,24.8,35.3,36.0,24.2,24.2,49.6,44.6,32.3,0.0,33.2,23.1,28.3,24.1,46.1,24.6,42.3,39.1,38.5,23.5,30.4,29.9,25.0,34.5,44.5,35.9,27.6,35.0,38.5,28.4,39.8,0.0,34.4,32.8,38.0,31.2,29.6,41.2,26.4,29.5,33.9,33.8,23.1,35.5,35.6,29.3,38.1,29.3,39.1,32.8,39.4,36.1,32.4,22.9,30.1,28.4,28.4,44.5,29.0,23.3,35.4,27.4,32.0,36.6,39.5,42.3,30.8,28.5,32.7,40.6,30.0,49.3,46.3,36.4,24.3,31.2,39.0,26.0,43.3,32.4,36.5,32.0,36.3,37.5,35.5,28.4,44.0,22.5,32.9,36.8,26.2,30.1,30.4],\"xaxis\":\"x\",\"yaxis\":\"y\",\"type\":\"histogram\"},{\"alignmentgroup\":\"True\",\"hovertemplate\":\"BMI=%{x}\\u003cextra\\u003e\\u003c\\u002fextra\\u003e\",\"legendgroup\":\"\",\"marker\":{\"color\":\"rgb(133, 92, 117)\"},\"name\":\"\",\"notched\":true,\"offsetgroup\":\"\",\"showlegend\":false,\"x\":[33.6,26.6,23.3,28.1,43.1,25.6,31.0,35.3,30.5,0.0,37.6,38.0,27.1,30.1,25.8,30.0,45.8,29.6,43.3,34.6,39.3,35.4,39.8,29.0,36.6,31.1,39.4,23.2,22.2,34.1,36.0,31.6,24.8,19.9,27.6,24.0,33.2,32.9,38.2,37.1,34.0,40.2,22.7,45.4,27.4,42.0,29.7,28.0,39.1,0.0,19.4,24.2,24.4,33.7,34.7,23.0,37.7,46.8,40.5,41.5,0.0,32.9,25.0,25.4,32.8,29.0,32.5,42.7,19.6,28.9,32.9,28.6,43.4,35.1,32.0,24.7,32.6,37.7,43.2,25.0,22.4,0.0,29.3,24.6,48.8,32.4,36.6,38.5,37.1,26.5,19.1,32.0,46.7,23.8,24.7,33.9,31.6,20.4,28.7,49.7,39.0,26.1,22.5,26.6,39.6,28.7,22.4,29.5,34.3,37.4,33.3,34.0,31.2,34.0,30.5,31.2,34.0,33.7,28.2,23.2,53.2,34.2,33.6,26.8,33.3,55.0,42.9,33.3,34.5,27.9,29.7,33.3,34.5,38.3,21.1,33.8,30.8,28.7,31.2,36.9,21.1,39.5,32.5,32.4,32.8,0.0,32.8,30.5,33.7,27.3,37.4,21.9,34.3,40.6,47.9,50.0,24.6,25.2,29.0,40.9,29.7,37.2,44.2,29.7,31.6,29.9,32.5,29.6,31.9,28.4,30.8,35.4,28.9,43.5,29.7,32.7,31.2,67.1,45.0,39.1,23.2,34.9,27.7,26.8,27.6,35.9,30.1,32.0,27.9,31.6,22.6,33.1,30.4,52.3,24.4,39.4,24.3,22.9,34.8,30.9,31.0,40.1,27.3,20.4,37.7,23.9,37.5,37.7,33.2,35.5,27.7,42.8,34.2,42.6,34.2,41.8,35.8,30.0,29.0,37.8,34.6,31.6,25.2,28.8,23.6,34.6,35.7,37.2,36.7,45.2,44.0,46.2,25.4,35.0,29.7,43.6,35.9,44.1,30.8,18.4,29.2,33.1,25.6,27.1,38.2,30.0,31.2,52.3,35.4,30.1,31.2,28.0,24.4,35.8,27.6,33.6,30.1,28.7,25.9,33.3,30.9,30.0,32.1,32.4,32.0,33.6,36.3,40.0,25.1,27.5,45.6,25.2,23.0,33.2,34.2,40.5,26.5,27.8,24.9,25.3,37.9,35.9,32.4,30.4,27.0,26.0,38.7,45.6,20.8,36.1,36.9,36.6,43.3,40.5,21.9,35.5,28.0,30.7,36.6,23.6,32.3,31.6,35.8,52.9,21.0,39.7,25.5,24.8,30.5,32.9,26.2,39.4,26.6,29.5,35.9,34.1,19.3,30.5,38.1,23.5,27.5,31.6,27.4,26.8,35.7,25.6,35.1,35.1,45.5,30.8,23.1,32.7,43.3,23.6,23.9,47.9,33.8,31.2,34.2,39.9,25.9,25.9,32.0,34.7,36.8,38.5,28.7,23.5,21.8,41.0,42.2,31.2,34.4,27.2,42.7,30.4,33.3,39.9,35.3,36.5,31.2,29.8,39.2,38.5,34.9,34.0,27.6,21.0,27.5,32.8,38.4,0.0,35.8,34.9,36.2,39.2,25.2,37.2,48.3,43.4,30.8,20.0,25.4,25.1,24.3,22.3,32.3,43.3,32.0,31.6,32.0,45.7,23.7,22.1,32.9,27.7,24.7,34.3,21.1,34.9,32.0,24.2,35.0,31.6,32.9,42.1,28.9,21.9,25.9,42.4,35.7,34.4,42.4,26.2,34.6,35.7,27.2,38.5,18.2,26.4,45.3,26.0,40.6,30.8,42.9,37.0,0.0,34.1,40.6,35.0,22.2,30.4,30.0,25.6,24.5,42.4,37.4,29.9,18.2,36.8,34.3,32.2,33.2,30.5,29.7,59.4,25.3,36.5,33.6,30.5,21.2,28.9,39.9,19.6,37.8,33.6,26.7,30.2,37.6,25.9,20.8,21.8,35.3,27.6,24.0,21.8,27.8,36.8,30.0,46.1,41.3,33.2,38.8,29.9,28.9,27.3,33.7,23.8,25.9,28.0,35.5,35.2,27.8,38.2,44.2,42.3,40.7,46.5,25.6,26.1,36.8,33.5,32.8,28.9,0.0,26.6,26.0,30.1,25.1,29.3,25.2,37.2,39.0,33.3,37.3,33.3,36.5,28.6,30.4,25.0,29.7,22.1,24.2,27.3,25.6,31.6,30.3,37.6,32.8,19.6,25.0,33.2,0.0,34.2,31.6,21.8,18.2,26.3,30.8,24.6,29.8,45.3,41.3,29.8,33.3,32.9,29.6,21.7,36.3,36.4,39.4,32.4,34.9,39.5,32.0,34.5,43.6,33.1,32.8,28.5,27.4,31.9,27.8,29.9,36.9,25.5,38.1,27.8,46.2,30.1,33.8,41.3,37.6,26.9,32.4,26.1,38.6,32.0,31.3,34.3,32.5,22.6,29.5,34.7,30.1,35.5,24.0,42.9,27.0,34.7,42.1,25.0,26.5,38.7,28.7,22.5,34.9,24.3,33.3,21.1,46.8,39.4,34.4,28.5,33.6,32.0,45.3,27.8,36.8,23.1,27.1,23.7,27.8,35.2,28.4,35.8,40.0,19.5,41.5,24.0,30.9,32.9,38.2,32.5,36.1,25.8,28.7,20.1,28.2,32.4,38.4,24.2,40.8,43.5,30.8,37.7,24.7,32.4,34.6,24.7,27.4,34.5,26.2,27.5,25.9,31.2,28.8,31.6,40.9,19.5,29.3,34.3,29.5,28.0,27.6,39.4,23.4,37.8,28.3,26.4,25.2,33.8,34.1,26.8,34.2,38.7,21.8,38.9,39.0,34.2,27.7,42.9,37.6,37.9,33.7,34.8,32.5,27.5,34.0,30.9,33.6,25.4,35.5,57.3,35.6,30.9,24.8,35.3,36.0,24.2,24.2,49.6,44.6,32.3,0.0,33.2,23.1,28.3,24.1,46.1,24.6,42.3,39.1,38.5,23.5,30.4,29.9,25.0,34.5,44.5,35.9,27.6,35.0,38.5,28.4,39.8,0.0,34.4,32.8,38.0,31.2,29.6,41.2,26.4,29.5,33.9,33.8,23.1,35.5,35.6,29.3,38.1,29.3,39.1,32.8,39.4,36.1,32.4,22.9,30.1,28.4,28.4,44.5,29.0,23.3,35.4,27.4,32.0,36.6,39.5,42.3,30.8,28.5,32.7,40.6,30.0,49.3,46.3,36.4,24.3,31.2,39.0,26.0,43.3,32.4,36.5,32.0,36.3,37.5,35.5,28.4,44.0,22.5,32.9,36.8,26.2,30.1,30.4],\"xaxis\":\"x2\",\"yaxis\":\"y2\",\"type\":\"box\"}],                        {\"template\":{\"data\":{\"histogram2dcontour\":[{\"type\":\"histogram2dcontour\",\"colorbar\":{\"outlinewidth\":0,\"ticks\":\"\"},\"colorscale\":[[0.0,\"#0d0887\"],[0.1111111111111111,\"#46039f\"],[0.2222222222222222,\"#7201a8\"],[0.3333333333333333,\"#9c179e\"],[0.4444444444444444,\"#bd3786\"],[0.5555555555555556,\"#d8576b\"],[0.6666666666666666,\"#ed7953\"],[0.7777777777777778,\"#fb9f3a\"],[0.8888888888888888,\"#fdca26\"],[1.0,\"#f0f921\"]]}],\"choropleth\":[{\"type\":\"choropleth\",\"colorbar\":{\"outlinewidth\":0,\"ticks\":\"\"}}],\"histogram2d\":[{\"type\":\"histogram2d\",\"colorbar\":{\"outlinewidth\":0,\"ticks\":\"\"},\"colorscale\":[[0.0,\"#0d0887\"],[0.1111111111111111,\"#46039f\"],[0.2222222222222222,\"#7201a8\"],[0.3333333333333333,\"#9c179e\"],[0.4444444444444444,\"#bd3786\"],[0.5555555555555556,\"#d8576b\"],[0.6666666666666666,\"#ed7953\"],[0.7777777777777778,\"#fb9f3a\"],[0.8888888888888888,\"#fdca26\"],[1.0,\"#f0f921\"]]}],\"heatmap\":[{\"type\":\"heatmap\",\"colorbar\":{\"outlinewidth\":0,\"ticks\":\"\"},\"colorscale\":[[0.0,\"#0d0887\"],[0.1111111111111111,\"#46039f\"],[0.2222222222222222,\"#7201a8\"],[0.3333333333333333,\"#9c179e\"],[0.4444444444444444,\"#bd3786\"],[0.5555555555555556,\"#d8576b\"],[0.6666666666666666,\"#ed7953\"],[0.7777777777777778,\"#fb9f3a\"],[0.8888888888888888,\"#fdca26\"],[1.0,\"#f0f921\"]]}],\"heatmapgl\":[{\"type\":\"heatmapgl\",\"colorbar\":{\"outlinewidth\":0,\"ticks\":\"\"},\"colorscale\":[[0.0,\"#0d0887\"],[0.1111111111111111,\"#46039f\"],[0.2222222222222222,\"#7201a8\"],[0.3333333333333333,\"#9c179e\"],[0.4444444444444444,\"#bd3786\"],[0.5555555555555556,\"#d8576b\"],[0.6666666666666666,\"#ed7953\"],[0.7777777777777778,\"#fb9f3a\"],[0.8888888888888888,\"#fdca26\"],[1.0,\"#f0f921\"]]}],\"contourcarpet\":[{\"type\":\"contourcarpet\",\"colorbar\":{\"outlinewidth\":0,\"ticks\":\"\"}}],\"contour\":[{\"type\":\"contour\",\"colorbar\":{\"outlinewidth\":0,\"ticks\":\"\"},\"colorscale\":[[0.0,\"#0d0887\"],[0.1111111111111111,\"#46039f\"],[0.2222222222222222,\"#7201a8\"],[0.3333333333333333,\"#9c179e\"],[0.4444444444444444,\"#bd3786\"],[0.5555555555555556,\"#d8576b\"],[0.6666666666666666,\"#ed7953\"],[0.7777777777777778,\"#fb9f3a\"],[0.8888888888888888,\"#fdca26\"],[1.0,\"#f0f921\"]]}],\"surface\":[{\"type\":\"surface\",\"colorbar\":{\"outlinewidth\":0,\"ticks\":\"\"},\"colorscale\":[[0.0,\"#0d0887\"],[0.1111111111111111,\"#46039f\"],[0.2222222222222222,\"#7201a8\"],[0.3333333333333333,\"#9c179e\"],[0.4444444444444444,\"#bd3786\"],[0.5555555555555556,\"#d8576b\"],[0.6666666666666666,\"#ed7953\"],[0.7777777777777778,\"#fb9f3a\"],[0.8888888888888888,\"#fdca26\"],[1.0,\"#f0f921\"]]}],\"mesh3d\":[{\"type\":\"mesh3d\",\"colorbar\":{\"outlinewidth\":0,\"ticks\":\"\"}}],\"scatter\":[{\"fillpattern\":{\"fillmode\":\"overlay\",\"size\":10,\"solidity\":0.2},\"type\":\"scatter\"}],\"parcoords\":[{\"type\":\"parcoords\",\"line\":{\"colorbar\":{\"outlinewidth\":0,\"ticks\":\"\"}}}],\"scatterpolargl\":[{\"type\":\"scatterpolargl\",\"marker\":{\"colorbar\":{\"outlinewidth\":0,\"ticks\":\"\"}}}],\"bar\":[{\"error_x\":{\"color\":\"#2a3f5f\"},\"error_y\":{\"color\":\"#2a3f5f\"},\"marker\":{\"line\":{\"color\":\"#E5ECF6\",\"width\":0.5},\"pattern\":{\"fillmode\":\"overlay\",\"size\":10,\"solidity\":0.2}},\"type\":\"bar\"}],\"scattergeo\":[{\"type\":\"scattergeo\",\"marker\":{\"colorbar\":{\"outlinewidth\":0,\"ticks\":\"\"}}}],\"scatterpolar\":[{\"type\":\"scatterpolar\",\"marker\":{\"colorbar\":{\"outlinewidth\":0,\"ticks\":\"\"}}}],\"histogram\":[{\"marker\":{\"pattern\":{\"fillmode\":\"overlay\",\"size\":10,\"solidity\":0.2}},\"type\":\"histogram\"}],\"scattergl\":[{\"type\":\"scattergl\",\"marker\":{\"colorbar\":{\"outlinewidth\":0,\"ticks\":\"\"}}}],\"scatter3d\":[{\"type\":\"scatter3d\",\"line\":{\"colorbar\":{\"outlinewidth\":0,\"ticks\":\"\"}},\"marker\":{\"colorbar\":{\"outlinewidth\":0,\"ticks\":\"\"}}}],\"scattermapbox\":[{\"type\":\"scattermapbox\",\"marker\":{\"colorbar\":{\"outlinewidth\":0,\"ticks\":\"\"}}}],\"scatterternary\":[{\"type\":\"scatterternary\",\"marker\":{\"colorbar\":{\"outlinewidth\":0,\"ticks\":\"\"}}}],\"scattercarpet\":[{\"type\":\"scattercarpet\",\"marker\":{\"colorbar\":{\"outlinewidth\":0,\"ticks\":\"\"}}}],\"carpet\":[{\"aaxis\":{\"endlinecolor\":\"#2a3f5f\",\"gridcolor\":\"white\",\"linecolor\":\"white\",\"minorgridcolor\":\"white\",\"startlinecolor\":\"#2a3f5f\"},\"baxis\":{\"endlinecolor\":\"#2a3f5f\",\"gridcolor\":\"white\",\"linecolor\":\"white\",\"minorgridcolor\":\"white\",\"startlinecolor\":\"#2a3f5f\"},\"type\":\"carpet\"}],\"table\":[{\"cells\":{\"fill\":{\"color\":\"#EBF0F8\"},\"line\":{\"color\":\"white\"}},\"header\":{\"fill\":{\"color\":\"#C8D4E3\"},\"line\":{\"color\":\"white\"}},\"type\":\"table\"}],\"barpolar\":[{\"marker\":{\"line\":{\"color\":\"#E5ECF6\",\"width\":0.5},\"pattern\":{\"fillmode\":\"overlay\",\"size\":10,\"solidity\":0.2}},\"type\":\"barpolar\"}],\"pie\":[{\"automargin\":true,\"type\":\"pie\"}]},\"layout\":{\"autotypenumbers\":\"strict\",\"colorway\":[\"#636efa\",\"#EF553B\",\"#00cc96\",\"#ab63fa\",\"#FFA15A\",\"#19d3f3\",\"#FF6692\",\"#B6E880\",\"#FF97FF\",\"#FECB52\"],\"font\":{\"color\":\"#2a3f5f\"},\"hovermode\":\"closest\",\"hoverlabel\":{\"align\":\"left\"},\"paper_bgcolor\":\"white\",\"plot_bgcolor\":\"#E5ECF6\",\"polar\":{\"bgcolor\":\"#E5ECF6\",\"angularaxis\":{\"gridcolor\":\"white\",\"linecolor\":\"white\",\"ticks\":\"\"},\"radialaxis\":{\"gridcolor\":\"white\",\"linecolor\":\"white\",\"ticks\":\"\"}},\"ternary\":{\"bgcolor\":\"#E5ECF6\",\"aaxis\":{\"gridcolor\":\"white\",\"linecolor\":\"white\",\"ticks\":\"\"},\"baxis\":{\"gridcolor\":\"white\",\"linecolor\":\"white\",\"ticks\":\"\"},\"caxis\":{\"gridcolor\":\"white\",\"linecolor\":\"white\",\"ticks\":\"\"}},\"coloraxis\":{\"colorbar\":{\"outlinewidth\":0,\"ticks\":\"\"}},\"colorscale\":{\"sequential\":[[0.0,\"#0d0887\"],[0.1111111111111111,\"#46039f\"],[0.2222222222222222,\"#7201a8\"],[0.3333333333333333,\"#9c179e\"],[0.4444444444444444,\"#bd3786\"],[0.5555555555555556,\"#d8576b\"],[0.6666666666666666,\"#ed7953\"],[0.7777777777777778,\"#fb9f3a\"],[0.8888888888888888,\"#fdca26\"],[1.0,\"#f0f921\"]],\"sequentialminus\":[[0.0,\"#0d0887\"],[0.1111111111111111,\"#46039f\"],[0.2222222222222222,\"#7201a8\"],[0.3333333333333333,\"#9c179e\"],[0.4444444444444444,\"#bd3786\"],[0.5555555555555556,\"#d8576b\"],[0.6666666666666666,\"#ed7953\"],[0.7777777777777778,\"#fb9f3a\"],[0.8888888888888888,\"#fdca26\"],[1.0,\"#f0f921\"]],\"diverging\":[[0,\"#8e0152\"],[0.1,\"#c51b7d\"],[0.2,\"#de77ae\"],[0.3,\"#f1b6da\"],[0.4,\"#fde0ef\"],[0.5,\"#f7f7f7\"],[0.6,\"#e6f5d0\"],[0.7,\"#b8e186\"],[0.8,\"#7fbc41\"],[0.9,\"#4d9221\"],[1,\"#276419\"]]},\"xaxis\":{\"gridcolor\":\"white\",\"linecolor\":\"white\",\"ticks\":\"\",\"title\":{\"standoff\":15},\"zerolinecolor\":\"white\",\"automargin\":true,\"zerolinewidth\":2},\"yaxis\":{\"gridcolor\":\"white\",\"linecolor\":\"white\",\"ticks\":\"\",\"title\":{\"standoff\":15},\"zerolinecolor\":\"white\",\"automargin\":true,\"zerolinewidth\":2},\"scene\":{\"xaxis\":{\"backgroundcolor\":\"#E5ECF6\",\"gridcolor\":\"white\",\"linecolor\":\"white\",\"showbackground\":true,\"ticks\":\"\",\"zerolinecolor\":\"white\",\"gridwidth\":2},\"yaxis\":{\"backgroundcolor\":\"#E5ECF6\",\"gridcolor\":\"white\",\"linecolor\":\"white\",\"showbackground\":true,\"ticks\":\"\",\"zerolinecolor\":\"white\",\"gridwidth\":2},\"zaxis\":{\"backgroundcolor\":\"#E5ECF6\",\"gridcolor\":\"white\",\"linecolor\":\"white\",\"showbackground\":true,\"ticks\":\"\",\"zerolinecolor\":\"white\",\"gridwidth\":2}},\"shapedefaults\":{\"line\":{\"color\":\"#2a3f5f\"}},\"annotationdefaults\":{\"arrowcolor\":\"#2a3f5f\",\"arrowhead\":0,\"arrowwidth\":1},\"geo\":{\"bgcolor\":\"white\",\"landcolor\":\"#E5ECF6\",\"subunitcolor\":\"white\",\"showland\":true,\"showlakes\":true,\"lakecolor\":\"white\"},\"title\":{\"x\":0.05},\"mapbox\":{\"style\":\"light\"}}},\"xaxis\":{\"anchor\":\"y\",\"domain\":[0.0,1.0],\"title\":{\"text\":\"BMI\"}},\"yaxis\":{\"anchor\":\"x\",\"domain\":[0.0,0.8316],\"title\":{\"text\":\"count\"}},\"xaxis2\":{\"anchor\":\"y2\",\"domain\":[0.0,1.0],\"matches\":\"x\",\"showticklabels\":false,\"showgrid\":true},\"yaxis2\":{\"anchor\":\"x2\",\"domain\":[0.8416,1.0],\"matches\":\"y2\",\"showticklabels\":false,\"showline\":false,\"ticks\":\"\",\"showgrid\":false},\"legend\":{\"tracegroupgap\":0},\"title\":{\"text\":\"Distribution of BMI\"},\"barmode\":\"relative\"},                        {\"responsive\": true}                    ).then(function(){\n",
              "                            \n",
              "var gd = document.getElementById('bca11904-76e7-4954-aef9-fe5d4bf3deda');\n",
              "var x = new MutationObserver(function (mutations, observer) {{\n",
              "        var display = window.getComputedStyle(gd).display;\n",
              "        if (!display || display === 'none') {{\n",
              "            console.log([gd, 'removed!']);\n",
              "            Plotly.purge(gd);\n",
              "            observer.disconnect();\n",
              "        }}\n",
              "}});\n",
              "\n",
              "// Listen for the removal of the full notebook cells\n",
              "var notebookContainer = gd.closest('#notebook-container');\n",
              "if (notebookContainer) {{\n",
              "    x.observe(notebookContainer, {childList: true});\n",
              "}}\n",
              "\n",
              "// Listen for the clearing of the current output cell\n",
              "var outputEl = gd.closest('.output');\n",
              "if (outputEl) {{\n",
              "    x.observe(outputEl, {childList: true});\n",
              "}}\n",
              "\n",
              "                        })                };                            </script>        </div>\n",
              "</body>\n",
              "</html>"
            ]
          },
          "metadata": {}
        }
      ]
    },
    {
      "cell_type": "code",
      "source": [
        "fig7 = px.histogram(df, x = 'DiabetesPedigreeFunction', marginal = 'box',\n",
        "                    title = 'Distribution of Diabetes Pedigree Function',\n",
        "                   color_discrete_sequence=px.colors.qualitative.Antique)\n",
        "fig7.show()"
      ],
      "metadata": {
        "colab": {
          "base_uri": "https://localhost:8080/",
          "height": 542
        },
        "id": "HnsVJB6qNW7Y",
        "outputId": "303bc1e8-e95b-4209-9b57-534b1f4ab01f"
      },
      "execution_count": 17,
      "outputs": [
        {
          "output_type": "display_data",
          "data": {
            "text/html": [
              "<html>\n",
              "<head><meta charset=\"utf-8\" /></head>\n",
              "<body>\n",
              "    <div>            <script src=\"https://cdnjs.cloudflare.com/ajax/libs/mathjax/2.7.5/MathJax.js?config=TeX-AMS-MML_SVG\"></script><script type=\"text/javascript\">if (window.MathJax && window.MathJax.Hub && window.MathJax.Hub.Config) {window.MathJax.Hub.Config({SVG: {font: \"STIX-Web\"}});}</script>                <script type=\"text/javascript\">window.PlotlyConfig = {MathJaxConfig: 'local'};</script>\n",
              "        <script charset=\"utf-8\" src=\"https://cdn.plot.ly/plotly-2.24.1.min.js\"></script>                <div id=\"17a0eecd-ce0a-4e2d-b2c2-800c9bbc1210\" class=\"plotly-graph-div\" style=\"height:525px; width:100%;\"></div>            <script type=\"text/javascript\">                                    window.PLOTLYENV=window.PLOTLYENV || {};                                    if (document.getElementById(\"17a0eecd-ce0a-4e2d-b2c2-800c9bbc1210\")) {                    Plotly.newPlot(                        \"17a0eecd-ce0a-4e2d-b2c2-800c9bbc1210\",                        [{\"alignmentgroup\":\"True\",\"bingroup\":\"x\",\"hovertemplate\":\"DiabetesPedigreeFunction=%{x}\\u003cbr\\u003ecount=%{y}\\u003cextra\\u003e\\u003c\\u002fextra\\u003e\",\"legendgroup\":\"\",\"marker\":{\"color\":\"rgb(133, 92, 117)\",\"pattern\":{\"shape\":\"\"}},\"name\":\"\",\"offsetgroup\":\"\",\"orientation\":\"v\",\"showlegend\":false,\"x\":[0.627,0.351,0.672,0.167,2.288,0.201,0.248,0.134,0.158,0.232,0.191,0.537,1.441,0.398,0.587,0.484,0.551,0.254,0.183,0.529,0.704,0.388,0.451,0.263,0.254,0.205,0.257,0.487,0.245,0.337,0.546,0.851,0.267,0.188,0.512,0.966,0.42,0.665,0.503,1.39,0.271,0.696,0.235,0.721,0.294,1.893,0.564,0.586,0.344,0.305,0.491,0.526,0.342,0.467,0.718,0.248,0.254,0.962,1.781,0.173,0.304,0.27,0.587,0.699,0.258,0.203,0.855,0.845,0.334,0.189,0.867,0.411,0.583,0.231,0.396,0.14,0.391,0.37,0.27,0.307,0.14,0.102,0.767,0.237,0.227,0.698,0.178,0.324,0.153,0.165,0.258,0.443,0.261,0.277,0.761,0.255,0.13,0.323,0.356,0.325,1.222,0.179,0.262,0.283,0.93,0.801,0.207,0.287,0.336,0.247,0.199,0.543,0.192,0.391,0.588,0.539,0.22,0.654,0.443,0.223,0.759,0.26,0.404,0.186,0.278,0.496,0.452,0.261,0.403,0.741,0.361,1.114,0.356,0.457,0.647,0.088,0.597,0.532,0.703,0.159,0.268,0.286,0.318,0.272,0.237,0.572,0.096,1.4,0.218,0.085,0.399,0.432,1.189,0.687,0.137,0.337,0.637,0.833,0.229,0.817,0.294,0.204,0.167,0.368,0.743,0.722,0.256,0.709,0.471,0.495,0.18,0.542,0.773,0.678,0.37,0.719,0.382,0.319,0.19,0.956,0.084,0.725,0.299,0.268,0.244,0.745,0.615,1.321,0.64,0.361,0.142,0.374,0.383,0.578,0.136,0.395,0.187,0.678,0.905,0.15,0.874,0.236,0.787,0.235,0.324,0.407,0.605,0.151,0.289,0.355,0.29,0.375,0.164,0.431,0.26,0.742,0.514,0.464,1.224,0.261,1.072,0.805,0.209,0.687,0.666,0.101,0.198,0.652,2.329,0.089,0.645,0.238,0.583,0.394,0.293,0.479,0.586,0.686,0.831,0.582,0.192,0.446,0.402,1.318,0.329,1.213,0.258,0.427,0.282,0.143,0.38,0.284,0.249,0.238,0.926,0.543,0.557,0.092,0.655,1.353,0.299,0.761,0.612,0.2,0.226,0.997,0.933,1.101,0.078,0.24,1.136,0.128,0.254,0.422,0.251,0.677,0.296,0.454,0.744,0.881,0.334,0.28,0.262,0.165,0.259,0.647,0.619,0.808,0.34,0.263,0.434,0.757,1.224,0.613,0.254,0.692,0.337,0.52,0.412,0.84,0.839,0.422,0.156,0.209,0.207,0.215,0.326,0.143,1.391,0.875,0.313,0.605,0.433,0.626,1.127,0.315,0.284,0.345,0.15,0.129,0.527,0.197,0.254,0.731,0.148,0.123,0.692,0.2,0.127,0.122,1.476,0.166,0.282,0.137,0.26,0.259,0.932,0.343,0.893,0.331,0.472,0.673,0.389,0.29,0.485,0.349,0.654,0.187,0.279,0.346,0.237,0.252,0.243,0.58,0.559,0.302,0.962,0.569,0.378,0.875,0.583,0.207,0.305,0.52,0.385,0.499,0.368,0.252,0.306,0.234,2.137,1.731,0.545,0.225,0.816,0.528,0.299,0.509,0.238,1.021,0.821,0.236,0.947,1.268,0.221,0.205,0.66,0.239,0.452,0.949,0.444,0.34,0.389,0.463,0.803,1.6,0.944,0.196,0.389,0.241,0.161,0.151,0.286,0.28,0.135,0.52,0.376,0.336,1.191,0.702,0.674,0.528,1.076,0.256,0.534,0.258,1.095,0.554,0.624,0.219,0.507,0.561,0.496,0.421,0.516,0.264,0.256,0.328,0.284,0.233,0.108,0.551,0.527,0.167,1.138,0.205,0.244,0.434,0.147,0.727,0.435,0.497,0.23,0.955,0.38,2.42,0.658,0.33,0.51,0.285,0.415,0.542,0.381,0.832,0.498,0.212,0.687,0.364,1.001,0.46,0.733,0.416,0.705,0.258,1.022,0.452,0.269,0.6,0.183,0.571,0.607,0.17,0.259,0.21,0.126,0.231,0.711,0.466,0.162,0.419,0.344,0.197,0.306,0.233,0.63,0.365,0.536,1.159,0.294,0.551,0.629,0.292,0.145,1.144,0.174,0.304,0.292,0.547,0.163,0.839,0.313,0.267,0.727,0.738,0.238,0.263,0.314,0.692,0.968,0.409,0.297,0.207,0.2,0.525,0.154,0.268,0.771,0.304,0.18,0.582,0.187,0.305,0.189,0.652,0.151,0.444,0.299,0.107,0.493,0.66,0.717,0.686,0.917,0.501,1.251,0.302,0.197,0.735,0.804,0.968,0.661,0.549,0.825,0.159,0.365,0.423,1.034,0.16,0.341,0.68,0.204,0.591,0.247,0.422,0.471,0.161,0.218,0.237,0.126,0.3,0.121,0.502,0.401,0.497,0.601,0.748,0.412,0.085,0.338,0.203,0.27,0.268,0.43,0.198,0.892,0.28,0.813,0.693,0.245,0.575,0.371,0.206,0.259,0.19,0.687,0.417,0.129,0.249,1.154,0.342,0.925,0.175,0.402,1.699,0.733,0.682,0.194,0.559,0.088,0.407,0.4,0.19,0.1,0.692,0.212,0.514,1.258,0.482,0.27,0.138,0.292,0.593,0.787,0.878,0.557,0.207,0.157,0.257,1.282,0.141,0.246,1.698,1.461,0.347,0.158,0.362,0.206,0.393,0.144,0.148,0.732,0.238,0.343,0.115,0.167,0.465,0.153,0.649,0.871,0.149,0.695,0.303,0.178,0.61,0.73,0.134,0.447,0.455,0.26,0.133,0.234,0.466,0.269,0.455,0.142,0.24,0.155,1.162,0.19,1.292,0.182,1.394,0.165,0.637,0.245,0.217,0.235,0.141,0.43,0.164,0.631,0.551,0.285,0.88,0.587,0.328,0.23,0.263,0.127,0.614,0.332,0.364,0.366,0.536,0.64,0.591,0.314,0.181,0.828,0.335,0.856,0.257,0.886,0.439,0.191,0.128,0.268,0.253,0.598,0.904,0.483,0.565,0.905,0.304,0.118,0.177,0.261,0.176,0.148,0.674,0.295,0.439,0.441,0.352,0.121,0.826,0.97,0.595,0.415,0.378,0.317,0.289,0.349,0.251,0.265,0.236,0.496,0.433,0.326,0.141,0.323,0.259,0.646,0.426,0.56,0.284,0.515,0.6,0.453,0.293,0.785,0.4,0.219,0.734,1.174,0.488,0.358,1.096,0.408,0.178,1.182,0.261,0.223,0.222,0.443,1.057,0.391,0.258,0.197,0.278,0.766,0.403,0.142,0.171,0.34,0.245,0.349,0.315],\"xaxis\":\"x\",\"yaxis\":\"y\",\"type\":\"histogram\"},{\"alignmentgroup\":\"True\",\"hovertemplate\":\"DiabetesPedigreeFunction=%{x}\\u003cextra\\u003e\\u003c\\u002fextra\\u003e\",\"legendgroup\":\"\",\"marker\":{\"color\":\"rgb(133, 92, 117)\"},\"name\":\"\",\"notched\":true,\"offsetgroup\":\"\",\"showlegend\":false,\"x\":[0.627,0.351,0.672,0.167,2.288,0.201,0.248,0.134,0.158,0.232,0.191,0.537,1.441,0.398,0.587,0.484,0.551,0.254,0.183,0.529,0.704,0.388,0.451,0.263,0.254,0.205,0.257,0.487,0.245,0.337,0.546,0.851,0.267,0.188,0.512,0.966,0.42,0.665,0.503,1.39,0.271,0.696,0.235,0.721,0.294,1.893,0.564,0.586,0.344,0.305,0.491,0.526,0.342,0.467,0.718,0.248,0.254,0.962,1.781,0.173,0.304,0.27,0.587,0.699,0.258,0.203,0.855,0.845,0.334,0.189,0.867,0.411,0.583,0.231,0.396,0.14,0.391,0.37,0.27,0.307,0.14,0.102,0.767,0.237,0.227,0.698,0.178,0.324,0.153,0.165,0.258,0.443,0.261,0.277,0.761,0.255,0.13,0.323,0.356,0.325,1.222,0.179,0.262,0.283,0.93,0.801,0.207,0.287,0.336,0.247,0.199,0.543,0.192,0.391,0.588,0.539,0.22,0.654,0.443,0.223,0.759,0.26,0.404,0.186,0.278,0.496,0.452,0.261,0.403,0.741,0.361,1.114,0.356,0.457,0.647,0.088,0.597,0.532,0.703,0.159,0.268,0.286,0.318,0.272,0.237,0.572,0.096,1.4,0.218,0.085,0.399,0.432,1.189,0.687,0.137,0.337,0.637,0.833,0.229,0.817,0.294,0.204,0.167,0.368,0.743,0.722,0.256,0.709,0.471,0.495,0.18,0.542,0.773,0.678,0.37,0.719,0.382,0.319,0.19,0.956,0.084,0.725,0.299,0.268,0.244,0.745,0.615,1.321,0.64,0.361,0.142,0.374,0.383,0.578,0.136,0.395,0.187,0.678,0.905,0.15,0.874,0.236,0.787,0.235,0.324,0.407,0.605,0.151,0.289,0.355,0.29,0.375,0.164,0.431,0.26,0.742,0.514,0.464,1.224,0.261,1.072,0.805,0.209,0.687,0.666,0.101,0.198,0.652,2.329,0.089,0.645,0.238,0.583,0.394,0.293,0.479,0.586,0.686,0.831,0.582,0.192,0.446,0.402,1.318,0.329,1.213,0.258,0.427,0.282,0.143,0.38,0.284,0.249,0.238,0.926,0.543,0.557,0.092,0.655,1.353,0.299,0.761,0.612,0.2,0.226,0.997,0.933,1.101,0.078,0.24,1.136,0.128,0.254,0.422,0.251,0.677,0.296,0.454,0.744,0.881,0.334,0.28,0.262,0.165,0.259,0.647,0.619,0.808,0.34,0.263,0.434,0.757,1.224,0.613,0.254,0.692,0.337,0.52,0.412,0.84,0.839,0.422,0.156,0.209,0.207,0.215,0.326,0.143,1.391,0.875,0.313,0.605,0.433,0.626,1.127,0.315,0.284,0.345,0.15,0.129,0.527,0.197,0.254,0.731,0.148,0.123,0.692,0.2,0.127,0.122,1.476,0.166,0.282,0.137,0.26,0.259,0.932,0.343,0.893,0.331,0.472,0.673,0.389,0.29,0.485,0.349,0.654,0.187,0.279,0.346,0.237,0.252,0.243,0.58,0.559,0.302,0.962,0.569,0.378,0.875,0.583,0.207,0.305,0.52,0.385,0.499,0.368,0.252,0.306,0.234,2.137,1.731,0.545,0.225,0.816,0.528,0.299,0.509,0.238,1.021,0.821,0.236,0.947,1.268,0.221,0.205,0.66,0.239,0.452,0.949,0.444,0.34,0.389,0.463,0.803,1.6,0.944,0.196,0.389,0.241,0.161,0.151,0.286,0.28,0.135,0.52,0.376,0.336,1.191,0.702,0.674,0.528,1.076,0.256,0.534,0.258,1.095,0.554,0.624,0.219,0.507,0.561,0.496,0.421,0.516,0.264,0.256,0.328,0.284,0.233,0.108,0.551,0.527,0.167,1.138,0.205,0.244,0.434,0.147,0.727,0.435,0.497,0.23,0.955,0.38,2.42,0.658,0.33,0.51,0.285,0.415,0.542,0.381,0.832,0.498,0.212,0.687,0.364,1.001,0.46,0.733,0.416,0.705,0.258,1.022,0.452,0.269,0.6,0.183,0.571,0.607,0.17,0.259,0.21,0.126,0.231,0.711,0.466,0.162,0.419,0.344,0.197,0.306,0.233,0.63,0.365,0.536,1.159,0.294,0.551,0.629,0.292,0.145,1.144,0.174,0.304,0.292,0.547,0.163,0.839,0.313,0.267,0.727,0.738,0.238,0.263,0.314,0.692,0.968,0.409,0.297,0.207,0.2,0.525,0.154,0.268,0.771,0.304,0.18,0.582,0.187,0.305,0.189,0.652,0.151,0.444,0.299,0.107,0.493,0.66,0.717,0.686,0.917,0.501,1.251,0.302,0.197,0.735,0.804,0.968,0.661,0.549,0.825,0.159,0.365,0.423,1.034,0.16,0.341,0.68,0.204,0.591,0.247,0.422,0.471,0.161,0.218,0.237,0.126,0.3,0.121,0.502,0.401,0.497,0.601,0.748,0.412,0.085,0.338,0.203,0.27,0.268,0.43,0.198,0.892,0.28,0.813,0.693,0.245,0.575,0.371,0.206,0.259,0.19,0.687,0.417,0.129,0.249,1.154,0.342,0.925,0.175,0.402,1.699,0.733,0.682,0.194,0.559,0.088,0.407,0.4,0.19,0.1,0.692,0.212,0.514,1.258,0.482,0.27,0.138,0.292,0.593,0.787,0.878,0.557,0.207,0.157,0.257,1.282,0.141,0.246,1.698,1.461,0.347,0.158,0.362,0.206,0.393,0.144,0.148,0.732,0.238,0.343,0.115,0.167,0.465,0.153,0.649,0.871,0.149,0.695,0.303,0.178,0.61,0.73,0.134,0.447,0.455,0.26,0.133,0.234,0.466,0.269,0.455,0.142,0.24,0.155,1.162,0.19,1.292,0.182,1.394,0.165,0.637,0.245,0.217,0.235,0.141,0.43,0.164,0.631,0.551,0.285,0.88,0.587,0.328,0.23,0.263,0.127,0.614,0.332,0.364,0.366,0.536,0.64,0.591,0.314,0.181,0.828,0.335,0.856,0.257,0.886,0.439,0.191,0.128,0.268,0.253,0.598,0.904,0.483,0.565,0.905,0.304,0.118,0.177,0.261,0.176,0.148,0.674,0.295,0.439,0.441,0.352,0.121,0.826,0.97,0.595,0.415,0.378,0.317,0.289,0.349,0.251,0.265,0.236,0.496,0.433,0.326,0.141,0.323,0.259,0.646,0.426,0.56,0.284,0.515,0.6,0.453,0.293,0.785,0.4,0.219,0.734,1.174,0.488,0.358,1.096,0.408,0.178,1.182,0.261,0.223,0.222,0.443,1.057,0.391,0.258,0.197,0.278,0.766,0.403,0.142,0.171,0.34,0.245,0.349,0.315],\"xaxis\":\"x2\",\"yaxis\":\"y2\",\"type\":\"box\"}],                        {\"template\":{\"data\":{\"histogram2dcontour\":[{\"type\":\"histogram2dcontour\",\"colorbar\":{\"outlinewidth\":0,\"ticks\":\"\"},\"colorscale\":[[0.0,\"#0d0887\"],[0.1111111111111111,\"#46039f\"],[0.2222222222222222,\"#7201a8\"],[0.3333333333333333,\"#9c179e\"],[0.4444444444444444,\"#bd3786\"],[0.5555555555555556,\"#d8576b\"],[0.6666666666666666,\"#ed7953\"],[0.7777777777777778,\"#fb9f3a\"],[0.8888888888888888,\"#fdca26\"],[1.0,\"#f0f921\"]]}],\"choropleth\":[{\"type\":\"choropleth\",\"colorbar\":{\"outlinewidth\":0,\"ticks\":\"\"}}],\"histogram2d\":[{\"type\":\"histogram2d\",\"colorbar\":{\"outlinewidth\":0,\"ticks\":\"\"},\"colorscale\":[[0.0,\"#0d0887\"],[0.1111111111111111,\"#46039f\"],[0.2222222222222222,\"#7201a8\"],[0.3333333333333333,\"#9c179e\"],[0.4444444444444444,\"#bd3786\"],[0.5555555555555556,\"#d8576b\"],[0.6666666666666666,\"#ed7953\"],[0.7777777777777778,\"#fb9f3a\"],[0.8888888888888888,\"#fdca26\"],[1.0,\"#f0f921\"]]}],\"heatmap\":[{\"type\":\"heatmap\",\"colorbar\":{\"outlinewidth\":0,\"ticks\":\"\"},\"colorscale\":[[0.0,\"#0d0887\"],[0.1111111111111111,\"#46039f\"],[0.2222222222222222,\"#7201a8\"],[0.3333333333333333,\"#9c179e\"],[0.4444444444444444,\"#bd3786\"],[0.5555555555555556,\"#d8576b\"],[0.6666666666666666,\"#ed7953\"],[0.7777777777777778,\"#fb9f3a\"],[0.8888888888888888,\"#fdca26\"],[1.0,\"#f0f921\"]]}],\"heatmapgl\":[{\"type\":\"heatmapgl\",\"colorbar\":{\"outlinewidth\":0,\"ticks\":\"\"},\"colorscale\":[[0.0,\"#0d0887\"],[0.1111111111111111,\"#46039f\"],[0.2222222222222222,\"#7201a8\"],[0.3333333333333333,\"#9c179e\"],[0.4444444444444444,\"#bd3786\"],[0.5555555555555556,\"#d8576b\"],[0.6666666666666666,\"#ed7953\"],[0.7777777777777778,\"#fb9f3a\"],[0.8888888888888888,\"#fdca26\"],[1.0,\"#f0f921\"]]}],\"contourcarpet\":[{\"type\":\"contourcarpet\",\"colorbar\":{\"outlinewidth\":0,\"ticks\":\"\"}}],\"contour\":[{\"type\":\"contour\",\"colorbar\":{\"outlinewidth\":0,\"ticks\":\"\"},\"colorscale\":[[0.0,\"#0d0887\"],[0.1111111111111111,\"#46039f\"],[0.2222222222222222,\"#7201a8\"],[0.3333333333333333,\"#9c179e\"],[0.4444444444444444,\"#bd3786\"],[0.5555555555555556,\"#d8576b\"],[0.6666666666666666,\"#ed7953\"],[0.7777777777777778,\"#fb9f3a\"],[0.8888888888888888,\"#fdca26\"],[1.0,\"#f0f921\"]]}],\"surface\":[{\"type\":\"surface\",\"colorbar\":{\"outlinewidth\":0,\"ticks\":\"\"},\"colorscale\":[[0.0,\"#0d0887\"],[0.1111111111111111,\"#46039f\"],[0.2222222222222222,\"#7201a8\"],[0.3333333333333333,\"#9c179e\"],[0.4444444444444444,\"#bd3786\"],[0.5555555555555556,\"#d8576b\"],[0.6666666666666666,\"#ed7953\"],[0.7777777777777778,\"#fb9f3a\"],[0.8888888888888888,\"#fdca26\"],[1.0,\"#f0f921\"]]}],\"mesh3d\":[{\"type\":\"mesh3d\",\"colorbar\":{\"outlinewidth\":0,\"ticks\":\"\"}}],\"scatter\":[{\"fillpattern\":{\"fillmode\":\"overlay\",\"size\":10,\"solidity\":0.2},\"type\":\"scatter\"}],\"parcoords\":[{\"type\":\"parcoords\",\"line\":{\"colorbar\":{\"outlinewidth\":0,\"ticks\":\"\"}}}],\"scatterpolargl\":[{\"type\":\"scatterpolargl\",\"marker\":{\"colorbar\":{\"outlinewidth\":0,\"ticks\":\"\"}}}],\"bar\":[{\"error_x\":{\"color\":\"#2a3f5f\"},\"error_y\":{\"color\":\"#2a3f5f\"},\"marker\":{\"line\":{\"color\":\"#E5ECF6\",\"width\":0.5},\"pattern\":{\"fillmode\":\"overlay\",\"size\":10,\"solidity\":0.2}},\"type\":\"bar\"}],\"scattergeo\":[{\"type\":\"scattergeo\",\"marker\":{\"colorbar\":{\"outlinewidth\":0,\"ticks\":\"\"}}}],\"scatterpolar\":[{\"type\":\"scatterpolar\",\"marker\":{\"colorbar\":{\"outlinewidth\":0,\"ticks\":\"\"}}}],\"histogram\":[{\"marker\":{\"pattern\":{\"fillmode\":\"overlay\",\"size\":10,\"solidity\":0.2}},\"type\":\"histogram\"}],\"scattergl\":[{\"type\":\"scattergl\",\"marker\":{\"colorbar\":{\"outlinewidth\":0,\"ticks\":\"\"}}}],\"scatter3d\":[{\"type\":\"scatter3d\",\"line\":{\"colorbar\":{\"outlinewidth\":0,\"ticks\":\"\"}},\"marker\":{\"colorbar\":{\"outlinewidth\":0,\"ticks\":\"\"}}}],\"scattermapbox\":[{\"type\":\"scattermapbox\",\"marker\":{\"colorbar\":{\"outlinewidth\":0,\"ticks\":\"\"}}}],\"scatterternary\":[{\"type\":\"scatterternary\",\"marker\":{\"colorbar\":{\"outlinewidth\":0,\"ticks\":\"\"}}}],\"scattercarpet\":[{\"type\":\"scattercarpet\",\"marker\":{\"colorbar\":{\"outlinewidth\":0,\"ticks\":\"\"}}}],\"carpet\":[{\"aaxis\":{\"endlinecolor\":\"#2a3f5f\",\"gridcolor\":\"white\",\"linecolor\":\"white\",\"minorgridcolor\":\"white\",\"startlinecolor\":\"#2a3f5f\"},\"baxis\":{\"endlinecolor\":\"#2a3f5f\",\"gridcolor\":\"white\",\"linecolor\":\"white\",\"minorgridcolor\":\"white\",\"startlinecolor\":\"#2a3f5f\"},\"type\":\"carpet\"}],\"table\":[{\"cells\":{\"fill\":{\"color\":\"#EBF0F8\"},\"line\":{\"color\":\"white\"}},\"header\":{\"fill\":{\"color\":\"#C8D4E3\"},\"line\":{\"color\":\"white\"}},\"type\":\"table\"}],\"barpolar\":[{\"marker\":{\"line\":{\"color\":\"#E5ECF6\",\"width\":0.5},\"pattern\":{\"fillmode\":\"overlay\",\"size\":10,\"solidity\":0.2}},\"type\":\"barpolar\"}],\"pie\":[{\"automargin\":true,\"type\":\"pie\"}]},\"layout\":{\"autotypenumbers\":\"strict\",\"colorway\":[\"#636efa\",\"#EF553B\",\"#00cc96\",\"#ab63fa\",\"#FFA15A\",\"#19d3f3\",\"#FF6692\",\"#B6E880\",\"#FF97FF\",\"#FECB52\"],\"font\":{\"color\":\"#2a3f5f\"},\"hovermode\":\"closest\",\"hoverlabel\":{\"align\":\"left\"},\"paper_bgcolor\":\"white\",\"plot_bgcolor\":\"#E5ECF6\",\"polar\":{\"bgcolor\":\"#E5ECF6\",\"angularaxis\":{\"gridcolor\":\"white\",\"linecolor\":\"white\",\"ticks\":\"\"},\"radialaxis\":{\"gridcolor\":\"white\",\"linecolor\":\"white\",\"ticks\":\"\"}},\"ternary\":{\"bgcolor\":\"#E5ECF6\",\"aaxis\":{\"gridcolor\":\"white\",\"linecolor\":\"white\",\"ticks\":\"\"},\"baxis\":{\"gridcolor\":\"white\",\"linecolor\":\"white\",\"ticks\":\"\"},\"caxis\":{\"gridcolor\":\"white\",\"linecolor\":\"white\",\"ticks\":\"\"}},\"coloraxis\":{\"colorbar\":{\"outlinewidth\":0,\"ticks\":\"\"}},\"colorscale\":{\"sequential\":[[0.0,\"#0d0887\"],[0.1111111111111111,\"#46039f\"],[0.2222222222222222,\"#7201a8\"],[0.3333333333333333,\"#9c179e\"],[0.4444444444444444,\"#bd3786\"],[0.5555555555555556,\"#d8576b\"],[0.6666666666666666,\"#ed7953\"],[0.7777777777777778,\"#fb9f3a\"],[0.8888888888888888,\"#fdca26\"],[1.0,\"#f0f921\"]],\"sequentialminus\":[[0.0,\"#0d0887\"],[0.1111111111111111,\"#46039f\"],[0.2222222222222222,\"#7201a8\"],[0.3333333333333333,\"#9c179e\"],[0.4444444444444444,\"#bd3786\"],[0.5555555555555556,\"#d8576b\"],[0.6666666666666666,\"#ed7953\"],[0.7777777777777778,\"#fb9f3a\"],[0.8888888888888888,\"#fdca26\"],[1.0,\"#f0f921\"]],\"diverging\":[[0,\"#8e0152\"],[0.1,\"#c51b7d\"],[0.2,\"#de77ae\"],[0.3,\"#f1b6da\"],[0.4,\"#fde0ef\"],[0.5,\"#f7f7f7\"],[0.6,\"#e6f5d0\"],[0.7,\"#b8e186\"],[0.8,\"#7fbc41\"],[0.9,\"#4d9221\"],[1,\"#276419\"]]},\"xaxis\":{\"gridcolor\":\"white\",\"linecolor\":\"white\",\"ticks\":\"\",\"title\":{\"standoff\":15},\"zerolinecolor\":\"white\",\"automargin\":true,\"zerolinewidth\":2},\"yaxis\":{\"gridcolor\":\"white\",\"linecolor\":\"white\",\"ticks\":\"\",\"title\":{\"standoff\":15},\"zerolinecolor\":\"white\",\"automargin\":true,\"zerolinewidth\":2},\"scene\":{\"xaxis\":{\"backgroundcolor\":\"#E5ECF6\",\"gridcolor\":\"white\",\"linecolor\":\"white\",\"showbackground\":true,\"ticks\":\"\",\"zerolinecolor\":\"white\",\"gridwidth\":2},\"yaxis\":{\"backgroundcolor\":\"#E5ECF6\",\"gridcolor\":\"white\",\"linecolor\":\"white\",\"showbackground\":true,\"ticks\":\"\",\"zerolinecolor\":\"white\",\"gridwidth\":2},\"zaxis\":{\"backgroundcolor\":\"#E5ECF6\",\"gridcolor\":\"white\",\"linecolor\":\"white\",\"showbackground\":true,\"ticks\":\"\",\"zerolinecolor\":\"white\",\"gridwidth\":2}},\"shapedefaults\":{\"line\":{\"color\":\"#2a3f5f\"}},\"annotationdefaults\":{\"arrowcolor\":\"#2a3f5f\",\"arrowhead\":0,\"arrowwidth\":1},\"geo\":{\"bgcolor\":\"white\",\"landcolor\":\"#E5ECF6\",\"subunitcolor\":\"white\",\"showland\":true,\"showlakes\":true,\"lakecolor\":\"white\"},\"title\":{\"x\":0.05},\"mapbox\":{\"style\":\"light\"}}},\"xaxis\":{\"anchor\":\"y\",\"domain\":[0.0,1.0],\"title\":{\"text\":\"DiabetesPedigreeFunction\"}},\"yaxis\":{\"anchor\":\"x\",\"domain\":[0.0,0.8316],\"title\":{\"text\":\"count\"}},\"xaxis2\":{\"anchor\":\"y2\",\"domain\":[0.0,1.0],\"matches\":\"x\",\"showticklabels\":false,\"showgrid\":true},\"yaxis2\":{\"anchor\":\"x2\",\"domain\":[0.8416,1.0],\"matches\":\"y2\",\"showticklabels\":false,\"showline\":false,\"ticks\":\"\",\"showgrid\":false},\"legend\":{\"tracegroupgap\":0},\"title\":{\"text\":\"Distribution of Diabetes Pedigree Function\"},\"barmode\":\"relative\"},                        {\"responsive\": true}                    ).then(function(){\n",
              "                            \n",
              "var gd = document.getElementById('17a0eecd-ce0a-4e2d-b2c2-800c9bbc1210');\n",
              "var x = new MutationObserver(function (mutations, observer) {{\n",
              "        var display = window.getComputedStyle(gd).display;\n",
              "        if (!display || display === 'none') {{\n",
              "            console.log([gd, 'removed!']);\n",
              "            Plotly.purge(gd);\n",
              "            observer.disconnect();\n",
              "        }}\n",
              "}});\n",
              "\n",
              "// Listen for the removal of the full notebook cells\n",
              "var notebookContainer = gd.closest('#notebook-container');\n",
              "if (notebookContainer) {{\n",
              "    x.observe(notebookContainer, {childList: true});\n",
              "}}\n",
              "\n",
              "// Listen for the clearing of the current output cell\n",
              "var outputEl = gd.closest('.output');\n",
              "if (outputEl) {{\n",
              "    x.observe(outputEl, {childList: true});\n",
              "}}\n",
              "\n",
              "                        })                };                            </script>        </div>\n",
              "</body>\n",
              "</html>"
            ]
          },
          "metadata": {}
        }
      ]
    },
    {
      "cell_type": "code",
      "source": [
        "fig8 = px.histogram(df, x = 'Age', marginal = 'box',\n",
        "                    title = 'Distribution of Age',\n",
        "                   color_discrete_sequence=px.colors.qualitative.Antique)\n",
        "fig8.show()"
      ],
      "metadata": {
        "colab": {
          "base_uri": "https://localhost:8080/",
          "height": 542
        },
        "id": "6KBmPF3pNcy3",
        "outputId": "fb90398e-a8b2-4147-d272-a4cf343afa84"
      },
      "execution_count": 18,
      "outputs": [
        {
          "output_type": "display_data",
          "data": {
            "text/html": [
              "<html>\n",
              "<head><meta charset=\"utf-8\" /></head>\n",
              "<body>\n",
              "    <div>            <script src=\"https://cdnjs.cloudflare.com/ajax/libs/mathjax/2.7.5/MathJax.js?config=TeX-AMS-MML_SVG\"></script><script type=\"text/javascript\">if (window.MathJax && window.MathJax.Hub && window.MathJax.Hub.Config) {window.MathJax.Hub.Config({SVG: {font: \"STIX-Web\"}});}</script>                <script type=\"text/javascript\">window.PlotlyConfig = {MathJaxConfig: 'local'};</script>\n",
              "        <script charset=\"utf-8\" src=\"https://cdn.plot.ly/plotly-2.24.1.min.js\"></script>                <div id=\"4e33c303-794c-4cbe-b3e5-f2a86f7b16ab\" class=\"plotly-graph-div\" style=\"height:525px; width:100%;\"></div>            <script type=\"text/javascript\">                                    window.PLOTLYENV=window.PLOTLYENV || {};                                    if (document.getElementById(\"4e33c303-794c-4cbe-b3e5-f2a86f7b16ab\")) {                    Plotly.newPlot(                        \"4e33c303-794c-4cbe-b3e5-f2a86f7b16ab\",                        [{\"alignmentgroup\":\"True\",\"bingroup\":\"x\",\"hovertemplate\":\"Age=%{x}\\u003cbr\\u003ecount=%{y}\\u003cextra\\u003e\\u003c\\u002fextra\\u003e\",\"legendgroup\":\"\",\"marker\":{\"color\":\"rgb(133, 92, 117)\",\"pattern\":{\"shape\":\"\"}},\"name\":\"\",\"offsetgroup\":\"\",\"orientation\":\"v\",\"showlegend\":false,\"x\":[50,31,32,21,33,30,26,29,53,54,30,34,57,59,51,32,31,31,33,32,27,50,41,29,51,41,43,22,57,38,60,28,22,28,45,33,35,46,27,56,26,37,48,54,40,25,29,22,31,24,22,26,30,58,42,21,41,31,44,22,21,39,36,24,42,32,38,54,25,27,28,26,42,23,22,22,41,27,26,24,22,22,36,22,37,27,45,26,43,24,21,34,42,60,21,40,24,22,23,31,33,22,21,24,27,21,27,37,25,24,24,46,23,25,39,61,38,25,22,21,25,24,23,69,23,26,30,23,40,62,33,33,30,39,26,31,21,22,29,28,55,38,22,42,23,21,41,34,65,22,24,37,42,23,43,36,21,23,22,47,36,45,27,21,32,41,22,34,29,29,36,29,25,23,33,36,42,26,47,37,32,23,21,27,40,41,60,33,31,25,21,40,36,40,42,29,21,23,26,29,21,28,32,27,55,27,57,52,21,41,25,24,60,24,36,38,25,32,32,41,21,66,37,61,26,22,26,24,31,24,22,46,22,29,23,26,51,23,32,27,21,22,22,33,29,49,41,23,34,23,42,27,24,25,44,21,30,25,24,51,34,27,24,63,35,43,25,24,21,28,38,21,40,21,52,25,29,23,57,22,28,39,37,47,52,51,34,29,26,33,21,25,31,24,65,28,29,24,46,58,30,25,35,28,37,29,47,21,25,30,41,22,27,25,43,26,30,29,28,59,31,25,36,43,21,24,30,37,23,37,46,25,41,44,22,26,44,44,33,41,22,36,22,33,57,49,22,23,26,37,29,30,46,24,21,49,28,44,48,29,29,63,65,67,30,30,29,21,22,45,25,21,21,25,28,58,22,22,32,35,24,22,21,25,25,24,35,45,58,28,42,27,21,37,31,25,39,22,25,25,31,55,35,38,41,26,46,25,39,28,28,25,22,21,21,22,22,37,27,28,26,21,21,21,36,31,25,38,26,43,23,38,22,29,36,29,41,28,21,31,41,22,24,33,30,25,28,26,22,26,23,23,25,72,24,38,62,24,51,81,48,26,39,37,34,21,22,25,38,27,28,22,22,50,24,59,29,31,39,63,35,29,28,23,31,24,21,58,28,67,24,42,33,45,22,66,30,25,55,39,21,28,41,41,40,38,35,21,21,64,46,21,58,22,24,28,53,51,41,60,25,26,26,45,24,21,21,24,22,31,22,24,29,31,24,23,46,67,23,32,43,27,56,25,29,37,53,28,50,37,21,25,66,23,28,37,30,58,42,35,54,28,24,32,27,22,21,46,37,33,39,21,22,22,23,25,35,21,36,62,21,27,62,42,52,22,41,29,52,25,45,24,44,25,34,22,46,21,38,26,24,28,30,54,36,21,22,25,27,23,24,36,40,26,50,27,30,23,50,24,28,28,45,21,21,29,21,21,45,21,34,24,23,22,31,38,48,23,32,28,27,24,50,31,27,30,33,22,42,23,23,27,28,27,22,25,22,41,51,27,54,22,43,40,40,24,70,40,43,45,49,21,47,22,68,31,53,25,25,23,22,26,22,27,69,25,22,29,23,46,34,44,23,43,25,43,31,22,28,26,26,49,52,41,27,28,30,22,45,23,24,40,38,21,32,34,31,56,24,52,34,21,42,42,45,38,25,22,22,22,34,22,24,22,53,28,21,42,21,42,48,26,22,45,39,46,27,32,36,50,22,28,25,26,45,37,39,52,26,66,22,43,33,63,27,30,47,23],\"xaxis\":\"x\",\"yaxis\":\"y\",\"type\":\"histogram\"},{\"alignmentgroup\":\"True\",\"hovertemplate\":\"Age=%{x}\\u003cextra\\u003e\\u003c\\u002fextra\\u003e\",\"legendgroup\":\"\",\"marker\":{\"color\":\"rgb(133, 92, 117)\"},\"name\":\"\",\"notched\":true,\"offsetgroup\":\"\",\"showlegend\":false,\"x\":[50,31,32,21,33,30,26,29,53,54,30,34,57,59,51,32,31,31,33,32,27,50,41,29,51,41,43,22,57,38,60,28,22,28,45,33,35,46,27,56,26,37,48,54,40,25,29,22,31,24,22,26,30,58,42,21,41,31,44,22,21,39,36,24,42,32,38,54,25,27,28,26,42,23,22,22,41,27,26,24,22,22,36,22,37,27,45,26,43,24,21,34,42,60,21,40,24,22,23,31,33,22,21,24,27,21,27,37,25,24,24,46,23,25,39,61,38,25,22,21,25,24,23,69,23,26,30,23,40,62,33,33,30,39,26,31,21,22,29,28,55,38,22,42,23,21,41,34,65,22,24,37,42,23,43,36,21,23,22,47,36,45,27,21,32,41,22,34,29,29,36,29,25,23,33,36,42,26,47,37,32,23,21,27,40,41,60,33,31,25,21,40,36,40,42,29,21,23,26,29,21,28,32,27,55,27,57,52,21,41,25,24,60,24,36,38,25,32,32,41,21,66,37,61,26,22,26,24,31,24,22,46,22,29,23,26,51,23,32,27,21,22,22,33,29,49,41,23,34,23,42,27,24,25,44,21,30,25,24,51,34,27,24,63,35,43,25,24,21,28,38,21,40,21,52,25,29,23,57,22,28,39,37,47,52,51,34,29,26,33,21,25,31,24,65,28,29,24,46,58,30,25,35,28,37,29,47,21,25,30,41,22,27,25,43,26,30,29,28,59,31,25,36,43,21,24,30,37,23,37,46,25,41,44,22,26,44,44,33,41,22,36,22,33,57,49,22,23,26,37,29,30,46,24,21,49,28,44,48,29,29,63,65,67,30,30,29,21,22,45,25,21,21,25,28,58,22,22,32,35,24,22,21,25,25,24,35,45,58,28,42,27,21,37,31,25,39,22,25,25,31,55,35,38,41,26,46,25,39,28,28,25,22,21,21,22,22,37,27,28,26,21,21,21,36,31,25,38,26,43,23,38,22,29,36,29,41,28,21,31,41,22,24,33,30,25,28,26,22,26,23,23,25,72,24,38,62,24,51,81,48,26,39,37,34,21,22,25,38,27,28,22,22,50,24,59,29,31,39,63,35,29,28,23,31,24,21,58,28,67,24,42,33,45,22,66,30,25,55,39,21,28,41,41,40,38,35,21,21,64,46,21,58,22,24,28,53,51,41,60,25,26,26,45,24,21,21,24,22,31,22,24,29,31,24,23,46,67,23,32,43,27,56,25,29,37,53,28,50,37,21,25,66,23,28,37,30,58,42,35,54,28,24,32,27,22,21,46,37,33,39,21,22,22,23,25,35,21,36,62,21,27,62,42,52,22,41,29,52,25,45,24,44,25,34,22,46,21,38,26,24,28,30,54,36,21,22,25,27,23,24,36,40,26,50,27,30,23,50,24,28,28,45,21,21,29,21,21,45,21,34,24,23,22,31,38,48,23,32,28,27,24,50,31,27,30,33,22,42,23,23,27,28,27,22,25,22,41,51,27,54,22,43,40,40,24,70,40,43,45,49,21,47,22,68,31,53,25,25,23,22,26,22,27,69,25,22,29,23,46,34,44,23,43,25,43,31,22,28,26,26,49,52,41,27,28,30,22,45,23,24,40,38,21,32,34,31,56,24,52,34,21,42,42,45,38,25,22,22,22,34,22,24,22,53,28,21,42,21,42,48,26,22,45,39,46,27,32,36,50,22,28,25,26,45,37,39,52,26,66,22,43,33,63,27,30,47,23],\"xaxis\":\"x2\",\"yaxis\":\"y2\",\"type\":\"box\"}],                        {\"template\":{\"data\":{\"histogram2dcontour\":[{\"type\":\"histogram2dcontour\",\"colorbar\":{\"outlinewidth\":0,\"ticks\":\"\"},\"colorscale\":[[0.0,\"#0d0887\"],[0.1111111111111111,\"#46039f\"],[0.2222222222222222,\"#7201a8\"],[0.3333333333333333,\"#9c179e\"],[0.4444444444444444,\"#bd3786\"],[0.5555555555555556,\"#d8576b\"],[0.6666666666666666,\"#ed7953\"],[0.7777777777777778,\"#fb9f3a\"],[0.8888888888888888,\"#fdca26\"],[1.0,\"#f0f921\"]]}],\"choropleth\":[{\"type\":\"choropleth\",\"colorbar\":{\"outlinewidth\":0,\"ticks\":\"\"}}],\"histogram2d\":[{\"type\":\"histogram2d\",\"colorbar\":{\"outlinewidth\":0,\"ticks\":\"\"},\"colorscale\":[[0.0,\"#0d0887\"],[0.1111111111111111,\"#46039f\"],[0.2222222222222222,\"#7201a8\"],[0.3333333333333333,\"#9c179e\"],[0.4444444444444444,\"#bd3786\"],[0.5555555555555556,\"#d8576b\"],[0.6666666666666666,\"#ed7953\"],[0.7777777777777778,\"#fb9f3a\"],[0.8888888888888888,\"#fdca26\"],[1.0,\"#f0f921\"]]}],\"heatmap\":[{\"type\":\"heatmap\",\"colorbar\":{\"outlinewidth\":0,\"ticks\":\"\"},\"colorscale\":[[0.0,\"#0d0887\"],[0.1111111111111111,\"#46039f\"],[0.2222222222222222,\"#7201a8\"],[0.3333333333333333,\"#9c179e\"],[0.4444444444444444,\"#bd3786\"],[0.5555555555555556,\"#d8576b\"],[0.6666666666666666,\"#ed7953\"],[0.7777777777777778,\"#fb9f3a\"],[0.8888888888888888,\"#fdca26\"],[1.0,\"#f0f921\"]]}],\"heatmapgl\":[{\"type\":\"heatmapgl\",\"colorbar\":{\"outlinewidth\":0,\"ticks\":\"\"},\"colorscale\":[[0.0,\"#0d0887\"],[0.1111111111111111,\"#46039f\"],[0.2222222222222222,\"#7201a8\"],[0.3333333333333333,\"#9c179e\"],[0.4444444444444444,\"#bd3786\"],[0.5555555555555556,\"#d8576b\"],[0.6666666666666666,\"#ed7953\"],[0.7777777777777778,\"#fb9f3a\"],[0.8888888888888888,\"#fdca26\"],[1.0,\"#f0f921\"]]}],\"contourcarpet\":[{\"type\":\"contourcarpet\",\"colorbar\":{\"outlinewidth\":0,\"ticks\":\"\"}}],\"contour\":[{\"type\":\"contour\",\"colorbar\":{\"outlinewidth\":0,\"ticks\":\"\"},\"colorscale\":[[0.0,\"#0d0887\"],[0.1111111111111111,\"#46039f\"],[0.2222222222222222,\"#7201a8\"],[0.3333333333333333,\"#9c179e\"],[0.4444444444444444,\"#bd3786\"],[0.5555555555555556,\"#d8576b\"],[0.6666666666666666,\"#ed7953\"],[0.7777777777777778,\"#fb9f3a\"],[0.8888888888888888,\"#fdca26\"],[1.0,\"#f0f921\"]]}],\"surface\":[{\"type\":\"surface\",\"colorbar\":{\"outlinewidth\":0,\"ticks\":\"\"},\"colorscale\":[[0.0,\"#0d0887\"],[0.1111111111111111,\"#46039f\"],[0.2222222222222222,\"#7201a8\"],[0.3333333333333333,\"#9c179e\"],[0.4444444444444444,\"#bd3786\"],[0.5555555555555556,\"#d8576b\"],[0.6666666666666666,\"#ed7953\"],[0.7777777777777778,\"#fb9f3a\"],[0.8888888888888888,\"#fdca26\"],[1.0,\"#f0f921\"]]}],\"mesh3d\":[{\"type\":\"mesh3d\",\"colorbar\":{\"outlinewidth\":0,\"ticks\":\"\"}}],\"scatter\":[{\"fillpattern\":{\"fillmode\":\"overlay\",\"size\":10,\"solidity\":0.2},\"type\":\"scatter\"}],\"parcoords\":[{\"type\":\"parcoords\",\"line\":{\"colorbar\":{\"outlinewidth\":0,\"ticks\":\"\"}}}],\"scatterpolargl\":[{\"type\":\"scatterpolargl\",\"marker\":{\"colorbar\":{\"outlinewidth\":0,\"ticks\":\"\"}}}],\"bar\":[{\"error_x\":{\"color\":\"#2a3f5f\"},\"error_y\":{\"color\":\"#2a3f5f\"},\"marker\":{\"line\":{\"color\":\"#E5ECF6\",\"width\":0.5},\"pattern\":{\"fillmode\":\"overlay\",\"size\":10,\"solidity\":0.2}},\"type\":\"bar\"}],\"scattergeo\":[{\"type\":\"scattergeo\",\"marker\":{\"colorbar\":{\"outlinewidth\":0,\"ticks\":\"\"}}}],\"scatterpolar\":[{\"type\":\"scatterpolar\",\"marker\":{\"colorbar\":{\"outlinewidth\":0,\"ticks\":\"\"}}}],\"histogram\":[{\"marker\":{\"pattern\":{\"fillmode\":\"overlay\",\"size\":10,\"solidity\":0.2}},\"type\":\"histogram\"}],\"scattergl\":[{\"type\":\"scattergl\",\"marker\":{\"colorbar\":{\"outlinewidth\":0,\"ticks\":\"\"}}}],\"scatter3d\":[{\"type\":\"scatter3d\",\"line\":{\"colorbar\":{\"outlinewidth\":0,\"ticks\":\"\"}},\"marker\":{\"colorbar\":{\"outlinewidth\":0,\"ticks\":\"\"}}}],\"scattermapbox\":[{\"type\":\"scattermapbox\",\"marker\":{\"colorbar\":{\"outlinewidth\":0,\"ticks\":\"\"}}}],\"scatterternary\":[{\"type\":\"scatterternary\",\"marker\":{\"colorbar\":{\"outlinewidth\":0,\"ticks\":\"\"}}}],\"scattercarpet\":[{\"type\":\"scattercarpet\",\"marker\":{\"colorbar\":{\"outlinewidth\":0,\"ticks\":\"\"}}}],\"carpet\":[{\"aaxis\":{\"endlinecolor\":\"#2a3f5f\",\"gridcolor\":\"white\",\"linecolor\":\"white\",\"minorgridcolor\":\"white\",\"startlinecolor\":\"#2a3f5f\"},\"baxis\":{\"endlinecolor\":\"#2a3f5f\",\"gridcolor\":\"white\",\"linecolor\":\"white\",\"minorgridcolor\":\"white\",\"startlinecolor\":\"#2a3f5f\"},\"type\":\"carpet\"}],\"table\":[{\"cells\":{\"fill\":{\"color\":\"#EBF0F8\"},\"line\":{\"color\":\"white\"}},\"header\":{\"fill\":{\"color\":\"#C8D4E3\"},\"line\":{\"color\":\"white\"}},\"type\":\"table\"}],\"barpolar\":[{\"marker\":{\"line\":{\"color\":\"#E5ECF6\",\"width\":0.5},\"pattern\":{\"fillmode\":\"overlay\",\"size\":10,\"solidity\":0.2}},\"type\":\"barpolar\"}],\"pie\":[{\"automargin\":true,\"type\":\"pie\"}]},\"layout\":{\"autotypenumbers\":\"strict\",\"colorway\":[\"#636efa\",\"#EF553B\",\"#00cc96\",\"#ab63fa\",\"#FFA15A\",\"#19d3f3\",\"#FF6692\",\"#B6E880\",\"#FF97FF\",\"#FECB52\"],\"font\":{\"color\":\"#2a3f5f\"},\"hovermode\":\"closest\",\"hoverlabel\":{\"align\":\"left\"},\"paper_bgcolor\":\"white\",\"plot_bgcolor\":\"#E5ECF6\",\"polar\":{\"bgcolor\":\"#E5ECF6\",\"angularaxis\":{\"gridcolor\":\"white\",\"linecolor\":\"white\",\"ticks\":\"\"},\"radialaxis\":{\"gridcolor\":\"white\",\"linecolor\":\"white\",\"ticks\":\"\"}},\"ternary\":{\"bgcolor\":\"#E5ECF6\",\"aaxis\":{\"gridcolor\":\"white\",\"linecolor\":\"white\",\"ticks\":\"\"},\"baxis\":{\"gridcolor\":\"white\",\"linecolor\":\"white\",\"ticks\":\"\"},\"caxis\":{\"gridcolor\":\"white\",\"linecolor\":\"white\",\"ticks\":\"\"}},\"coloraxis\":{\"colorbar\":{\"outlinewidth\":0,\"ticks\":\"\"}},\"colorscale\":{\"sequential\":[[0.0,\"#0d0887\"],[0.1111111111111111,\"#46039f\"],[0.2222222222222222,\"#7201a8\"],[0.3333333333333333,\"#9c179e\"],[0.4444444444444444,\"#bd3786\"],[0.5555555555555556,\"#d8576b\"],[0.6666666666666666,\"#ed7953\"],[0.7777777777777778,\"#fb9f3a\"],[0.8888888888888888,\"#fdca26\"],[1.0,\"#f0f921\"]],\"sequentialminus\":[[0.0,\"#0d0887\"],[0.1111111111111111,\"#46039f\"],[0.2222222222222222,\"#7201a8\"],[0.3333333333333333,\"#9c179e\"],[0.4444444444444444,\"#bd3786\"],[0.5555555555555556,\"#d8576b\"],[0.6666666666666666,\"#ed7953\"],[0.7777777777777778,\"#fb9f3a\"],[0.8888888888888888,\"#fdca26\"],[1.0,\"#f0f921\"]],\"diverging\":[[0,\"#8e0152\"],[0.1,\"#c51b7d\"],[0.2,\"#de77ae\"],[0.3,\"#f1b6da\"],[0.4,\"#fde0ef\"],[0.5,\"#f7f7f7\"],[0.6,\"#e6f5d0\"],[0.7,\"#b8e186\"],[0.8,\"#7fbc41\"],[0.9,\"#4d9221\"],[1,\"#276419\"]]},\"xaxis\":{\"gridcolor\":\"white\",\"linecolor\":\"white\",\"ticks\":\"\",\"title\":{\"standoff\":15},\"zerolinecolor\":\"white\",\"automargin\":true,\"zerolinewidth\":2},\"yaxis\":{\"gridcolor\":\"white\",\"linecolor\":\"white\",\"ticks\":\"\",\"title\":{\"standoff\":15},\"zerolinecolor\":\"white\",\"automargin\":true,\"zerolinewidth\":2},\"scene\":{\"xaxis\":{\"backgroundcolor\":\"#E5ECF6\",\"gridcolor\":\"white\",\"linecolor\":\"white\",\"showbackground\":true,\"ticks\":\"\",\"zerolinecolor\":\"white\",\"gridwidth\":2},\"yaxis\":{\"backgroundcolor\":\"#E5ECF6\",\"gridcolor\":\"white\",\"linecolor\":\"white\",\"showbackground\":true,\"ticks\":\"\",\"zerolinecolor\":\"white\",\"gridwidth\":2},\"zaxis\":{\"backgroundcolor\":\"#E5ECF6\",\"gridcolor\":\"white\",\"linecolor\":\"white\",\"showbackground\":true,\"ticks\":\"\",\"zerolinecolor\":\"white\",\"gridwidth\":2}},\"shapedefaults\":{\"line\":{\"color\":\"#2a3f5f\"}},\"annotationdefaults\":{\"arrowcolor\":\"#2a3f5f\",\"arrowhead\":0,\"arrowwidth\":1},\"geo\":{\"bgcolor\":\"white\",\"landcolor\":\"#E5ECF6\",\"subunitcolor\":\"white\",\"showland\":true,\"showlakes\":true,\"lakecolor\":\"white\"},\"title\":{\"x\":0.05},\"mapbox\":{\"style\":\"light\"}}},\"xaxis\":{\"anchor\":\"y\",\"domain\":[0.0,1.0],\"title\":{\"text\":\"Age\"}},\"yaxis\":{\"anchor\":\"x\",\"domain\":[0.0,0.8316],\"title\":{\"text\":\"count\"}},\"xaxis2\":{\"anchor\":\"y2\",\"domain\":[0.0,1.0],\"matches\":\"x\",\"showticklabels\":false,\"showgrid\":true},\"yaxis2\":{\"anchor\":\"x2\",\"domain\":[0.8416,1.0],\"matches\":\"y2\",\"showticklabels\":false,\"showline\":false,\"ticks\":\"\",\"showgrid\":false},\"legend\":{\"tracegroupgap\":0},\"title\":{\"text\":\"Distribution of Age\"},\"barmode\":\"relative\"},                        {\"responsive\": true}                    ).then(function(){\n",
              "                            \n",
              "var gd = document.getElementById('4e33c303-794c-4cbe-b3e5-f2a86f7b16ab');\n",
              "var x = new MutationObserver(function (mutations, observer) {{\n",
              "        var display = window.getComputedStyle(gd).display;\n",
              "        if (!display || display === 'none') {{\n",
              "            console.log([gd, 'removed!']);\n",
              "            Plotly.purge(gd);\n",
              "            observer.disconnect();\n",
              "        }}\n",
              "}});\n",
              "\n",
              "// Listen for the removal of the full notebook cells\n",
              "var notebookContainer = gd.closest('#notebook-container');\n",
              "if (notebookContainer) {{\n",
              "    x.observe(notebookContainer, {childList: true});\n",
              "}}\n",
              "\n",
              "// Listen for the clearing of the current output cell\n",
              "var outputEl = gd.closest('.output');\n",
              "if (outputEl) {{\n",
              "    x.observe(outputEl, {childList: true});\n",
              "}}\n",
              "\n",
              "                        })                };                            </script>        </div>\n",
              "</body>\n",
              "</html>"
            ]
          },
          "metadata": {}
        }
      ]
    },
    {
      "cell_type": "markdown",
      "source": [
        "# **Box Plot And Outliers**"
      ],
      "metadata": {
        "id": "5x6iBS5AV9jr"
      }
    },
    {
      "cell_type": "code",
      "source": [
        "df.head()"
      ],
      "metadata": {
        "colab": {
          "base_uri": "https://localhost:8080/",
          "height": 206
        },
        "id": "Z_E-xcv0NglR",
        "outputId": "ba525091-7362-43e6-eb7a-6b4a042c8b04"
      },
      "execution_count": 19,
      "outputs": [
        {
          "output_type": "execute_result",
          "data": {
            "text/plain": [
              "   Pregnancies  Glucose  BloodPressure  SkinThickness  Insulin   BMI  \\\n",
              "0            6      148             72             35        0  33.6   \n",
              "1            1       85             66             29        0  26.6   \n",
              "2            8      183             64              0        0  23.3   \n",
              "3            1       89             66             23       94  28.1   \n",
              "4            0      137             40             35      168  43.1   \n",
              "\n",
              "   DiabetesPedigreeFunction  Age  Defaulter  \n",
              "0                     0.627   50          1  \n",
              "1                     0.351   31          0  \n",
              "2                     0.672   32          1  \n",
              "3                     0.167   21          0  \n",
              "4                     2.288   33          1  "
            ],
            "text/html": [
              "\n",
              "  <div id=\"df-4dd32048-4ed3-4c46-87d3-d2636df0bc32\" class=\"colab-df-container\">\n",
              "    <div>\n",
              "<style scoped>\n",
              "    .dataframe tbody tr th:only-of-type {\n",
              "        vertical-align: middle;\n",
              "    }\n",
              "\n",
              "    .dataframe tbody tr th {\n",
              "        vertical-align: top;\n",
              "    }\n",
              "\n",
              "    .dataframe thead th {\n",
              "        text-align: right;\n",
              "    }\n",
              "</style>\n",
              "<table border=\"1\" class=\"dataframe\">\n",
              "  <thead>\n",
              "    <tr style=\"text-align: right;\">\n",
              "      <th></th>\n",
              "      <th>Pregnancies</th>\n",
              "      <th>Glucose</th>\n",
              "      <th>BloodPressure</th>\n",
              "      <th>SkinThickness</th>\n",
              "      <th>Insulin</th>\n",
              "      <th>BMI</th>\n",
              "      <th>DiabetesPedigreeFunction</th>\n",
              "      <th>Age</th>\n",
              "      <th>Defaulter</th>\n",
              "    </tr>\n",
              "  </thead>\n",
              "  <tbody>\n",
              "    <tr>\n",
              "      <th>0</th>\n",
              "      <td>6</td>\n",
              "      <td>148</td>\n",
              "      <td>72</td>\n",
              "      <td>35</td>\n",
              "      <td>0</td>\n",
              "      <td>33.6</td>\n",
              "      <td>0.627</td>\n",
              "      <td>50</td>\n",
              "      <td>1</td>\n",
              "    </tr>\n",
              "    <tr>\n",
              "      <th>1</th>\n",
              "      <td>1</td>\n",
              "      <td>85</td>\n",
              "      <td>66</td>\n",
              "      <td>29</td>\n",
              "      <td>0</td>\n",
              "      <td>26.6</td>\n",
              "      <td>0.351</td>\n",
              "      <td>31</td>\n",
              "      <td>0</td>\n",
              "    </tr>\n",
              "    <tr>\n",
              "      <th>2</th>\n",
              "      <td>8</td>\n",
              "      <td>183</td>\n",
              "      <td>64</td>\n",
              "      <td>0</td>\n",
              "      <td>0</td>\n",
              "      <td>23.3</td>\n",
              "      <td>0.672</td>\n",
              "      <td>32</td>\n",
              "      <td>1</td>\n",
              "    </tr>\n",
              "    <tr>\n",
              "      <th>3</th>\n",
              "      <td>1</td>\n",
              "      <td>89</td>\n",
              "      <td>66</td>\n",
              "      <td>23</td>\n",
              "      <td>94</td>\n",
              "      <td>28.1</td>\n",
              "      <td>0.167</td>\n",
              "      <td>21</td>\n",
              "      <td>0</td>\n",
              "    </tr>\n",
              "    <tr>\n",
              "      <th>4</th>\n",
              "      <td>0</td>\n",
              "      <td>137</td>\n",
              "      <td>40</td>\n",
              "      <td>35</td>\n",
              "      <td>168</td>\n",
              "      <td>43.1</td>\n",
              "      <td>2.288</td>\n",
              "      <td>33</td>\n",
              "      <td>1</td>\n",
              "    </tr>\n",
              "  </tbody>\n",
              "</table>\n",
              "</div>\n",
              "    <div class=\"colab-df-buttons\">\n",
              "\n",
              "  <div class=\"colab-df-container\">\n",
              "    <button class=\"colab-df-convert\" onclick=\"convertToInteractive('df-4dd32048-4ed3-4c46-87d3-d2636df0bc32')\"\n",
              "            title=\"Convert this dataframe to an interactive table.\"\n",
              "            style=\"display:none;\">\n",
              "\n",
              "  <svg xmlns=\"http://www.w3.org/2000/svg\" height=\"24px\" viewBox=\"0 -960 960 960\">\n",
              "    <path d=\"M120-120v-720h720v720H120Zm60-500h600v-160H180v160Zm220 220h160v-160H400v160Zm0 220h160v-160H400v160ZM180-400h160v-160H180v160Zm440 0h160v-160H620v160ZM180-180h160v-160H180v160Zm440 0h160v-160H620v160Z\"/>\n",
              "  </svg>\n",
              "    </button>\n",
              "\n",
              "  <style>\n",
              "    .colab-df-container {\n",
              "      display:flex;\n",
              "      gap: 12px;\n",
              "    }\n",
              "\n",
              "    .colab-df-convert {\n",
              "      background-color: #E8F0FE;\n",
              "      border: none;\n",
              "      border-radius: 50%;\n",
              "      cursor: pointer;\n",
              "      display: none;\n",
              "      fill: #1967D2;\n",
              "      height: 32px;\n",
              "      padding: 0 0 0 0;\n",
              "      width: 32px;\n",
              "    }\n",
              "\n",
              "    .colab-df-convert:hover {\n",
              "      background-color: #E2EBFA;\n",
              "      box-shadow: 0px 1px 2px rgba(60, 64, 67, 0.3), 0px 1px 3px 1px rgba(60, 64, 67, 0.15);\n",
              "      fill: #174EA6;\n",
              "    }\n",
              "\n",
              "    .colab-df-buttons div {\n",
              "      margin-bottom: 4px;\n",
              "    }\n",
              "\n",
              "    [theme=dark] .colab-df-convert {\n",
              "      background-color: #3B4455;\n",
              "      fill: #D2E3FC;\n",
              "    }\n",
              "\n",
              "    [theme=dark] .colab-df-convert:hover {\n",
              "      background-color: #434B5C;\n",
              "      box-shadow: 0px 1px 3px 1px rgba(0, 0, 0, 0.15);\n",
              "      filter: drop-shadow(0px 1px 2px rgba(0, 0, 0, 0.3));\n",
              "      fill: #FFFFFF;\n",
              "    }\n",
              "  </style>\n",
              "\n",
              "    <script>\n",
              "      const buttonEl =\n",
              "        document.querySelector('#df-4dd32048-4ed3-4c46-87d3-d2636df0bc32 button.colab-df-convert');\n",
              "      buttonEl.style.display =\n",
              "        google.colab.kernel.accessAllowed ? 'block' : 'none';\n",
              "\n",
              "      async function convertToInteractive(key) {\n",
              "        const element = document.querySelector('#df-4dd32048-4ed3-4c46-87d3-d2636df0bc32');\n",
              "        const dataTable =\n",
              "          await google.colab.kernel.invokeFunction('convertToInteractive',\n",
              "                                                    [key], {});\n",
              "        if (!dataTable) return;\n",
              "\n",
              "        const docLinkHtml = 'Like what you see? Visit the ' +\n",
              "          '<a target=\"_blank\" href=https://colab.research.google.com/notebooks/data_table.ipynb>data table notebook</a>'\n",
              "          + ' to learn more about interactive tables.';\n",
              "        element.innerHTML = '';\n",
              "        dataTable['output_type'] = 'display_data';\n",
              "        await google.colab.output.renderOutput(dataTable, element);\n",
              "        const docLink = document.createElement('div');\n",
              "        docLink.innerHTML = docLinkHtml;\n",
              "        element.appendChild(docLink);\n",
              "      }\n",
              "    </script>\n",
              "  </div>\n",
              "\n",
              "\n",
              "<div id=\"df-14348080-5bd2-4c0a-892a-1abea7debd4f\">\n",
              "  <button class=\"colab-df-quickchart\" onclick=\"quickchart('df-14348080-5bd2-4c0a-892a-1abea7debd4f')\"\n",
              "            title=\"Suggest charts\"\n",
              "            style=\"display:none;\">\n",
              "\n",
              "<svg xmlns=\"http://www.w3.org/2000/svg\" height=\"24px\"viewBox=\"0 0 24 24\"\n",
              "     width=\"24px\">\n",
              "    <g>\n",
              "        <path d=\"M19 3H5c-1.1 0-2 .9-2 2v14c0 1.1.9 2 2 2h14c1.1 0 2-.9 2-2V5c0-1.1-.9-2-2-2zM9 17H7v-7h2v7zm4 0h-2V7h2v10zm4 0h-2v-4h2v4z\"/>\n",
              "    </g>\n",
              "</svg>\n",
              "  </button>\n",
              "\n",
              "<style>\n",
              "  .colab-df-quickchart {\n",
              "      --bg-color: #E8F0FE;\n",
              "      --fill-color: #1967D2;\n",
              "      --hover-bg-color: #E2EBFA;\n",
              "      --hover-fill-color: #174EA6;\n",
              "      --disabled-fill-color: #AAA;\n",
              "      --disabled-bg-color: #DDD;\n",
              "  }\n",
              "\n",
              "  [theme=dark] .colab-df-quickchart {\n",
              "      --bg-color: #3B4455;\n",
              "      --fill-color: #D2E3FC;\n",
              "      --hover-bg-color: #434B5C;\n",
              "      --hover-fill-color: #FFFFFF;\n",
              "      --disabled-bg-color: #3B4455;\n",
              "      --disabled-fill-color: #666;\n",
              "  }\n",
              "\n",
              "  .colab-df-quickchart {\n",
              "    background-color: var(--bg-color);\n",
              "    border: none;\n",
              "    border-radius: 50%;\n",
              "    cursor: pointer;\n",
              "    display: none;\n",
              "    fill: var(--fill-color);\n",
              "    height: 32px;\n",
              "    padding: 0;\n",
              "    width: 32px;\n",
              "  }\n",
              "\n",
              "  .colab-df-quickchart:hover {\n",
              "    background-color: var(--hover-bg-color);\n",
              "    box-shadow: 0 1px 2px rgba(60, 64, 67, 0.3), 0 1px 3px 1px rgba(60, 64, 67, 0.15);\n",
              "    fill: var(--button-hover-fill-color);\n",
              "  }\n",
              "\n",
              "  .colab-df-quickchart-complete:disabled,\n",
              "  .colab-df-quickchart-complete:disabled:hover {\n",
              "    background-color: var(--disabled-bg-color);\n",
              "    fill: var(--disabled-fill-color);\n",
              "    box-shadow: none;\n",
              "  }\n",
              "\n",
              "  .colab-df-spinner {\n",
              "    border: 2px solid var(--fill-color);\n",
              "    border-color: transparent;\n",
              "    border-bottom-color: var(--fill-color);\n",
              "    animation:\n",
              "      spin 1s steps(1) infinite;\n",
              "  }\n",
              "\n",
              "  @keyframes spin {\n",
              "    0% {\n",
              "      border-color: transparent;\n",
              "      border-bottom-color: var(--fill-color);\n",
              "      border-left-color: var(--fill-color);\n",
              "    }\n",
              "    20% {\n",
              "      border-color: transparent;\n",
              "      border-left-color: var(--fill-color);\n",
              "      border-top-color: var(--fill-color);\n",
              "    }\n",
              "    30% {\n",
              "      border-color: transparent;\n",
              "      border-left-color: var(--fill-color);\n",
              "      border-top-color: var(--fill-color);\n",
              "      border-right-color: var(--fill-color);\n",
              "    }\n",
              "    40% {\n",
              "      border-color: transparent;\n",
              "      border-right-color: var(--fill-color);\n",
              "      border-top-color: var(--fill-color);\n",
              "    }\n",
              "    60% {\n",
              "      border-color: transparent;\n",
              "      border-right-color: var(--fill-color);\n",
              "    }\n",
              "    80% {\n",
              "      border-color: transparent;\n",
              "      border-right-color: var(--fill-color);\n",
              "      border-bottom-color: var(--fill-color);\n",
              "    }\n",
              "    90% {\n",
              "      border-color: transparent;\n",
              "      border-bottom-color: var(--fill-color);\n",
              "    }\n",
              "  }\n",
              "</style>\n",
              "\n",
              "  <script>\n",
              "    async function quickchart(key) {\n",
              "      const quickchartButtonEl =\n",
              "        document.querySelector('#' + key + ' button');\n",
              "      quickchartButtonEl.disabled = true;  // To prevent multiple clicks.\n",
              "      quickchartButtonEl.classList.add('colab-df-spinner');\n",
              "      try {\n",
              "        const charts = await google.colab.kernel.invokeFunction(\n",
              "            'suggestCharts', [key], {});\n",
              "      } catch (error) {\n",
              "        console.error('Error during call to suggestCharts:', error);\n",
              "      }\n",
              "      quickchartButtonEl.classList.remove('colab-df-spinner');\n",
              "      quickchartButtonEl.classList.add('colab-df-quickchart-complete');\n",
              "    }\n",
              "    (() => {\n",
              "      let quickchartButtonEl =\n",
              "        document.querySelector('#df-14348080-5bd2-4c0a-892a-1abea7debd4f button');\n",
              "      quickchartButtonEl.style.display =\n",
              "        google.colab.kernel.accessAllowed ? 'block' : 'none';\n",
              "    })();\n",
              "  </script>\n",
              "</div>\n",
              "\n",
              "    </div>\n",
              "  </div>\n"
            ]
          },
          "metadata": {},
          "execution_count": 19
        }
      ]
    },
    {
      "cell_type": "code",
      "source": [
        "plt.figure(figsize=(10,7))\n",
        "sns.boxplot(data=df[['Pregnancies','Glucose', 'BloodPressure','SkinThickness', 'Insulin', 'BMI', 'DiabetesPedigreeFunction', 'Age']])\n",
        "plt.show()"
      ],
      "metadata": {
        "colab": {
          "base_uri": "https://localhost:8080/",
          "height": 599
        },
        "id": "DtStQByaQ28v",
        "outputId": "ef12e624-9563-46a0-ac19-a499c1bc2e61"
      },
      "execution_count": 20,
      "outputs": [
        {
          "output_type": "display_data",
          "data": {
            "text/plain": [
              "<Figure size 1000x700 with 1 Axes>"
            ],
            "image/png": "[encoded data removed]"
          },
          "metadata": {}
        }
      ]
    },
    {
      "cell_type": "code",
      "source": [
        "num_var = df.select_dtypes(exclude='object')\n",
        "for i in num_var:\n",
        "\n",
        "    q1 = df[i].quantile(0.25)\n",
        "    q3 = df[i].quantile(0.75)\n",
        "\n",
        "    IQR = q3 - q1\n",
        "    UL = q3 + 1.5*IQR\n",
        "    LL = q1 - 1.5*IQR\n",
        "\n",
        "    print('IQR of',i,'= ',IQR)\n",
        "    print('UL of',i,'= ',UL)\n",
        "    print('LL of',i,'= ',LL)\n",
        "    print('Number of Outliers in',i,' = ',(df.shape[0] - df[(df[i]<UL) & (df[i]>LL)].shape[0]))\n",
        "    print(' ')"
      ],
      "metadata": {
        "colab": {
          "base_uri": "https://localhost:8080/"
        },
        "id": "IZcyLRg9RUxi",
        "outputId": "7ceedc14-01d1-4170-de10-3e134e9cb2a5"
      },
      "execution_count": 21,
      "outputs": [
        {
          "output_type": "stream",
          "name": "stdout",
          "text": [
            "IQR of Pregnancies =  5.0\n",
            "UL of Pregnancies =  13.5\n",
            "LL of Pregnancies =  -6.5\n",
            "Number of Outliers in Pregnancies  =  4\n",
            " \n",
            "IQR of Glucose =  41.25\n",
            "UL of Glucose =  202.125\n",
            "LL of Glucose =  37.125\n",
            "Number of Outliers in Glucose  =  5\n",
            " \n",
            "IQR of BloodPressure =  18.0\n",
            "UL of BloodPressure =  107.0\n",
            "LL of BloodPressure =  35.0\n",
            "Number of Outliers in BloodPressure  =  45\n",
            " \n",
            "IQR of SkinThickness =  32.0\n",
            "UL of SkinThickness =  80.0\n",
            "LL of SkinThickness =  -48.0\n",
            "Number of Outliers in SkinThickness  =  1\n",
            " \n",
            "IQR of Insulin =  127.25\n",
            "UL of Insulin =  318.125\n",
            "LL of Insulin =  -190.875\n",
            "Number of Outliers in Insulin  =  34\n",
            " \n",
            "IQR of BMI =  9.3\n",
            "UL of BMI =  50.550000000000004\n",
            "LL of BMI =  13.35\n",
            "Number of Outliers in BMI  =  19\n",
            " \n",
            "IQR of DiabetesPedigreeFunction =  0.38249999999999995\n",
            "UL of DiabetesPedigreeFunction =  1.2\n",
            "LL of DiabetesPedigreeFunction =  -0.32999999999999996\n",
            "Number of Outliers in DiabetesPedigreeFunction  =  29\n",
            " \n",
            "IQR of Age =  17.0\n",
            "UL of Age =  66.5\n",
            "LL of Age =  -1.5\n",
            "Number of Outliers in Age  =  9\n",
            " \n",
            "IQR of Defaulter =  1.0\n",
            "UL of Defaulter =  2.5\n",
            "LL of Defaulter =  -1.5\n",
            "Number of Outliers in Defaulter  =  0\n",
            " \n"
          ]
        }
      ]
    },
    {
      "cell_type": "markdown",
      "source": [
        "# **Distribution Plot**"
      ],
      "metadata": {
        "id": "X6H6rGgPVxGg"
      }
    },
    {
      "cell_type": "code",
      "source": [
        "mi0 = df[df['Defaulter']==0]\n",
        "mi1 = df[df['Defaulter']==1]"
      ],
      "metadata": {
        "id": "E2xBZxZWSOVa"
      },
      "execution_count": 22,
      "outputs": []
    },
    {
      "cell_type": "code",
      "source": [
        "con_col=[ ]"
      ],
      "metadata": {
        "id": "OQ-5gDebSjOL"
      },
      "execution_count": 23,
      "outputs": []
    },
    {
      "cell_type": "code",
      "source": [
        "for i in con_col:\n",
        "    plt.figure(figsize=(20,5))\n",
        "    sns.distplot(mi0[i],color='g')\n",
        "    sns.distplot(mi1[i],color='r')\n",
        "    plt.show()"
      ],
      "metadata": {
        "id": "3C4FYKNDS5Oz"
      },
      "execution_count": 24,
      "outputs": []
    },
    {
      "cell_type": "markdown",
      "source": [
        "# **Correlation**"
      ],
      "metadata": {
        "id": "taYvVvV7VUzZ"
      }
    },
    {
      "cell_type": "code",
      "source": [
        "plt.figure(figsize=(8,6))\n",
        "sns.heatmap(df.corr(),annot=True)\n",
        "plt.show()"
      ],
      "metadata": {
        "colab": {
          "base_uri": "https://localhost:8080/",
          "height": 695
        },
        "id": "gISrw6TQS_I2",
        "outputId": "e89214a1-87d7-4d8e-9c99-47afc91a57c6"
      },
      "execution_count": 25,
      "outputs": [
        {
          "output_type": "display_data",
          "data": {
            "text/plain": [
              "<Figure size 800x600 with 2 Axes>"
            ],
            "image/png": "[encoded data removed]"
          },
          "metadata": {}
        }
      ]
    },
    {
      "cell_type": "markdown",
      "source": [
        "# **Logistic Regression**"
      ],
      "metadata": {
        "id": "yuK3AYvGVkeD"
      }
    },
    {
      "cell_type": "code",
      "source": [
        "x = df.drop('Defaulter',axis=1)\n",
        "y = df['Defaulter']"
      ],
      "metadata": {
        "id": "tkRBqdiZTPAN"
      },
      "execution_count": 26,
      "outputs": []
    },
    {
      "cell_type": "code",
      "source": [
        "x_train, x_test, y_train, y_test = train_test_split(x, y, test_size=0.3, random_state=1)"
      ],
      "metadata": {
        "id": "74mYTMsFTnCw"
      },
      "execution_count": 27,
      "outputs": []
    },
    {
      "cell_type": "code",
      "source": [
        "print('Before OverSampling, the shape of train_X: {}'.format(x_train.shape))\n",
        "print('Before OverSampling, the shape of train_y: {} \\n'.format(y_train.shape))"
      ],
      "metadata": {
        "colab": {
          "base_uri": "https://localhost:8080/"
        },
        "id": "a1ONfRpwTq3Z",
        "outputId": "9b53c54d-520f-4d6f-a133-54fec43e1b0a"
      },
      "execution_count": 28,
      "outputs": [
        {
          "output_type": "stream",
          "name": "stdout",
          "text": [
            "Before OverSampling, the shape of train_X: (537, 8)\n",
            "Before OverSampling, the shape of train_y: (537,) \n",
            "\n"
          ]
        }
      ]
    },
    {
      "cell_type": "markdown",
      "source": [
        "**Using** **Smote**"
      ],
      "metadata": {
        "id": "WixaFDR-VnEc"
      }
    },
    {
      "cell_type": "code",
      "source": [
        "smote = SMOTE(sampling_strategy='minority')\n",
        "x_train_sm, y_train_sm = smote.fit_resample(x_train, y_train)"
      ],
      "metadata": {
        "id": "EWwa1eS8T3lx"
      },
      "execution_count": 29,
      "outputs": []
    },
    {
      "cell_type": "code",
      "source": [
        "print('After OverSampling, the shape of train_X: {}'.format(x_train_sm.shape))\n",
        "print('After OverSampling, the shape of train_y: {} \\n'.format(y_train_sm.shape))"
      ],
      "metadata": {
        "colab": {
          "base_uri": "https://localhost:8080/"
        },
        "id": "VXT8ZDbwT9Ke",
        "outputId": "71a2a43a-b67c-4c0e-a033-a056e36304e4"
      },
      "execution_count": 30,
      "outputs": [
        {
          "output_type": "stream",
          "name": "stdout",
          "text": [
            "After OverSampling, the shape of train_X: (708, 8)\n",
            "After OverSampling, the shape of train_y: (708,) \n",
            "\n"
          ]
        }
      ]
    },
    {
      "cell_type": "code",
      "source": [
        "from sklearn.linear_model import LogisticRegression\n",
        "from sklearn.metrics import confusion_matrix\n",
        "from sklearn.metrics import accuracy_score\n",
        "\n",
        "logistic = LogisticRegression(random_state = 42)\n",
        "logistic.fit(x_train_sm, y_train_sm)\n",
        "y_pred = logistic.predict(x_test)\n",
        "acc_1=accuracy_score(y_test, y_pred)\n",
        "accuracy1=round(acc_1*100,2)\n",
        "cm = confusion_matrix(y_test, y_pred)\n",
        "\n",
        "print (\"Confusion Matrix : \\n\", cm)\n",
        "print(accuracy1)"
      ],
      "metadata": {
        "colab": {
          "base_uri": "https://localhost:8080/"
        },
        "id": "oNcNQAXkUtM5",
        "outputId": "113e6443-a587-4407-b5c6-c2e1b75650f6"
      },
      "execution_count": 31,
      "outputs": [
        {
          "output_type": "stream",
          "name": "stdout",
          "text": [
            "Confusion Matrix : \n",
            " [[120  26]\n",
            " [ 22  63]]\n",
            "79.22\n"
          ]
        },
        {
          "output_type": "stream",
          "name": "stderr",
          "text": [
            "/usr/local/lib/python3.10/dist-packages/sklearn/linear_model/_logistic.py:458: ConvergenceWarning:\n",
            "\n",
            "lbfgs failed to converge (status=1):\n",
            "STOP: TOTAL NO. of ITERATIONS REACHED LIMIT.\n",
            "\n",
            "Increase the number of iterations (max_iter) or scale the data as shown in:\n",
            "    https://scikit-learn.org/stable/modules/preprocessing.html\n",
            "Please also refer to the documentation for alternative solver options:\n",
            "    https://scikit-learn.org/stable/modules/linear_model.html#logistic-regression\n",
            "\n"
          ]
        }
      ]
    },
    {
      "cell_type": "code",
      "source": [
        "print(classification_report(y_test,y_pred))\n",
        "print('The accuracy score of logistic regression is {}%'.format(accuracy1))"
      ],
      "metadata": {
        "colab": {
          "base_uri": "https://localhost:8080/"
        },
        "id": "4iZK_ehRU2Cg",
        "outputId": "08eca214-1be9-482c-f2ca-a79217e6ec1b"
      },
      "execution_count": 32,
      "outputs": [
        {
          "output_type": "stream",
          "name": "stdout",
          "text": [
            "              precision    recall  f1-score   support\n",
            "\n",
            "           0       0.85      0.82      0.83       146\n",
            "           1       0.71      0.74      0.72        85\n",
            "\n",
            "    accuracy                           0.79       231\n",
            "   macro avg       0.78      0.78      0.78       231\n",
            "weighted avg       0.79      0.79      0.79       231\n",
            "\n",
            "The accuracy score of logistic regression is 79.22%\n"
          ]
        }
      ]
    },
    {
      "cell_type": "markdown",
      "source": [
        "# **Decision tree**"
      ],
      "metadata": {
        "id": "vuxxHWahU_mh"
      }
    },
    {
      "cell_type": "code",
      "source": [
        "from sklearn.tree import DecisionTreeClassifier\n",
        "decision_tree = DecisionTreeClassifier()\n",
        "decision_tree.fit(x_train_sm,y_train_sm)\n",
        "y_pred4 = decision_tree.predict(x_test)\n",
        "acc_4 = accuracy_score(y_test, y_pred4)\n",
        "score4 = round(acc_4*100,2)\n",
        "print(classification_report(y_test,y_pred))\n",
        "print('The accuracy score of Decision tree is {}%'.format(score4))"
      ],
      "metadata": {
        "colab": {
          "base_uri": "https://localhost:8080/"
        },
        "id": "j6uoiNidU7lQ",
        "outputId": "3bbbb030-a9bf-44c8-dee2-aa49e0e25f31"
      },
      "execution_count": 34,
      "outputs": [
        {
          "output_type": "stream",
          "name": "stdout",
          "text": [
            "              precision    recall  f1-score   support\n",
            "\n",
            "           0       0.85      0.82      0.83       146\n",
            "           1       0.71      0.74      0.72        85\n",
            "\n",
            "    accuracy                           0.79       231\n",
            "   macro avg       0.78      0.78      0.78       231\n",
            "weighted avg       0.79      0.79      0.79       231\n",
            "\n",
            "The accuracy score of Decision tree is 72.73%\n"
          ]
        }
      ]
    },
    {
      "cell_type": "code",
      "source": [
        "humidity_classifier = DecisionTreeClassifier(criterion='entropy', max_leaf_nodes=10, random_state=0)\n",
        "humidity_classifier.fit(x_train, y_train)"
      ],
      "metadata": {
        "colab": {
          "base_uri": "https://localhost:8080/",
          "height": 74
        },
        "id": "rPlkZY9xnebt",
        "outputId": "801508c9-8591-47ee-c709-927a0c8eb1a7"
      },
      "execution_count": 37,
      "outputs": [
        {
          "output_type": "execute_result",
          "data": {
            "text/plain": [
              "DecisionTreeClassifier(criterion='entropy', max_leaf_nodes=10, random_state=0)"
            ],
            "text/html": [
              "<style>#sk-container-id-1 {color: black;background-color: white;}#sk-container-id-1 pre{padding: 0;}#sk-container-id-1 div.sk-toggleable {background-color: white;}#sk-container-id-1 label.sk-toggleable__label {cursor: pointer;display: block;width: 100%;margin-bottom: 0;padding: 0.3em;box-sizing: border-box;text-align: center;}#sk-container-id-1 label.sk-toggleable__label-arrow:before {content: \"▸\";float: left;margin-right: 0.25em;color: #696969;}#sk-container-id-1 label.sk-toggleable__label-arrow:hover:before {color: black;}#sk-container-id-1 div.sk-estimator:hover label.sk-toggleable__label-arrow:before {color: black;}#sk-container-id-1 div.sk-toggleable__content {max-height: 0;max-width: 0;overflow: hidden;text-align: left;background-color: #f0f8ff;}#sk-container-id-1 div.sk-toggleable__content pre {margin: 0.2em;color: black;border-radius: 0.25em;background-color: #f0f8ff;}#sk-container-id-1 input.sk-toggleable__control:checked~div.sk-toggleable__content {max-height: 200px;max-width: 100%;overflow: auto;}#sk-container-id-1 input.sk-toggleable__control:checked~label.sk-toggleable__label-arrow:before {content: \"▾\";}#sk-container-id-1 div.sk-estimator input.sk-toggleable__control:checked~label.sk-toggleable__label {background-color: #d4ebff;}#sk-container-id-1 div.sk-label input.sk-toggleable__control:checked~label.sk-toggleable__label {background-color: #d4ebff;}#sk-container-id-1 input.sk-hidden--visually {border: 0;clip: rect(1px 1px 1px 1px);clip: rect(1px, 1px, 1px, 1px);height: 1px;margin: -1px;overflow: hidden;padding: 0;position: absolute;width: 1px;}#sk-container-id-1 div.sk-estimator {font-family: monospace;background-color: #f0f8ff;border: 1px dotted black;border-radius: 0.25em;box-sizing: border-box;margin-bottom: 0.5em;}#sk-container-id-1 div.sk-estimator:hover {background-color: #d4ebff;}#sk-container-id-1 div.sk-parallel-item::after {content: \"\";width: 100%;border-bottom: 1px solid gray;flex-grow: 1;}#sk-container-id-1 div.sk-label:hover label.sk-toggleable__label {background-color: #d4ebff;}#sk-container-id-1 div.sk-serial::before {content: \"\";position: absolute;border-left: 1px solid gray;box-sizing: border-box;top: 0;bottom: 0;left: 50%;z-index: 0;}#sk-container-id-1 div.sk-serial {display: flex;flex-direction: column;align-items: center;background-color: white;padding-right: 0.2em;padding-left: 0.2em;position: relative;}#sk-container-id-1 div.sk-item {position: relative;z-index: 1;}#sk-container-id-1 div.sk-parallel {display: flex;align-items: stretch;justify-content: center;background-color: white;position: relative;}#sk-container-id-1 div.sk-item::before, #sk-container-id-1 div.sk-parallel-item::before {content: \"\";position: absolute;border-left: 1px solid gray;box-sizing: border-box;top: 0;bottom: 0;left: 50%;z-index: -1;}#sk-container-id-1 div.sk-parallel-item {display: flex;flex-direction: column;z-index: 1;position: relative;background-color: white;}#sk-container-id-1 div.sk-parallel-item:first-child::after {align-self: flex-end;width: 50%;}#sk-container-id-1 div.sk-parallel-item:last-child::after {align-self: flex-start;width: 50%;}#sk-container-id-1 div.sk-parallel-item:only-child::after {width: 0;}#sk-container-id-1 div.sk-dashed-wrapped {border: 1px dashed gray;margin: 0 0.4em 0.5em 0.4em;box-sizing: border-box;padding-bottom: 0.4em;background-color: white;}#sk-container-id-1 div.sk-label label {font-family: monospace;font-weight: bold;display: inline-block;line-height: 1.2em;}#sk-container-id-1 div.sk-label-container {text-align: center;}#sk-container-id-1 div.sk-container {/* jupyter's `normalize.less` sets `[hidden] { display: none; }` but bootstrap.min.css set `[hidden] { display: none !important; }` so we also need the `!important` here to be able to override the default hidden behavior on the sphinx rendered scikit-learn.org. See: https://github.com/scikit-learn/scikit-learn/issues/21755 */display: inline-block !important;position: relative;}#sk-container-id-1 div.sk-text-repr-fallback {display: none;}</style><div id=\"sk-container-id-1\" class=\"sk-top-container\"><div class=\"sk-text-repr-fallback\"><pre>DecisionTreeClassifier(criterion=&#x27;entropy&#x27;, max_leaf_nodes=10, random_state=0)</pre><b>In a Jupyter environment, please rerun this cell to show the HTML representation or trust the notebook. <br />On GitHub, the HTML representation is unable to render, please try loading this page with nbviewer.org.</b></div><div class=\"sk-container\" hidden><div class=\"sk-item\"><div class=\"sk-estimator sk-toggleable\"><input class=\"sk-toggleable__control sk-hidden--visually\" id=\"sk-estimator-id-1\" type=\"checkbox\" checked><label for=\"sk-estimator-id-1\" class=\"sk-toggleable__label sk-toggleable__label-arrow\">DecisionTreeClassifier</label><div class=\"sk-toggleable__content\"><pre>DecisionTreeClassifier(criterion=&#x27;entropy&#x27;, max_leaf_nodes=10, random_state=0)</pre></div></div></div></div></div>"
            ]
          },
          "metadata": {},
          "execution_count": 37
        }
      ]
    },
    {
      "cell_type": "code",
      "source": [
        "y_predicted = humidity_classifier.predict(x_test)"
      ],
      "metadata": {
        "id": "Lb0yHkn9npO-"
      },
      "execution_count": 38,
      "outputs": []
    },
    {
      "cell_type": "code",
      "source": [
        "from sklearn.tree import DecisionTreeClassifier, export_graphviz\n",
        "from sklearn import tree\n",
        "from IPython.display import SVG\n",
        "from graphviz import Source\n",
        "from IPython.display import display"
      ],
      "metadata": {
        "id": "GjkzrHltnunG"
      },
      "execution_count": 41,
      "outputs": []
    },
    {
      "cell_type": "code",
      "source": [
        "graph = Source(tree.export_graphviz(humidity_classifier, out_file=None\n",
        "   , feature_names=x_train.columns, class_names=['0', '1']\n",
        "   , filled = True))\n",
        "display(SVG(graph.pipe(format='svg')))"
      ],
      "metadata": {
        "colab": {
          "base_uri": "https://localhost:8080/",
          "height": 1000
        },
        "id": "D9d_NQBsntyw",
        "outputId": "b1c0263d-ef78-41ab-d206-87c3e95270d3"
      },
      "execution_count": 42,
      "outputs": [
        {
          "output_type": "display_data",
          "data": {
            "text/plain": [
              "<IPython.core.display.SVG object>"
            ],
            "image/svg+xml": "<svg xmlns=\"http://www.w3.org/2000/svg\" xmlns:xlink=\"http://www.w3.org/1999/xlink\" width=\"758pt\" height=\"790pt\" viewBox=\"0.00 0.00 758.00 790.00\">\n<g id=\"graph0\" class=\"graph\" transform=\"scale(1 1) rotate(0) translate(4 786)\">\n<title>Tree</title>\n<polygon fill=\"white\" stroke=\"transparent\" points=\"-4,4 -4,-786 754,-786 754,4 -4,4\"/>\n<!-- 0 -->\n<g id=\"node1\" class=\"node\">\n<title>0</title>\n<polygon fill=\"#f2c29f\" stroke=\"black\" points=\"319,-782 194,-782 194,-699 319,-699 319,-782\"/>\n<text text-anchor=\"middle\" x=\"256.5\" y=\"-766.8\" font-family=\"Helvetica,sans-Serif\" font-size=\"14.00\">Glucose &lt;= 127.5</text>\n<text text-anchor=\"middle\" x=\"256.5\" y=\"-751.8\" font-family=\"Helvetica,sans-Serif\" font-size=\"14.00\">entropy = 0.926</text>\n<text text-anchor=\"middle\" x=\"256.5\" y=\"-736.8\" font-family=\"Helvetica,sans-Serif\" font-size=\"14.00\">samples = 537</text>\n<text text-anchor=\"middle\" x=\"256.5\" y=\"-721.8\" font-family=\"Helvetica,sans-Serif\" font-size=\"14.00\">value = [354, 183]</text>\n<text text-anchor=\"middle\" x=\"256.5\" y=\"-706.8\" font-family=\"Helvetica,sans-Serif\" font-size=\"14.00\">class = 0</text>\n</g>\n<!-- 1 -->\n<g id=\"node2\" class=\"node\">\n<title>1</title>\n<polygon fill=\"#eba06a\" stroke=\"black\" points=\"246,-663 129,-663 129,-580 246,-580 246,-663\"/>\n<text text-anchor=\"middle\" x=\"187.5\" y=\"-647.8\" font-family=\"Helvetica,sans-Serif\" font-size=\"14.00\">BMI &lt;= 26.45</text>\n<text text-anchor=\"middle\" x=\"187.5\" y=\"-632.8\" font-family=\"Helvetica,sans-Serif\" font-size=\"14.00\">entropy = 0.72</text>\n<text text-anchor=\"middle\" x=\"187.5\" y=\"-617.8\" font-family=\"Helvetica,sans-Serif\" font-size=\"14.00\">samples = 342</text>\n<text text-anchor=\"middle\" x=\"187.5\" y=\"-602.8\" font-family=\"Helvetica,sans-Serif\" font-size=\"14.00\">value = [274, 68]</text>\n<text text-anchor=\"middle\" x=\"187.5\" y=\"-587.8\" font-family=\"Helvetica,sans-Serif\" font-size=\"14.00\">class = 0</text>\n</g>\n<!-- 0&#45;&gt;1 -->\n<g id=\"edge1\" class=\"edge\">\n<title>0-&gt;1</title>\n<path fill=\"none\" stroke=\"black\" d=\"M232.56,-698.91C227.42,-690.2 221.94,-680.9 216.63,-671.89\"/>\n<polygon fill=\"black\" stroke=\"black\" points=\"219.49,-669.86 211.4,-663.02 213.46,-673.41 219.49,-669.86\"/>\n<text text-anchor=\"middle\" x=\"205.15\" y=\"-683.53\" font-family=\"Helvetica,sans-Serif\" font-size=\"14.00\">True</text>\n</g>\n<!-- 2 -->\n<g id=\"node13\" class=\"node\">\n<title>2</title>\n<polygon fill=\"#c3e1f7\" stroke=\"black\" points=\"433,-663 316,-663 316,-580 433,-580 433,-663\"/>\n<text text-anchor=\"middle\" x=\"374.5\" y=\"-647.8\" font-family=\"Helvetica,sans-Serif\" font-size=\"14.00\">BMI &lt;= 28.15</text>\n<text text-anchor=\"middle\" x=\"374.5\" y=\"-632.8\" font-family=\"Helvetica,sans-Serif\" font-size=\"14.00\">entropy = 0.977</text>\n<text text-anchor=\"middle\" x=\"374.5\" y=\"-617.8\" font-family=\"Helvetica,sans-Serif\" font-size=\"14.00\">samples = 195</text>\n<text text-anchor=\"middle\" x=\"374.5\" y=\"-602.8\" font-family=\"Helvetica,sans-Serif\" font-size=\"14.00\">value = [80, 115]</text>\n<text text-anchor=\"middle\" x=\"374.5\" y=\"-587.8\" font-family=\"Helvetica,sans-Serif\" font-size=\"14.00\">class = 1</text>\n</g>\n<!-- 0&#45;&gt;2 -->\n<g id=\"edge12\" class=\"edge\">\n<title>0-&gt;2</title>\n<path fill=\"none\" stroke=\"black\" d=\"M297.44,-698.91C306.78,-689.65 316.78,-679.73 326.38,-670.21\"/>\n<polygon fill=\"black\" stroke=\"black\" points=\"329,-672.55 333.63,-663.02 324.07,-667.58 329,-672.55\"/>\n<text text-anchor=\"middle\" x=\"333.53\" y=\"-684.32\" font-family=\"Helvetica,sans-Serif\" font-size=\"14.00\">False</text>\n</g>\n<!-- 3 -->\n<g id=\"node3\" class=\"node\">\n<title>3</title>\n<polygon fill=\"#e6853f\" stroke=\"black\" points=\"111,-536.5 0,-536.5 0,-468.5 111,-468.5 111,-536.5\"/>\n<text text-anchor=\"middle\" x=\"55.5\" y=\"-521.3\" font-family=\"Helvetica,sans-Serif\" font-size=\"14.00\">entropy = 0.201</text>\n<text text-anchor=\"middle\" x=\"55.5\" y=\"-506.3\" font-family=\"Helvetica,sans-Serif\" font-size=\"14.00\">samples = 96</text>\n<text text-anchor=\"middle\" x=\"55.5\" y=\"-491.3\" font-family=\"Helvetica,sans-Serif\" font-size=\"14.00\">value = [93, 3]</text>\n<text text-anchor=\"middle\" x=\"55.5\" y=\"-476.3\" font-family=\"Helvetica,sans-Serif\" font-size=\"14.00\">class = 0</text>\n</g>\n<!-- 1&#45;&gt;3 -->\n<g id=\"edge2\" class=\"edge\">\n<title>1-&gt;3</title>\n<path fill=\"none\" stroke=\"black\" d=\"M141.7,-579.91C128.38,-568.1 113.85,-555.22 100.57,-543.45\"/>\n<polygon fill=\"black\" stroke=\"black\" points=\"102.72,-540.68 92.92,-536.67 98.08,-545.92 102.72,-540.68\"/>\n</g>\n<!-- 4 -->\n<g id=\"node4\" class=\"node\">\n<title>4</title>\n<polygon fill=\"#eeae80\" stroke=\"black\" points=\"246,-544 129,-544 129,-461 246,-461 246,-544\"/>\n<text text-anchor=\"middle\" x=\"187.5\" y=\"-528.8\" font-family=\"Helvetica,sans-Serif\" font-size=\"14.00\">Age &lt;= 27.5</text>\n<text text-anchor=\"middle\" x=\"187.5\" y=\"-513.8\" font-family=\"Helvetica,sans-Serif\" font-size=\"14.00\">entropy = 0.833</text>\n<text text-anchor=\"middle\" x=\"187.5\" y=\"-498.8\" font-family=\"Helvetica,sans-Serif\" font-size=\"14.00\">samples = 246</text>\n<text text-anchor=\"middle\" x=\"187.5\" y=\"-483.8\" font-family=\"Helvetica,sans-Serif\" font-size=\"14.00\">value = [181, 65]</text>\n<text text-anchor=\"middle\" x=\"187.5\" y=\"-468.8\" font-family=\"Helvetica,sans-Serif\" font-size=\"14.00\">class = 0</text>\n</g>\n<!-- 1&#45;&gt;4 -->\n<g id=\"edge3\" class=\"edge\">\n<title>1-&gt;4</title>\n<path fill=\"none\" stroke=\"black\" d=\"M187.5,-579.91C187.5,-571.65 187.5,-562.86 187.5,-554.3\"/>\n<polygon fill=\"black\" stroke=\"black\" points=\"191,-554.02 187.5,-544.02 184,-554.02 191,-554.02\"/>\n</g>\n<!-- 7 -->\n<g id=\"node5\" class=\"node\">\n<title>7</title>\n<polygon fill=\"#e99355\" stroke=\"black\" points=\"111,-417.5 0,-417.5 0,-349.5 111,-349.5 111,-417.5\"/>\n<text text-anchor=\"middle\" x=\"55.5\" y=\"-402.3\" font-family=\"Helvetica,sans-Serif\" font-size=\"14.00\">entropy = 0.544</text>\n<text text-anchor=\"middle\" x=\"55.5\" y=\"-387.3\" font-family=\"Helvetica,sans-Serif\" font-size=\"14.00\">samples = 112</text>\n<text text-anchor=\"middle\" x=\"55.5\" y=\"-372.3\" font-family=\"Helvetica,sans-Serif\" font-size=\"14.00\">value = [98, 14]</text>\n<text text-anchor=\"middle\" x=\"55.5\" y=\"-357.3\" font-family=\"Helvetica,sans-Serif\" font-size=\"14.00\">class = 0</text>\n</g>\n<!-- 4&#45;&gt;7 -->\n<g id=\"edge4\" class=\"edge\">\n<title>4-&gt;7</title>\n<path fill=\"none\" stroke=\"black\" d=\"M141.7,-460.91C128.38,-449.1 113.85,-436.22 100.57,-424.45\"/>\n<polygon fill=\"black\" stroke=\"black\" points=\"102.72,-421.68 92.92,-417.67 98.08,-426.92 102.72,-421.68\"/>\n</g>\n<!-- 8 -->\n<g id=\"node6\" class=\"node\">\n<title>8</title>\n<polygon fill=\"#f5ceb3\" stroke=\"black\" points=\"246,-425 129,-425 129,-342 246,-342 246,-425\"/>\n<text text-anchor=\"middle\" x=\"187.5\" y=\"-409.8\" font-family=\"Helvetica,sans-Serif\" font-size=\"14.00\">Glucose &lt;= 89.5</text>\n<text text-anchor=\"middle\" x=\"187.5\" y=\"-394.8\" font-family=\"Helvetica,sans-Serif\" font-size=\"14.00\">entropy = 0.958</text>\n<text text-anchor=\"middle\" x=\"187.5\" y=\"-379.8\" font-family=\"Helvetica,sans-Serif\" font-size=\"14.00\">samples = 134</text>\n<text text-anchor=\"middle\" x=\"187.5\" y=\"-364.8\" font-family=\"Helvetica,sans-Serif\" font-size=\"14.00\">value = [83, 51]</text>\n<text text-anchor=\"middle\" x=\"187.5\" y=\"-349.8\" font-family=\"Helvetica,sans-Serif\" font-size=\"14.00\">class = 0</text>\n</g>\n<!-- 4&#45;&gt;8 -->\n<g id=\"edge5\" class=\"edge\">\n<title>4-&gt;8</title>\n<path fill=\"none\" stroke=\"black\" d=\"M187.5,-460.91C187.5,-452.65 187.5,-443.86 187.5,-435.3\"/>\n<polygon fill=\"black\" stroke=\"black\" points=\"191,-435.02 187.5,-425.02 184,-435.02 191,-435.02\"/>\n</g>\n<!-- 11 -->\n<g id=\"node7\" class=\"node\">\n<title>11</title>\n<polygon fill=\"#e68742\" stroke=\"black\" points=\"148,-298.5 37,-298.5 37,-230.5 148,-230.5 148,-298.5\"/>\n<text text-anchor=\"middle\" x=\"92.5\" y=\"-283.3\" font-family=\"Helvetica,sans-Serif\" font-size=\"14.00\">entropy = 0.267</text>\n<text text-anchor=\"middle\" x=\"92.5\" y=\"-268.3\" font-family=\"Helvetica,sans-Serif\" font-size=\"14.00\">samples = 22</text>\n<text text-anchor=\"middle\" x=\"92.5\" y=\"-253.3\" font-family=\"Helvetica,sans-Serif\" font-size=\"14.00\">value = [21, 1]</text>\n<text text-anchor=\"middle\" x=\"92.5\" y=\"-238.3\" font-family=\"Helvetica,sans-Serif\" font-size=\"14.00\">class = 0</text>\n</g>\n<!-- 8&#45;&gt;11 -->\n<g id=\"edge6\" class=\"edge\">\n<title>8-&gt;11</title>\n<path fill=\"none\" stroke=\"black\" d=\"M154.54,-341.91C145.22,-330.43 135.08,-317.94 125.74,-306.44\"/>\n<polygon fill=\"black\" stroke=\"black\" points=\"128.45,-304.22 119.43,-298.67 123.02,-308.64 128.45,-304.22\"/>\n</g>\n<!-- 12 -->\n<g id=\"node8\" class=\"node\">\n<title>12</title>\n<polygon fill=\"#fae7d9\" stroke=\"black\" points=\"399,-306 166,-306 166,-223 399,-223 399,-306\"/>\n<text text-anchor=\"middle\" x=\"282.5\" y=\"-290.8\" font-family=\"Helvetica,sans-Serif\" font-size=\"14.00\">DiabetesPedigreeFunction &lt;= 0.619</text>\n<text text-anchor=\"middle\" x=\"282.5\" y=\"-275.8\" font-family=\"Helvetica,sans-Serif\" font-size=\"14.00\">entropy = 0.992</text>\n<text text-anchor=\"middle\" x=\"282.5\" y=\"-260.8\" font-family=\"Helvetica,sans-Serif\" font-size=\"14.00\">samples = 112</text>\n<text text-anchor=\"middle\" x=\"282.5\" y=\"-245.8\" font-family=\"Helvetica,sans-Serif\" font-size=\"14.00\">value = [62, 50]</text>\n<text text-anchor=\"middle\" x=\"282.5\" y=\"-230.8\" font-family=\"Helvetica,sans-Serif\" font-size=\"14.00\">class = 0</text>\n</g>\n<!-- 8&#45;&gt;12 -->\n<g id=\"edge7\" class=\"edge\">\n<title>8-&gt;12</title>\n<path fill=\"none\" stroke=\"black\" d=\"M220.46,-341.91C227.75,-332.92 235.56,-323.32 243.08,-314.05\"/>\n<polygon fill=\"black\" stroke=\"black\" points=\"246.01,-315.99 249.6,-306.02 240.58,-311.58 246.01,-315.99\"/>\n</g>\n<!-- 13 -->\n<g id=\"node9\" class=\"node\">\n<title>13</title>\n<polygon fill=\"#f3c4a2\" stroke=\"black\" points=\"262,-179.5 151,-179.5 151,-111.5 262,-111.5 262,-179.5\"/>\n<text text-anchor=\"middle\" x=\"206.5\" y=\"-164.3\" font-family=\"Helvetica,sans-Serif\" font-size=\"14.00\">entropy = 0.931</text>\n<text text-anchor=\"middle\" x=\"206.5\" y=\"-149.3\" font-family=\"Helvetica,sans-Serif\" font-size=\"14.00\">samples = 78</text>\n<text text-anchor=\"middle\" x=\"206.5\" y=\"-134.3\" font-family=\"Helvetica,sans-Serif\" font-size=\"14.00\">value = [51, 27]</text>\n<text text-anchor=\"middle\" x=\"206.5\" y=\"-119.3\" font-family=\"Helvetica,sans-Serif\" font-size=\"14.00\">class = 0</text>\n</g>\n<!-- 12&#45;&gt;13 -->\n<g id=\"edge8\" class=\"edge\">\n<title>12-&gt;13</title>\n<path fill=\"none\" stroke=\"black\" d=\"M256.13,-222.91C248.82,-211.65 240.87,-199.42 233.53,-188.11\"/>\n<polygon fill=\"black\" stroke=\"black\" points=\"236.43,-186.15 228.04,-179.67 230.56,-189.96 236.43,-186.15\"/>\n</g>\n<!-- 14 -->\n<g id=\"node10\" class=\"node\">\n<title>14</title>\n<polygon fill=\"#98ccf1\" stroke=\"black\" points=\"435,-187 280,-187 280,-104 435,-104 435,-187\"/>\n<text text-anchor=\"middle\" x=\"357.5\" y=\"-171.8\" font-family=\"Helvetica,sans-Serif\" font-size=\"14.00\">BloodPressure &lt;= 87.0</text>\n<text text-anchor=\"middle\" x=\"357.5\" y=\"-156.8\" font-family=\"Helvetica,sans-Serif\" font-size=\"14.00\">entropy = 0.908</text>\n<text text-anchor=\"middle\" x=\"357.5\" y=\"-141.8\" font-family=\"Helvetica,sans-Serif\" font-size=\"14.00\">samples = 34</text>\n<text text-anchor=\"middle\" x=\"357.5\" y=\"-126.8\" font-family=\"Helvetica,sans-Serif\" font-size=\"14.00\">value = [11, 23]</text>\n<text text-anchor=\"middle\" x=\"357.5\" y=\"-111.8\" font-family=\"Helvetica,sans-Serif\" font-size=\"14.00\">class = 1</text>\n</g>\n<!-- 12&#45;&gt;14 -->\n<g id=\"edge9\" class=\"edge\">\n<title>12-&gt;14</title>\n<path fill=\"none\" stroke=\"black\" d=\"M308.52,-222.91C314.16,-214.1 320.19,-204.7 326.02,-195.61\"/>\n<polygon fill=\"black\" stroke=\"black\" points=\"329.07,-197.33 331.53,-187.02 323.18,-193.55 329.07,-197.33\"/>\n</g>\n<!-- 15 -->\n<g id=\"node11\" class=\"node\">\n<title>15</title>\n<polygon fill=\"#75bbed\" stroke=\"black\" points=\"352,-68 241,-68 241,0 352,0 352,-68\"/>\n<text text-anchor=\"middle\" x=\"296.5\" y=\"-52.8\" font-family=\"Helvetica,sans-Serif\" font-size=\"14.00\">entropy = 0.784</text>\n<text text-anchor=\"middle\" x=\"296.5\" y=\"-37.8\" font-family=\"Helvetica,sans-Serif\" font-size=\"14.00\">samples = 30</text>\n<text text-anchor=\"middle\" x=\"296.5\" y=\"-22.8\" font-family=\"Helvetica,sans-Serif\" font-size=\"14.00\">value = [7, 23]</text>\n<text text-anchor=\"middle\" x=\"296.5\" y=\"-7.8\" font-family=\"Helvetica,sans-Serif\" font-size=\"14.00\">class = 1</text>\n</g>\n<!-- 14&#45;&gt;15 -->\n<g id=\"edge10\" class=\"edge\">\n<title>14-&gt;15</title>\n<path fill=\"none\" stroke=\"black\" d=\"M334.79,-103.73C329.96,-95.06 324.85,-85.9 320,-77.18\"/>\n<polygon fill=\"black\" stroke=\"black\" points=\"322.97,-75.33 315.05,-68.3 316.86,-78.74 322.97,-75.33\"/>\n</g>\n<!-- 16 -->\n<g id=\"node12\" class=\"node\">\n<title>16</title>\n<polygon fill=\"#e58139\" stroke=\"black\" points=\"466.5,-68 370.5,-68 370.5,0 466.5,0 466.5,-68\"/>\n<text text-anchor=\"middle\" x=\"418.5\" y=\"-52.8\" font-family=\"Helvetica,sans-Serif\" font-size=\"14.00\">entropy = 0.0</text>\n<text text-anchor=\"middle\" x=\"418.5\" y=\"-37.8\" font-family=\"Helvetica,sans-Serif\" font-size=\"14.00\">samples = 4</text>\n<text text-anchor=\"middle\" x=\"418.5\" y=\"-22.8\" font-family=\"Helvetica,sans-Serif\" font-size=\"14.00\">value = [4, 0]</text>\n<text text-anchor=\"middle\" x=\"418.5\" y=\"-7.8\" font-family=\"Helvetica,sans-Serif\" font-size=\"14.00\">class = 0</text>\n</g>\n<!-- 14&#45;&gt;16 -->\n<g id=\"edge11\" class=\"edge\">\n<title>14-&gt;16</title>\n<path fill=\"none\" stroke=\"black\" d=\"M380.21,-103.73C385.04,-95.06 390.15,-85.9 395,-77.18\"/>\n<polygon fill=\"black\" stroke=\"black\" points=\"398.14,-78.74 399.95,-68.3 392.03,-75.33 398.14,-78.74\"/>\n</g>\n<!-- 5 -->\n<g id=\"node14\" class=\"node\">\n<title>5</title>\n<polygon fill=\"#eeac7d\" stroke=\"black\" points=\"437,-544 312,-544 312,-461 437,-461 437,-544\"/>\n<text text-anchor=\"middle\" x=\"374.5\" y=\"-528.8\" font-family=\"Helvetica,sans-Serif\" font-size=\"14.00\">Glucose &lt;= 145.5</text>\n<text text-anchor=\"middle\" x=\"374.5\" y=\"-513.8\" font-family=\"Helvetica,sans-Serif\" font-size=\"14.00\">entropy = 0.82</text>\n<text text-anchor=\"middle\" x=\"374.5\" y=\"-498.8\" font-family=\"Helvetica,sans-Serif\" font-size=\"14.00\">samples = 43</text>\n<text text-anchor=\"middle\" x=\"374.5\" y=\"-483.8\" font-family=\"Helvetica,sans-Serif\" font-size=\"14.00\">value = [32, 11]</text>\n<text text-anchor=\"middle\" x=\"374.5\" y=\"-468.8\" font-family=\"Helvetica,sans-Serif\" font-size=\"14.00\">class = 0</text>\n</g>\n<!-- 2&#45;&gt;5 -->\n<g id=\"edge13\" class=\"edge\">\n<title>2-&gt;5</title>\n<path fill=\"none\" stroke=\"black\" d=\"M374.5,-579.91C374.5,-571.65 374.5,-562.86 374.5,-554.3\"/>\n<polygon fill=\"black\" stroke=\"black\" points=\"378,-554.02 374.5,-544.02 371,-554.02 378,-554.02\"/>\n</g>\n<!-- 6 -->\n<g id=\"node17\" class=\"node\">\n<title>6</title>\n<polygon fill=\"#94caf1\" stroke=\"black\" points=\"628,-544 503,-544 503,-461 628,-461 628,-544\"/>\n<text text-anchor=\"middle\" x=\"565.5\" y=\"-528.8\" font-family=\"Helvetica,sans-Serif\" font-size=\"14.00\">Glucose &lt;= 158.5</text>\n<text text-anchor=\"middle\" x=\"565.5\" y=\"-513.8\" font-family=\"Helvetica,sans-Serif\" font-size=\"14.00\">entropy = 0.9</text>\n<text text-anchor=\"middle\" x=\"565.5\" y=\"-498.8\" font-family=\"Helvetica,sans-Serif\" font-size=\"14.00\">samples = 152</text>\n<text text-anchor=\"middle\" x=\"565.5\" y=\"-483.8\" font-family=\"Helvetica,sans-Serif\" font-size=\"14.00\">value = [48, 104]</text>\n<text text-anchor=\"middle\" x=\"565.5\" y=\"-468.8\" font-family=\"Helvetica,sans-Serif\" font-size=\"14.00\">class = 1</text>\n</g>\n<!-- 2&#45;&gt;6 -->\n<g id=\"edge16\" class=\"edge\">\n<title>2-&gt;6</title>\n<path fill=\"none\" stroke=\"black\" d=\"M433.1,-584.6C452.3,-572.84 473.86,-559.64 493.9,-547.36\"/>\n<polygon fill=\"black\" stroke=\"black\" points=\"496,-550.18 502.69,-541.97 492.34,-544.21 496,-550.18\"/>\n</g>\n<!-- 17 -->\n<g id=\"node15\" class=\"node\">\n<title>17</title>\n<polygon fill=\"#e78c4a\" stroke=\"black\" points=\"375,-417.5 264,-417.5 264,-349.5 375,-349.5 375,-417.5\"/>\n<text text-anchor=\"middle\" x=\"319.5\" y=\"-402.3\" font-family=\"Helvetica,sans-Serif\" font-size=\"14.00\">entropy = 0.402</text>\n<text text-anchor=\"middle\" x=\"319.5\" y=\"-387.3\" font-family=\"Helvetica,sans-Serif\" font-size=\"14.00\">samples = 25</text>\n<text text-anchor=\"middle\" x=\"319.5\" y=\"-372.3\" font-family=\"Helvetica,sans-Serif\" font-size=\"14.00\">value = [23, 2]</text>\n<text text-anchor=\"middle\" x=\"319.5\" y=\"-357.3\" font-family=\"Helvetica,sans-Serif\" font-size=\"14.00\">class = 0</text>\n</g>\n<!-- 5&#45;&gt;17 -->\n<g id=\"edge14\" class=\"edge\">\n<title>5-&gt;17</title>\n<path fill=\"none\" stroke=\"black\" d=\"M355.42,-460.91C350.23,-449.87 344.6,-437.9 339.37,-426.77\"/>\n<polygon fill=\"black\" stroke=\"black\" points=\"342.51,-425.23 335.09,-417.67 336.18,-428.21 342.51,-425.23\"/>\n</g>\n<!-- 18 -->\n<g id=\"node16\" class=\"node\">\n<title>18</title>\n<polygon fill=\"#ffffff\" stroke=\"black\" points=\"491.5,-417.5 393.5,-417.5 393.5,-349.5 491.5,-349.5 491.5,-417.5\"/>\n<text text-anchor=\"middle\" x=\"442.5\" y=\"-402.3\" font-family=\"Helvetica,sans-Serif\" font-size=\"14.00\">entropy = 1.0</text>\n<text text-anchor=\"middle\" x=\"442.5\" y=\"-387.3\" font-family=\"Helvetica,sans-Serif\" font-size=\"14.00\">samples = 18</text>\n<text text-anchor=\"middle\" x=\"442.5\" y=\"-372.3\" font-family=\"Helvetica,sans-Serif\" font-size=\"14.00\">value = [9, 9]</text>\n<text text-anchor=\"middle\" x=\"442.5\" y=\"-357.3\" font-family=\"Helvetica,sans-Serif\" font-size=\"14.00\">class = 0</text>\n</g>\n<!-- 5&#45;&gt;18 -->\n<g id=\"edge15\" class=\"edge\">\n<title>5-&gt;18</title>\n<path fill=\"none\" stroke=\"black\" d=\"M398.09,-460.91C404.57,-449.76 411.6,-437.66 418.13,-426.44\"/>\n<polygon fill=\"black\" stroke=\"black\" points=\"421.22,-428.07 423.22,-417.67 415.17,-424.55 421.22,-428.07\"/>\n</g>\n<!-- 9 -->\n<g id=\"node18\" class=\"node\">\n<title>9</title>\n<polygon fill=\"#cde6f8\" stroke=\"black\" points=\"621,-417.5 510,-417.5 510,-349.5 621,-349.5 621,-417.5\"/>\n<text text-anchor=\"middle\" x=\"565.5\" y=\"-402.3\" font-family=\"Helvetica,sans-Serif\" font-size=\"14.00\">entropy = 0.985</text>\n<text text-anchor=\"middle\" x=\"565.5\" y=\"-387.3\" font-family=\"Helvetica,sans-Serif\" font-size=\"14.00\">samples = 96</text>\n<text text-anchor=\"middle\" x=\"565.5\" y=\"-372.3\" font-family=\"Helvetica,sans-Serif\" font-size=\"14.00\">value = [41, 55]</text>\n<text text-anchor=\"middle\" x=\"565.5\" y=\"-357.3\" font-family=\"Helvetica,sans-Serif\" font-size=\"14.00\">class = 1</text>\n</g>\n<!-- 6&#45;&gt;9 -->\n<g id=\"edge17\" class=\"edge\">\n<title>6-&gt;9</title>\n<path fill=\"none\" stroke=\"black\" d=\"M565.5,-460.91C565.5,-450.2 565.5,-438.62 565.5,-427.78\"/>\n<polygon fill=\"black\" stroke=\"black\" points=\"569,-427.67 565.5,-417.67 562,-427.67 569,-427.67\"/>\n</g>\n<!-- 10 -->\n<g id=\"node19\" class=\"node\">\n<title>10</title>\n<polygon fill=\"#55abe9\" stroke=\"black\" points=\"750,-417.5 639,-417.5 639,-349.5 750,-349.5 750,-417.5\"/>\n<text text-anchor=\"middle\" x=\"694.5\" y=\"-402.3\" font-family=\"Helvetica,sans-Serif\" font-size=\"14.00\">entropy = 0.544</text>\n<text text-anchor=\"middle\" x=\"694.5\" y=\"-387.3\" font-family=\"Helvetica,sans-Serif\" font-size=\"14.00\">samples = 56</text>\n<text text-anchor=\"middle\" x=\"694.5\" y=\"-372.3\" font-family=\"Helvetica,sans-Serif\" font-size=\"14.00\">value = [7, 49]</text>\n<text text-anchor=\"middle\" x=\"694.5\" y=\"-357.3\" font-family=\"Helvetica,sans-Serif\" font-size=\"14.00\">class = 1</text>\n</g>\n<!-- 6&#45;&gt;10 -->\n<g id=\"edge18\" class=\"edge\">\n<title>6-&gt;10</title>\n<path fill=\"none\" stroke=\"black\" d=\"M610.26,-460.91C623.27,-449.1 637.48,-436.22 650.45,-424.45\"/>\n<polygon fill=\"black\" stroke=\"black\" points=\"652.88,-426.98 657.93,-417.67 648.17,-421.79 652.88,-426.98\"/>\n</g>\n</g>\n</svg>"
          },
          "metadata": {}
        }
      ]
    },
    {
      "cell_type": "markdown",
      "source": [
        "# **KNN**"
      ],
      "metadata": {
        "id": "clVq8OEjj2v5"
      }
    },
    {
      "cell_type": "code",
      "source": [
        "from sklearn.neighbors import KNeighborsClassifier\n",
        "\n",
        "k_neighbors = KNeighborsClassifier()\n",
        "k_neighbors.fit(x_train_sm,y_train_sm)\n",
        "y_pred2 = k_neighbors.predict(x_test)\n",
        "acc_2 = accuracy_score(y_test, y_pred2)\n",
        "accuracy2=round(acc_2*100,2)\n",
        "print(classification_report(y_test,y_pred))\n",
        "print('The accuracy score of k nearest neighbors is {}%'.format(accuracy2))\n"
      ],
      "metadata": {
        "id": "7xmJ1Z1RVGFH",
        "colab": {
          "base_uri": "https://localhost:8080/"
        },
        "outputId": "41ec14df-c537-49a5-f54f-9b547ad2d379"
      },
      "execution_count": 35,
      "outputs": [
        {
          "output_type": "stream",
          "name": "stdout",
          "text": [
            "              precision    recall  f1-score   support\n",
            "\n",
            "           0       0.85      0.82      0.83       146\n",
            "           1       0.71      0.74      0.72        85\n",
            "\n",
            "    accuracy                           0.79       231\n",
            "   macro avg       0.78      0.78      0.78       231\n",
            "weighted avg       0.79      0.79      0.79       231\n",
            "\n",
            "The accuracy score of k nearest neighbors is 71.86%\n"
          ]
        }
      ]
    },
    {
      "cell_type": "markdown",
      "source": [
        "# **Randon Forest**"
      ],
      "metadata": {
        "id": "uzmpZ3ZHkO9f"
      }
    },
    {
      "cell_type": "code",
      "source": [
        "from sklearn.ensemble import RandomForestClassifier\n",
        "random_forest = RandomForestClassifier(random_state = 42)\n",
        "random_forest.fit(x_train_sm, y_train_sm)\n",
        "\n",
        "ran = random_forest.predict(x_train)\n",
        "\n",
        "y_pred5 = random_forest.predict(x_test)\n",
        "acc_5 = accuracy_score(y_test, y_pred5)\n",
        "score5 = round(acc_5*100,2)\n",
        "print(classification_report(y_test,y_pred))\n",
        "print('The accuracy score of random forest is {}%'.format(score5))"
      ],
      "metadata": {
        "colab": {
          "base_uri": "https://localhost:8080/"
        },
        "id": "H4u4OlhLj_a2",
        "outputId": "eae549b7-74b2-4f8d-fc65-e58e633dfb2e"
      },
      "execution_count": 36,
      "outputs": [
        {
          "output_type": "stream",
          "name": "stdout",
          "text": [
            "              precision    recall  f1-score   support\n",
            "\n",
            "           0       0.85      0.82      0.83       146\n",
            "           1       0.71      0.74      0.72        85\n",
            "\n",
            "    accuracy                           0.79       231\n",
            "   macro avg       0.78      0.78      0.78       231\n",
            "weighted avg       0.79      0.79      0.79       231\n",
            "\n",
            "The accuracy score of random forest is 80.95%\n"
          ]
        }
      ]
    },
    {
      "cell_type": "code",
      "source": [],
      "metadata": {
        "id": "7NNwTH9pkUHs"
      },
      "execution_count": null,
      "outputs": []
    }
  ]
}